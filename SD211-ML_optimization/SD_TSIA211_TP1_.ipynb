{
 "cells": [
  {
   "cell_type": "markdown",
   "metadata": {
    "id": "h_rF3_i_8_NM"
   },
   "source": [
    "# TP1. Recommender systems"
   ]
  },
  {
   "cell_type": "code",
   "execution_count": 3,
   "metadata": {
    "id": "p81tXunB8_NU"
   },
   "outputs": [],
   "source": [
    "import movielens_utils as mlu\n",
    "import numpy as np\n",
    "from scipy import sparse\n",
    "import scipy.sparse.linalg as la # comme indiquer dans l'enoncé pour initialiser Q0 et P0\n",
    "import requests, zipfile, io"
   ]
  },
  {
   "cell_type": "markdown",
   "metadata": {
    "id": "buE__FaB8_NV"
   },
   "source": [
    "# 1.Presentation of the model"
   ]
  },
  {
   "cell_type": "markdown",
   "metadata": {
    "id": "9QC5dTo-8_NV"
   },
   "source": [
    "# Question 1 "
   ]
  },
  {
   "cell_type": "code",
   "execution_count": 4,
   "metadata": {
    "colab": {
     "base_uri": "https://localhost:8080/"
    },
    "id": "dOycJ-Tj8_NV",
    "outputId": "0dd64ee6-2f7b-4360-c956-ab2f465b4be1"
   },
   "outputs": [
    {
     "data": {
      "text/plain": [
       "(943, 1682)"
      ]
     },
     "execution_count": 4,
     "metadata": {
      "tags": []
     },
     "output_type": "execute_result"
    }
   ],
   "source": [
    "#We start with the importation of Datafile : \n",
    "Url=\"http://files.grouplens.org/datasets/movielens/ml-100k.zip\"\n",
    "File = requests.get(Url)\n",
    "File = zipfile.ZipFile(io.BytesIO(File.content))\n",
    "File.extractall()\n",
    "filename=\"ml-100k/u.data\"\n",
    "#We use the function defined in the movielens_utils.py\n",
    "R, mask = mlu.load_movielens(filename, minidata=False)\n",
    "R.shape"
   ]
  },
  {
   "cell_type": "markdown",
   "metadata": {
    "id": "l5R6pk3b8_NX"
   },
   "source": [
    "We check that the matrix R has size 943 × 1682.\n",
    "To determine what the minidata option is doing, we should run the load_movielens function with minidata takes \"True\" and we will compare the outputs"
   ]
  },
  {
   "cell_type": "code",
   "execution_count": 5,
   "metadata": {
    "colab": {
     "base_uri": "https://localhost:8080/"
    },
    "id": "9-i1P0BS8_NX",
    "outputId": "ae3cd1b3-492f-44cb-ae39-3c1288e4324b"
   },
   "outputs": [
    {
     "data": {
      "text/plain": [
       "(100, 200)"
      ]
     },
     "execution_count": 5,
     "metadata": {
      "tags": []
     },
     "output_type": "execute_result"
    }
   ],
   "source": [
    "R1, mask1 = mlu.load_movielens(filename, minidata=True)\n",
    "R1.shape"
   ]
  },
  {
   "cell_type": "markdown",
   "metadata": {
    "id": "Gn51_X7f8_NY"
   },
   "source": [
    "Based on this results, we can conclude that when minidata=\"True\", we have a reduced matrix with (100,200) as a shape.\n",
    "Even, if we analysis the code of \"load_movielens\" function in the \"movielens_utils.py\" file we find that when minidata=\"True\" we set the matrix's size to (100,200)"
   ]
  },
  {
   "cell_type": "markdown",
   "metadata": {
    "id": "82tMOh-b8_NY"
   },
   "source": [
    "# Question 2 "
   ]
  },
  {
   "cell_type": "code",
   "execution_count": 6,
   "metadata": {
    "colab": {
     "base_uri": "https://localhost:8080/"
    },
    "id": "fZ_Earjw8_NY",
    "outputId": "4f619425-0cc6-47c7-b168-0a6d34d30191"
   },
   "outputs": [
    {
     "name": "stdout",
     "output_type": "stream",
     "text": [
      "The number of users in the Database 943\n",
      "The number of movies in the Database 1682\n",
      "The total number of grades 100000\n"
     ]
    }
   ],
   "source": [
    "print(\"The number of users in the Database\", np.shape(R)[0])\n",
    "print(\"The number of movies in the Database\", np.shape(R)[1])\n",
    "grades= mask[mask==True]\n",
    "print(\"The total number of grades\",np.shape(grades)[0])"
   ]
  },
  {
   "cell_type": "markdown",
   "metadata": {
    "id": "vgEzjZQS8_NZ"
   },
   "source": [
    "# 2. Find P when Q0 is fixed"
   ]
  },
  {
   "cell_type": "markdown",
   "metadata": {
    "id": "ygSLqTOz8_NZ"
   },
   "source": [
    "$g(P) = \\frac{1}{2} ||\\mathbb{1}_{K}\\circ(R-Q^0 P)||_{F}^2 + \\frac{\\rho}{2}||Q^0||_{F}^2+ \\frac{\\rho}{2}||P||_{F}^2 $\n",
    "\n",
    "$P^{1} = argmin_{P} g(P)$"
   ]
  },
  {
   "cell_type": "markdown",
   "metadata": {
    "id": "lyvTRcv38_NZ"
   },
   "source": [
    "# Question 1 "
   ]
  },
  {
   "cell_type": "markdown",
   "metadata": {
    "id": "O6eJNqZd8_NZ"
   },
   "source": [
    "$g (P+H)  = \\frac {1}{2} || \\mathbb{1}_{K} \t\\circ (R - (Q^0(P+H)||_{F} ^ 2 + \\frac{\\rho}{2}||Q^0||_{F}^2+ \\frac{\\rho}{2}||P+H||_{F}^2 $\n",
    "$ \\quad \\quad  \\quad  \\quad  \\quad \\quad \\quad \\quad \\quad = \\frac {1}{2} || \\mathbb{1}_{K} \t\\circ (R - Q^0P)||_{F} ^ 2 - <\\mathbb{1}_{K} \t\\circ (R - Q^0P),\\mathbb{1}_{K} \t\\circ Q^0H> + \\frac {1}{2} || \\mathbb{1}_{K} \t\\circ Q^0H||_{F} ^ 2  + \\frac{\\rho}{2}||Q^0||_{F}^2+ \\frac{\\rho}{2}||P+H||_{F}^2 $\n",
    "\n",
    "$ \\quad \\quad  \\quad  \\quad  \\quad \\quad \\quad \\quad \\quad= g(P)- <\\mathbb{1}_{K} \t\\circ (R - Q^0P),\\mathbb{1}_{K} \t\\circ Q^0H> + {\\rho}{} <P,H> +o(H)$\n",
    "\n",
    "$ \\quad \\quad  \\quad  \\quad  \\quad \\quad \\quad \\quad \\quad = g(P)- <\\mathbb{1}_{K} \t\\circ (R - Q^0P),Q^0H> + {\\rho}{} <P,H> + o(H)$\n",
    "\n",
    "$ \\quad \\quad  \\quad  \\quad  \\quad \\quad \\quad \\quad \\quad= g(P)- tr ((\\mathbb{1}_{K} \t\\circ (R - Q^0P))^{t} Q^0H) + {\\rho}{} <P,H> + o(H)$\n",
    "\n",
    "$ \\quad \\quad  \\quad  \\quad  \\quad \\quad \\quad \\quad \\quad = g(P)- tr (Q^0(\\mathbb{1}_{K} \t\\circ (R - Q^0P))^{t} H) + {\\rho}{} <P,H> + o(H)$\n",
    "\n",
    "$ \\quad \\quad  \\quad  \\quad  \\quad \\quad \\quad \\quad \\quad = g(P)- <\\mathbb{1}_{K} \t\\circ (R - QP)(Q^0)^{t},H> + {\\rho}{} <P,H> + o(H)$\n",
    "\n",
    "$\\Rightarrow $\n",
    "\n",
    "\n",
    "\n",
    "Le gradient de g quand Q est fixé à $Q^{0}$: \n",
    "\n",
    "\n",
    "$\\nabla g(P) = -  (Q^0 )^{t} ( \\mathbb{1}_{K} \t\\circ (R - Q^0 P))  + \\rho P $"
   ]
  },
  {
   "cell_type": "markdown",
   "metadata": {
    "id": "q7NI25tx8_Na"
   },
   "source": [
    "# Question 2 "
   ]
  },
  {
   "cell_type": "markdown",
   "metadata": {
    "id": "0c9fbtYc8_Na"
   },
   "source": [
    "In order to use the Objective function,\n",
    "we have already R, mask \n",
    "and we should define the entries : \n",
    "P0,Q0 and rho "
   ]
  },
  {
   "cell_type": "code",
   "execution_count": 7,
   "metadata": {
    "colab": {
     "base_uri": "https://localhost:8080/"
    },
    "id": "5ftcVC3H8_Nb",
    "outputId": "be0cb781-bf5f-4419-94b3-f042e7ec8b27"
   },
   "outputs": [
    {
     "data": {
      "text/plain": [
       "array([[ 0.0171636 , -0.01418805,  0.08434724,  0.00613256,  0.00597506,\n",
       "        -0.06580431],\n",
       "       [ 0.00576029,  0.01546749, -0.01628247, -0.05257856, -0.04662602,\n",
       "        -0.01402104],\n",
       "       [ 0.00385011, -0.04405688, -0.02856416, -0.02336183, -0.02561845,\n",
       "        -0.00565798],\n",
       "       ...,\n",
       "       [-0.02334382,  0.01299746,  0.01406097, -0.00616532, -0.02502129,\n",
       "        -0.00744452],\n",
       "       [-0.03853682, -0.00999623, -0.07353537, -0.02288736,  0.00809611,\n",
       "        -0.02403119],\n",
       "       [ 0.00629468, -0.01500904,  0.03503116,  0.05854604, -0.01092715,\n",
       "        -0.04224209]])"
      ]
     },
     "execution_count": 7,
     "metadata": {
      "tags": []
     },
     "output_type": "execute_result"
    }
   ],
   "source": [
    "#we will take c=6 (default value of k)\n",
    "Q0 = la.svds(R)[0] #left\n",
    "Q0"
   ]
  },
  {
   "cell_type": "code",
   "execution_count": 8,
   "metadata": {
    "colab": {
     "base_uri": "https://localhost:8080/"
    },
    "id": "7NholKFs8_Nb",
    "outputId": "552d761b-3ed9-46ee-f04c-463f2ae13a62"
   },
   "outputs": [
    {
     "data": {
      "text/plain": [
       "array([[-1.09450423e-01,  1.65124409e-02,  3.15625577e-02, ...,\n",
       "         2.87094907e-04, -1.29605216e-04,  1.40520504e-03],\n",
       "       [-1.40506066e-01,  4.07576953e-02,  4.40179971e-03, ...,\n",
       "         1.19226167e-03,  4.52926930e-04,  3.74608136e-04],\n",
       "       [-1.62060750e-02, -3.23391424e-03, -4.88005961e-02, ...,\n",
       "         9.53260775e-04, -7.73342642e-05, -1.74971250e-03],\n",
       "       [-1.69737618e-02, -6.25039193e-02, -1.16405039e-02, ...,\n",
       "         5.33024145e-04, -4.54336533e-04, -2.61400068e-04],\n",
       "       [-8.72397853e-02, -7.02505798e-03, -2.86181725e-02, ...,\n",
       "        -4.48134760e-04,  1.05231342e-04,  2.03151884e-04],\n",
       "       [ 9.59509371e-02,  3.51795155e-02,  1.99288117e-02, ...,\n",
       "         3.03747116e-05,  3.31055915e-04,  3.16852950e-04]])"
      ]
     },
     "execution_count": 8,
     "metadata": {
      "tags": []
     },
     "output_type": "execute_result"
    }
   ],
   "source": [
    "P0 = la.svds(R)[2] #right\n",
    "P0"
   ]
  },
  {
   "cell_type": "code",
   "execution_count": 9,
   "metadata": {
    "colab": {
     "base_uri": "https://localhost:8080/"
    },
    "id": "Rpgf9r1Z8_Nb",
    "outputId": "2d07b345-748a-4c6a-a5ed-98265413bdf3"
   },
   "outputs": [
    {
     "data": {
      "text/plain": [
       "6.199999999999992"
      ]
     },
     "execution_count": 9,
     "metadata": {
      "tags": []
     },
     "output_type": "execute_result"
    }
   ],
   "source": [
    "rho=0.2\n",
    "L0 = rho + np.sum(((np.transpose(Q0)).dot(Q0))**2)\n",
    "L0"
   ]
  },
  {
   "cell_type": "code",
   "execution_count": 10,
   "metadata": {
    "colab": {
     "base_uri": "https://localhost:8080/"
    },
    "id": "r_SBZzil8_Nc",
    "outputId": "61b8caf6-0c4c-4d6e-daef-a887d386f3c4"
   },
   "outputs": [
    {
     "name": "stdout",
     "output_type": "stream",
     "text": [
      "The function's value equal to 687139.4322313278\n",
      "The gradient is  [[ 1.58728023e+01 -2.40534347e+00 -4.59731544e+00 ... -4.18257477e-02\n",
      "   1.88802318e-02 -2.04706508e-01]\n",
      " [-2.23207806e+01  6.47393521e+00  7.00890047e-01 ...  1.88885941e-01\n",
      "   7.17501641e-02  5.93443051e-02]\n",
      " [-2.56660810e+00 -5.19762124e-01 -7.78642305e+00 ...  1.51919599e-01\n",
      "  -1.23236894e-02 -2.78831972e-01]\n",
      " [-3.70436282e+00 -1.36556347e+01 -2.53930497e+00 ...  1.16234667e-01\n",
      "  -9.90679431e-02 -5.69991362e-02]\n",
      " [ 2.13157387e+01  1.72333398e+00  6.99935704e+00 ...  1.09640221e-01\n",
      "  -2.57438216e-02 -4.96999401e-02]\n",
      " [ 6.15729153e+01  2.25746848e+01  1.27769274e+01 ...  1.94669404e-02\n",
      "   2.12155141e-01  2.03056576e-01]]\n"
     ]
    }
   ],
   "source": [
    "val0 = mlu.objective(P0, Q0, R, mask, 0.2)[0]\n",
    "\n",
    "grad_P0=mlu.objective(P0, Q0, R, mask, 0.2)[1]\n",
    "print(\"The function's value equal to\", val0)\n",
    "print(\"The gradient is \",grad_P0)"
   ]
  },
  {
   "cell_type": "markdown",
   "metadata": {
    "id": "-w570t_38_Nc"
   },
   "source": [
    "Now, we are going to check calculations with the function scipy.optimize.check grad"
   ]
  },
  {
   "cell_type": "code",
   "execution_count": 11,
   "metadata": {
    "id": "aA2VCP0o8_Nc"
   },
   "outputs": [],
   "source": [
    "from scipy.optimize import check_grad\n",
    "from numpy import ravel\n",
    "from numpy import reshape\n",
    "\n",
    "#to use check_grad we need to construct two functions : \n",
    "#func_g : Function whose derivative is to be checked\n",
    "#grad_g : Gradient of func_g\n",
    "#x0 : Points to check grad against forward difference approximation of grad_g using func_g.\n",
    "\n",
    "def func_g(P):\n",
    "    P = reshape(P, (6, 1682))\n",
    "    return mlu.objective(P, Q0, R, mask, 0.2)[0]\n",
    "def grad_g(P):\n",
    "    P = reshape(P, (6, 1682))\n",
    "    return ravel(mlu.objective(P, Q0, R, mask, 0.2)[1])"
   ]
  },
  {
   "cell_type": "code",
   "execution_count": 12,
   "metadata": {
    "colab": {
     "base_uri": "https://localhost:8080/"
    },
    "id": "-h1TIpf-8_Nc",
    "outputId": "098f474e-87be-4f22-8810-9c8e7013b8f3"
   },
   "outputs": [
    {
     "name": "stdout",
     "output_type": "stream",
     "text": [
      "The error of the difference is equal to  : 1.195485 \n"
     ]
    }
   ],
   "source": [
    "erreur = check_grad(func_g,grad_g,ravel(P0));\n",
    "print(\"The error of the difference is equal to  : %f \" % erreur)"
   ]
  },
  {
   "cell_type": "markdown",
   "metadata": {
    "id": "ylLSKezF8_Nd"
   },
   "source": [
    "# Question 3 "
   ]
  },
  {
   "cell_type": "markdown",
   "metadata": {
    "id": "1-azk3GF8_Nd"
   },
   "source": [
    "The constant step descent gradient algorithm is impemented as follows : \n",
    "- $P \\leftarrow P_0$\n",
    "- Do: \n",
    " - $\\quad P_{k+1} \\leftarrow P_k - \\gamma\\nabla g (P_k) \\quad$ s.t $\\gamma$ the constant step size\n",
    "- Until $||\\nabla g(P_k )||_F ≤ \\epsilon$"
   ]
  },
  {
   "cell_type": "code",
   "execution_count": 13,
   "metadata": {
    "id": "1K196MrG8_Nd"
   },
   "outputs": [],
   "source": [
    "#In this case, we will use the constants as defined above :\n",
    "#rho=0.2\n",
    "#P0,Q0,R and mask derived from the previous questions\n",
    "\n",
    "def gradient(g, P0, gamma, epsilon):\n",
    "    P = P0\n",
    "    val,grad_P = g(P, Q0, R, mask,rho)\n",
    "    while True:\n",
    "        P = P - gamma*grad_P \n",
    "        val,grad_P = g(P, Q0, R, mask, rho)\n",
    "        if ( ( (np.sum(grad_P ** 2))**(0.5) ) <= epsilon):\n",
    "            break\n",
    "    return P,val"
   ]
  },
  {
   "cell_type": "markdown",
   "metadata": {
    "id": "0VuDgq3o8_Nd"
   },
   "source": [
    "# Question 4 : "
   ]
  },
  {
   "cell_type": "code",
   "execution_count": 14,
   "metadata": {
    "colab": {
     "base_uri": "https://localhost:8080/"
    },
    "id": "qZIldnxs8_Ne",
    "outputId": "81ba31fb-eae0-4702-8a0b-f6db053d1f1b"
   },
   "outputs": [
    {
     "name": "stdout",
     "output_type": "stream",
     "text": [
      "The optimistic value obtained with this algorithm is  \n",
      " 303938.342802\n",
      "\n",
      "\n",
      "The matrix is : \n",
      "[[-1.90939092e+01 -2.35201990e+00  4.37605257e+00 ...  1.84411029e-01\n",
      "  -8.85578886e-02  9.12566149e-01]\n",
      " [ 1.89247086e+01 -4.07858366e+00  3.15327673e+00 ... -8.30524722e-01\n",
      "  -3.35625727e-01 -2.63828641e-01]\n",
      " [ 2.55598379e+00 -4.41469975e-01  1.13478859e+01 ... -6.67990232e-01\n",
      "   5.76469663e-02  1.23962074e+00]\n",
      " [-2.22350609e+00  1.41579571e+01  2.81860724e+00 ... -5.11263438e-01\n",
      "   4.63576349e-01  2.53493739e-01]\n",
      " [-1.86184994e+01 -4.05920658e-01 -1.27424681e+01 ... -4.83128346e-01\n",
      "   1.20682124e-01  2.21430836e-01]\n",
      " [-6.21125280e+01 -3.16763720e+01 -2.28577146e+01 ... -8.56801558e-02\n",
      "  -9.93378057e-01 -9.03627443e-01]]\n"
     ]
    }
   ],
   "source": [
    "epsilon = 1\n",
    "g = mlu.objective #as defined in \"movielens.py\" the function \"Objective\" corresponds to the g function\n",
    "#As we define in the course, gamma will be equal to 1/L0 s.t L0 is the Lipschitz constant calculated before\n",
    "P_opt, val_opt = gradient(g,P0, 1/L0,epsilon) \n",
    "\n",
    "print(\"The optimistic value obtained with this algorithm is  \\n %f\" % val_opt)\n",
    "print(\"\\n\")\n",
    "print('The matrix is : ' )\n",
    "print(P_opt)"
   ]
  },
  {
   "cell_type": "code",
   "execution_count": 15,
   "metadata": {
    "colab": {
     "base_uri": "https://localhost:8080/"
    },
    "id": "USSFqXfY8_Ne",
    "outputId": "5fcd1647-4a0d-40f6-e99b-f823f391d12f"
   },
   "outputs": [
    {
     "data": {
      "text/plain": [
       "(6, 1682)"
      ]
     },
     "execution_count": 15,
     "metadata": {
      "tags": []
     },
     "output_type": "execute_result"
    }
   ],
   "source": [
    "P_opt.shape"
   ]
  },
  {
   "cell_type": "markdown",
   "metadata": {
    "id": "eycxF_wQ8_Ne"
   },
   "source": [
    "# Question 5 "
   ]
  },
  {
   "cell_type": "markdown",
   "metadata": {
    "id": "Ep6spX9h8_Ne"
   },
   "source": [
    "As we saw in the course, the constant step sizes makes the proof easier but has drawbacks in practice :\n",
    "*One needs to compute the Lipschitz constant of the gradient of f, which may be a nonnegligible amount of work.\n",
    "*Even if the function has a Lipschitz gradient; the estimation of the Lipschitz constant may take into account regions where the curvature is large but that are never visited by the algorithm.\n",
    "\n",
    "==> So, the idea is to use the \"Line search\" as a solution to these issues.\n",
    "As we saw in the course, we will use the \"Armijo's line search\". This line search is the most famous one.\n",
    "Given a ∈ (0, 1), b > 0 and β ∈ (0, 1), determine the first integer \"l\" such that :"
   ]
  },
  {
   "cell_type": "markdown",
   "metadata": {
    "id": "btwcFAiO8_Nf"
   },
   "source": [
    "$\\quad f(x^+ (ba^l)) ≤ f(x_{k}) + β <∇f(x_{k}), x^+ ba^l − x_{k}> $\n",
    "\n",
    "with: $\\gamma_{k} =  ba^l $\n",
    "\n",
    "and $ \\quad x^+ (\\gamma_{k}) = x^+ (ba^l) = x_{k} - \\gamma_{k} \\nabla f (x_{k})$ \n",
    "\n",
    "\n",
    "In our case, we have f = g et x= P, we obtain: \n",
    "\n",
    "$\\quad g(P^+ (ba^l)) ≤ g(P_{k}) + β <∇g(P_{k}), P^+ ba^l − P_{k}> $\n",
    "\n",
    "$\\quad \\quad  \\quad  \\quad \\quad  \\leq  g(P_{k})  + β <∇g(P_{k}), P_ {k} - ba^l ∇g(P_{k}) − P_{k}>  $\n",
    "\n",
    "$\\quad \\quad  \\quad  \\quad \\quad  \\leq  g(P_{k})  + β <∇g(P_{k}), - ba^l ∇g(P_{k}) >  $\n"
   ]
  },
  {
   "cell_type": "code",
   "execution_count": 16,
   "metadata": {
    "id": "w29n6QPJ8_Nf"
   },
   "outputs": [],
   "source": [
    "#the function \"gradient_armijo\" differts from the function \"gradient\" in \"gamma\" (it will not be a parameter)\n",
    "\n",
    "def armijo(a,b,beta,Pk):\n",
    "    l = 0\n",
    "    while True:\n",
    "        g_Pk, grad_Pk = g(Pk, Q0, R, mask, rho)\n",
    "        Pplus=Pk-b*(a**l)*grad_Pk\n",
    "        g_Pplus = g(Pplus, Q0, R, mask, rho)[0]\n",
    "        #S_product= scalar product defined in the expression above\n",
    "        S_product= np.trace((np.transpose(grad_Pk)).dot(-b*(a**l)*grad_Pk))\n",
    "        if ( g_Pplus <= ( g_Pk+beta*S_product ) ):\n",
    "            break\n",
    "        l = l+1    \n",
    "    return b*(a**l) #returns the determined gamma "
   ]
  },
  {
   "cell_type": "code",
   "execution_count": 17,
   "metadata": {
    "colab": {
     "base_uri": "https://localhost:8080/"
    },
    "id": "THutEB6I8_Nf",
    "outputId": "a84c1093-3c30-4837-a4d6-04f8490302cf"
   },
   "outputs": [
    {
     "name": "stdout",
     "output_type": "stream",
     "text": [
      " The value found by the algorithm with Armijo's linear search: 303937.336341\n",
      "\n",
      "\n",
      "P_opt_armijo= \n",
      "[[-1.90953290e+01 -2.36397481e+00  4.35631710e+00 ...  1.85311781e-01\n",
      "  -8.89208283e-02  9.16927726e-01]\n",
      " [ 1.89222418e+01 -4.06092139e+00  3.17559913e+00 ... -8.34590348e-01\n",
      "  -3.37004603e-01 -2.65092406e-01]\n",
      " [ 2.55440275e+00 -4.35977656e-01  1.13395561e+01 ... -6.71260191e-01\n",
      "   5.78838000e-02  1.24555861e+00]\n",
      " [-2.22624563e+00  1.41418977e+01  2.82210136e+00 ... -5.13765478e-01\n",
      "   4.65480284e-01  2.54707646e-01]\n",
      " [-1.86190302e+01 -4.13787846e-01 -1.27428967e+01 ... -4.85489272e-01\n",
      "   1.21176974e-01  2.22489652e-01]\n",
      " [-6.21167335e+01 -3.17008955e+01 -2.28827230e+01 ... -8.60992483e-02\n",
      "  -9.97455623e-01 -9.07952437e-01]]\n"
     ]
    }
   ],
   "source": [
    "#As classical choices, we take \n",
    "def gradient_armijo(g, P0, epsilon):\n",
    "    a = 0.5\n",
    "    b = 1\n",
    "    beta = 0.5\n",
    "    P = P0\n",
    "    val,grad_P = g(P, Q0, R, mask, rho)\n",
    "    while True:\n",
    "        gamma = armijo(a,b,beta,P)\n",
    "        P = P - gamma*grad_P \n",
    "        val,grad_P = g(P, Q0, R, mask, rho)\n",
    "        if ( ( (np.sum(grad_P ** 2))**(0.5) ) <= epsilon):\n",
    "            break\n",
    "        b = 2 * gamma\n",
    "    return P,val \n",
    "\n",
    "P_armijo, val_armijo = gradient_armijo(g,P0, 1)\n",
    "print(\" The value found by the algorithm with Armijo's linear search: %f\" % val_armijo)\n",
    "print(\"\\n\")\n",
    "print('P_opt_armijo= ' )\n",
    "print(P_armijo)"
   ]
  },
  {
   "cell_type": "markdown",
   "metadata": {
    "id": "nV8iVL2F8_Ng"
   },
   "source": [
    "# 3. Resolution of the full problem"
   ]
  },
  {
   "cell_type": "markdown",
   "metadata": {
    "id": "dywalBjw8_Nh"
   },
   "source": [
    "# Question 1 "
   ]
  },
  {
   "cell_type": "markdown",
   "metadata": {
    "id": "a6dGCSI78_Nh"
   },
   "source": [
    "$f(P,Q) = \\frac{1}{2} ||\\mathbb{1}_{K}\\circ(R-QP)||_{F}^2 + \\frac{\\rho}{2}||Q||_{F}^2+ \\frac{\\rho}{2}||P||_{F}^2 $\n",
    "\n",
    "As P and Q play symmetrical roles in f, we can determine the gradient of f % Q as we did for f % P in the second section.\n",
    "We calculate the gradient of f such that P is constant == P0. \n",
    "\n",
    "\n",
    "$g (Q+H)  = \\frac {1}{2} || \\mathbb{1}_{K} \t\\circ (R - (P^0(Q+H)||_{F} ^ 2 + \\frac{\\rho}{2}||P^0||_{F}^2+ \\frac{\\rho}{2}||Q+H||_{F}^2 $\n",
    "$ \\quad \\quad  \\quad  \\quad  \\quad \\quad \\quad \\quad \\quad = \\frac {1}{2} || \\mathbb{1}_{K} \t\\circ (R - P^0Q)||_{F} ^ 2 - <\\mathbb{1}_{K} \t\\circ (R - P^0Q),\\mathbb{1}_{K} \t\\circ P^0H> + \\frac {1}{2} || \\mathbb{1}_{K} \t\\circ P^0H||_{F} ^ 2  + \\frac{\\rho}{2}||Q^0||_{F}^2+ \\frac{\\rho}{2}||Q+H||_{F}^2 $\n",
    "\n",
    "$ \\quad \\quad  \\quad  \\quad  \\quad \\quad \\quad \\quad \\quad= g(Q)- <\\mathbb{1}_{K} \t\\circ (R -P^0Q),\\mathbb{1}_{K} \t\\circ P^0H> + {\\rho}{} <Q,H> +o(H)$\n",
    "\n",
    "$ \\quad \\quad  \\quad  \\quad  \\quad \\quad \\quad \\quad \\quad = g(Q)- <\\mathbb{1}_{K} \t\\circ (R - P^0Q),P^0H> + {\\rho}{} <Q,H> + o(H)$\n",
    "\n",
    "$ \\quad \\quad  \\quad  \\quad  \\quad \\quad \\quad \\quad \\quad= g(Q)- tr ((\\mathbb{1}_{K} \t\\circ (R - P^0Q))^{t} P^0H) + {\\rho}{} <Q,H> + o(H)$\n",
    "\n",
    "$ \\quad \\quad  \\quad  \\quad  \\quad \\quad \\quad \\quad \\quad = g(Q)- tr (P^0(\\mathbb{1}_{K} \t\\circ (R - P^0Q))^{t} H) + {\\rho}{} <Q,H> + o(H)$\n",
    "\n",
    "$ \\quad \\quad  \\quad  \\quad  \\quad \\quad \\quad \\quad \\quad = g(Q)- <\\mathbb{1}_{K} \t\\circ (R - P^0Q)(Q^0)^{t},H> + {\\rho}{} <Q,H> + o(H)$\n",
    "\n",
    "$\\Rightarrow $\n",
    "\n",
    "\n",
    "\n",
    "Le gradient de g quand P est fixé à $P^{0}$: \n",
    "\n",
    "\n",
    "$\\nabla g(Q) = -  (P^0 )^{t} ( \\mathbb{1}_{K} \t\\circ (R - P^0Q))  + \\rho P $\n",
    "\n",
    "$\\nabla f(P,Q) = [\\nabla_{P} f (P,Q),\\nabla_{Q} f (P,Q)]^T$\n",
    "\n",
    "$\\quad \\quad \\quad \\quad= [-  Q^{t} ( \\mathbb{1}_{K} \t\\circ (R - QP))  + \\rho P,-  ( \\mathbb{1}_{K} \t\\circ (R - QP)) P^{t}  + \\rho Q]^T $"
   ]
  },
  {
   "cell_type": "markdown",
   "metadata": {
    "id": "hv76BHBN8_Ni"
   },
   "source": [
    "To show that its gradient is Lipschitz continuous or not, We should find a real L such that $\\forall (P1,Q1) \\forall (P2,Q2)$\n",
    "$|| \\nabla f(P1,Q1)- \\nabla f(P2,Q2) ||_{F} \\quad \\le L ||\\begin{pmatrix} \n",
    " P1 - P2 \\\\ \n",
    " Q1 - Q2  \n",
    " \\end{pmatrix} ||_{F} $ \n",
    " \n",
    "First of all, we should compute the Scalar product in each couple :  (P1,Q1) and (P2,Q2)\n",
    "\n",
    "$\\nabla f(P,Q) = [\\quad Q²P + \\rho P - RQ\\quad ,\\quad P²Q - RQ +\\rho Q \\quad]^T$\n",
    "\n",
    "Otherwise to avoid this complicated calculation, we can search for an upper bound for the Hessian Matrix of f.\n",
    "\n",
    "\n",
    "SO, \n",
    "\n",
    "$Hess f(P,Q) =\n",
    "  \\begin{bmatrix}\n",
    "    Q²+\\rho & 2PQ-R \\\\\n",
    "    2PQ-R & P^2+\\rho\n",
    "  \\end{bmatrix}\n",
    "$\n",
    "\n",
    "\n",
    " $||Hess f(P,Q)|| = \\sqrt { (Q²+\\rho)^2 + (2PQ-R)^2 + (2PQ-R)^2 + (P^2+\\rho)^2}$\n",
    " \n",
    "Its clear that $||Hess f(P,Q)||$ doesn't have un upper bound as it is a polynomial function.\n",
    "==> $\\nabla f$ is not lipchitzian "
   ]
  },
  {
   "cell_type": "markdown",
   "metadata": {
    "id": "x4nVLs2b8_Nj"
   },
   "source": [
    "# Question 2 "
   ]
  },
  {
   "cell_type": "code",
   "execution_count": 18,
   "metadata": {
    "id": "pvfnuf_N8_Nj"
   },
   "outputs": [],
   "source": [
    "def armij_PQ(a,b,beta,Pk,Qk):\n",
    "    l = 0\n",
    "    g_k, grad_Pk, grad_Qk = g(Pk, Qk, R, mask, rho)\n",
    "    while True:\n",
    "        Pplus = Pk-b*(a**l)*grad_Pk\n",
    "        Qplus = Qk-b*(a**l)*grad_Qk\n",
    "        g_plus, grad_Pplus, grad_Qplus = g(Pplus ,Qplus , R, mask, rho)\n",
    "            \n",
    "        S_product = np.trace(np.concatenate((grad_Pk,np.transpose(grad_Qk)),axis=1).dot(np.transpose(np.concatenate((Pplus-Pk,np.transpose(Qplus-Qk)),axis=1))))\n",
    "        if ( g_plus <= ( g_k+beta*S_product) ):\n",
    "            break\n",
    "        l = l+1    \n",
    "    return b*(a**l) #returns the determined gamma "
   ]
  },
  {
   "cell_type": "code",
   "execution_count": 19,
   "metadata": {
    "id": "XsRl7Nva8_Nj"
   },
   "outputs": [],
   "source": [
    "def gradientPQ(g, P0, Q0, epsilon):\n",
    "    P = P0\n",
    "    Q = Q0\n",
    "    val,grad_P,grad_Q = g(P, Q, R, mask, rho)\n",
    "    a = 0.5\n",
    "    b = 1\n",
    "    beta = 0.5\n",
    "    while True:\n",
    "        gamma = armij_PQ(a,b,beta,P,Q)\n",
    "        P = P - gamma*grad_P\n",
    "        Q = Q - gamma*grad_Q\n",
    "        val,grad_P,grad_Q = g(P, Q, R, mask, rho)\n",
    "        b = 2 * gamma\n",
    "        if ( (np.sum(grad_P ** 2) + np.sum(grad_Q ** 2))**0.5 ) < epsilon:\n",
    "            break\n",
    "    return P, Q, val \n",
    "    "
   ]
  },
  {
   "cell_type": "code",
   "execution_count": 20,
   "metadata": {
    "colab": {
     "base_uri": "https://localhost:8080/"
    },
    "id": "KowMHnwC8_Nk",
    "outputId": "860bbbd2-ce11-4df4-ac53-2fbdc1df1136"
   },
   "outputs": [
    {
     "name": "stdout",
     "output_type": "stream",
     "text": [
      "La valeur retrouvé est : 32605.541798\n"
     ]
    }
   ],
   "source": [
    "epsilon = 100\n",
    "g=mlu.total_objective\n",
    "P_armijo, Q_armijo, val_armijo = gradientPQ(g,P0,Q0, epsilon)\n",
    "print(\"La valeur retrouvé est : %f\" % val_armijo)\n"
   ]
  },
  {
   "cell_type": "markdown",
   "metadata": {
    "id": "o3GcDToD8_Nk"
   },
   "source": [
    "# Question 3 "
   ]
  },
  {
   "cell_type": "markdown",
   "metadata": {
    "id": "a2DsXxF18_Nk"
   },
   "source": [
    "First of all we should eliminate the movies that the user 300 know them, it means the movies that have already grades.\n",
    "Then after doing this calculation, we recommand to user 300 the movie that has the best predicted grade.\n"
   ]
  },
  {
   "cell_type": "code",
   "execution_count": 21,
   "metadata": {
    "id": "AYOxkvvy8_Nl"
   },
   "outputs": [],
   "source": [
    "mask_user300 = np.full((943,1682),True)\n",
    "#As each element of the matrix \"mask\" takes \"False\" when the user has not watched the movie \n",
    "mask_user300[mask] = False"
   ]
  },
  {
   "cell_type": "markdown",
   "metadata": {
    "id": "1Pn0iRfm8_Nl"
   },
   "source": [
    "Since R = Q*P \n",
    "We will calculate R with the final matrix Q and P from the previous question. "
   ]
  },
  {
   "cell_type": "code",
   "execution_count": 22,
   "metadata": {
    "colab": {
     "base_uri": "https://localhost:8080/"
    },
    "id": "QlqCSnFb8_Nl",
    "outputId": "42e3650e-c295-4070-d495-390d12ca14fa"
   },
   "outputs": [
    {
     "data": {
      "text/plain": [
       "array([ 3.50988311,  0.12197442,  4.12122097, ...,  1.73825725,\n",
       "       -0.4707149 ,  0.32411318])"
      ]
     },
     "execution_count": 22,
     "metadata": {
      "tags": []
     },
     "output_type": "execute_result"
    }
   ],
   "source": [
    "R_armijo = Q_armijo.dot(P_armijo)\n",
    "\n",
    "#We will find the matrix R corresponds to the movies that user 300 has not seen them yet\n",
    "R_unseen = R_armijo*mask_user300\n",
    "R_unseen\n",
    "#The index starts from 0 \n",
    "User_300= R_unseen[299,:]\n",
    "User_300"
   ]
  },
  {
   "cell_type": "code",
   "execution_count": 23,
   "metadata": {
    "colab": {
     "base_uri": "https://localhost:8080/"
    },
    "id": "fMw9qt6o8_Nl",
    "outputId": "c8b34715-334b-4cd7-a575-50ee8512d28e"
   },
   "outputs": [
    {
     "data": {
      "text/plain": [
       "6.36703418104425"
      ]
     },
     "execution_count": 23,
     "metadata": {
      "tags": []
     },
     "output_type": "execute_result"
    }
   ],
   "source": [
    "best_grade = np.max(User_300)\n",
    "#print(\"The best grade that user 300 could give to a movie: %f \" %best_grade)\n",
    "best_grade"
   ]
  },
  {
   "cell_type": "code",
   "execution_count": 24,
   "metadata": {
    "colab": {
     "base_uri": "https://localhost:8080/"
    },
    "id": "oR-8vYrj8_Nl",
    "outputId": "245362b0-8d08-4f93-f4e5-a3f9d5b230dc"
   },
   "outputs": [
    {
     "data": {
      "text/plain": [
       "28"
      ]
     },
     "execution_count": 24,
     "metadata": {
      "tags": []
     },
     "output_type": "execute_result"
    }
   ],
   "source": [
    "#To determine the index of the best grade that correponds to the best movie, we should convert User_300 to a list \n",
    "List_300=User_300.tolist()\n",
    "best_movie=List_300.index(best_grade)\n",
    "best_movie"
   ]
  },
  {
   "cell_type": "code",
   "execution_count": null,
   "metadata": {
    "id": "5QUXIi398_Nm"
   },
   "outputs": [],
   "source": []
  }
 ],
 "metadata": {
  "colab": {
   "collapsed_sections": [],
   "name": "SD-TSIA211_TP1 .ipynb",
   "provenance": [],
   "toc_visible": true
  },
  "kernelspec": {
   "display_name": "Python 3",
   "language": "python",
   "name": "python3"
  },
  "language_info": {
   "codemirror_mode": {
    "name": "ipython",
    "version": 3
   },
   "file_extension": ".py",
   "mimetype": "text/x-python",
   "name": "python",
   "nbconvert_exporter": "python",
   "pygments_lexer": "ipython3",
   "version": "3.7.3"
  }
 },
 "nbformat": 4,
 "nbformat_minor": 1
}
