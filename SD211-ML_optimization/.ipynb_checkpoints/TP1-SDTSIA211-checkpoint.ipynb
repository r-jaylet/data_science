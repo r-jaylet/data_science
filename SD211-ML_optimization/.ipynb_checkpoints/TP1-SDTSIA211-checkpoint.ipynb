{
 "cells": [
  {
   "cell_type": "markdown",
   "metadata": {
    "pycharm": {
     "name": "#%% md\n"
    }
   },
   "source": [
    "# SD-TSIA211 : RECOMMENDATION\n",
    "\n",
    "## Remi Jaylet"
   ]
  },
  {
   "cell_type": "markdown",
   "metadata": {},
   "source": [
    "### imports"
   ]
  },
  {
   "cell_type": "code",
   "execution_count": 18,
   "metadata": {
    "pycharm": {
     "name": "#%%\n"
    }
   },
   "outputs": [],
   "source": [
    "from movielens_utils import load_movielens, objective, total_objective_vectorized\n",
    "import numpy as np\n",
    "from scipy.sparse.linalg import svds\n",
    "from scipy.optimize import check_grad, linesearch"
   ]
  },
  {
   "cell_type": "markdown",
   "metadata": {},
   "source": [
    "### 1 - Presentation of the models"
   ]
  },
  {
   "cell_type": "markdown",
   "metadata": {},
   "source": [
    "#### Question 1.1"
   ]
  },
  {
   "cell_type": "code",
   "execution_count": 2,
   "metadata": {
    "pycharm": {
     "name": "#%%\n"
    }
   },
   "outputs": [
    {
     "name": "stdout",
     "output_type": "stream",
     "text": [
      "R =  [[5. 3. 4. ... 0. 0. 0.]\n",
      " [4. 0. 0. ... 0. 0. 0.]\n",
      " [0. 0. 0. ... 0. 0. 0.]\n",
      " ...\n",
      " [5. 0. 0. ... 0. 0. 0.]\n",
      " [0. 0. 0. ... 0. 0. 0.]\n",
      " [0. 5. 0. ... 0. 0. 0.]]\n",
      "mask =  [[ True  True  True ... False False False]\n",
      " [ True False False ... False False False]\n",
      " [False False False ... False False False]\n",
      " ...\n",
      " [ True False False ... False False False]\n",
      " [False False False ... False False False]\n",
      " [False  True False ... False False False]]\n",
      "dimensions = ( 943 , 1682 )\n",
      "number of ratings : 100000\n"
     ]
    }
   ],
   "source": [
    "R, mask = load_movielens(\"ml-100k/u.data\", minidata=False)\n",
    "print(\"R = \", R)\n",
    "print(\"mask = \", mask)\n",
    "print(\"dimensions = (\", len(R), \",\", len(R[0]), \")\")\n",
    "print(\"number of ratings :\", sum(sum(mask)))"
   ]
  },
  {
   "cell_type": "markdown",
   "metadata": {},
   "source": [
    "#### Question 1.2"
   ]
  },
  {
   "cell_type": "code",
   "execution_count": 3,
   "metadata": {
    "pycharm": {
     "name": "#%%\n"
    }
   },
   "outputs": [
    {
     "name": "stdout",
     "output_type": "stream",
     "text": [
      "dimensions = ( 100 , 200 )\n"
     ]
    }
   ],
   "source": [
    "R, mask = load_movielens(\"ml-100k/u.data\", minidata=True)\n",
    "print(\"dimensions = (\", len(R), \",\", len(R[0]), \")\")"
   ]
  },
  {
   "cell_type": "markdown",
   "metadata": {},
   "source": [
    "When the minidata option is activated, the function only returns a small portion of the R matrix of only 100 users over 200 films."
   ]
  },
  {
   "cell_type": "markdown",
   "metadata": {
    "pycharm": {
     "name": "#%% md\n"
    }
   },
   "source": [
    "The dimensions of the matric suggest that are ratings from 943 users on 1682 movies.\n",
    "By calculation the number of True values in the mask, we can we that there is 100000 ratings ranging from 0 to 5."
   ]
  },
  {
   "cell_type": "markdown",
   "metadata": {},
   "source": [
    "### 2 - Find P when $ Q^0 $ is fixed"
   ]
  },
  {
   "cell_type": "markdown",
   "metadata": {},
   "source": [
    "#### Question 2.1"
   ]
  },
  {
   "cell_type": "markdown",
   "metadata": {},
   "source": [
    "According to the formula giving in the text, we can write : $\\displaystyle g(P)=\\frac{1}{2}\\sum_{u\\in U,i\\in I}\\mathbb{1}_{K}(u,i)\\left(R_{u,i}-\\sum_{f\\in F}Q^0_{u,f}P_{f,i}\\right)^2+\\frac{\\rho}{2}\\lVert Q^0\\rVert_{F}^2+\\frac{\\rho}{2}\\sum_{i\\in I,f\\in F}P_{f,i}^2$\n",
    "\n",
    "Hece, $\\forall{k\\in F},\\forall{l\\in I}, \\displaystyle \\frac{\\partial g}{\\partial P_{k,l}}(P)=\\sum_{u\\in U,i\\in I}\\mathbb{1}_{K}(u,i)\\delta_{i,l}\\left(R_{u,i}-\\sum_{f\\in F}Q^0_{u,f}P_{f,i}\\right)(-Q^0_{u,k})+\\rho P_{k,l}$\n",
    "\n",
    "Thus, $\\displaystyle \\nabla g(P)={Q^0}^T\\left(\\mathbb{1}_{K}\\circ(Q^0P-R)\\right)+\\rho P$"
   ]
  },
  {
   "cell_type": "markdown",
   "metadata": {},
   "source": [
    "#### Question 2.2"
   ]
  },
  {
   "cell_type": "code",
   "execution_count": 6,
   "metadata": {},
   "outputs": [],
   "source": [
    "# initialize variables\n",
    "R, mask = load_movielens(\"ml-100k/u.data\")\n",
    "Q0, s, P0 = svds(R, k=4)\n",
    "rho = 0.3\n",
    "\n",
    "# define g and gradient of g (use ravel and reshape to be able to check the value of the gradient)\n",
    "def g(P):\n",
    "    P = np.reshape(P, (4,1682))\n",
    "    tmp = (R - Q0.dot(P)) * mask\n",
    "    val = np.sum(tmp ** 2)/2. + rho/2. * (np.sum(Q0 ** 2) + np.sum(P ** 2))\n",
    "    return val\n",
    "\n",
    "def grad_g(P):\n",
    "    P = np.reshape(P, (4,1682))\n",
    "    tmp = (R - Q0.dot(P)) * mask\n",
    "    grad_P = (Q0.transpose()).dot(tmp) + rho*P\n",
    "    return np.ravel(grad_P)"
   ]
  },
  {
   "cell_type": "code",
   "execution_count": 5,
   "metadata": {
    "pycharm": {
     "name": "#%%\n"
    },
    "scrolled": true
   },
   "outputs": [
    {
     "ename": "KeyboardInterrupt",
     "evalue": "",
     "output_type": "error",
     "traceback": [
      "\u001b[1;31m---------------------------------------------------------------------------\u001b[0m",
      "\u001b[1;31mKeyboardInterrupt\u001b[0m                         Traceback (most recent call last)",
      "\u001b[1;32m<ipython-input-5-02ccb36c6a30>\u001b[0m in \u001b[0;36m<module>\u001b[1;34m\u001b[0m\n\u001b[1;32m----> 1\u001b[1;33m \u001b[0merror\u001b[0m \u001b[1;33m=\u001b[0m \u001b[0mcheck_grad\u001b[0m\u001b[1;33m(\u001b[0m\u001b[0mg\u001b[0m\u001b[1;33m,\u001b[0m \u001b[0mgrad_g\u001b[0m\u001b[1;33m,\u001b[0m \u001b[0mx0\u001b[0m\u001b[1;33m=\u001b[0m\u001b[0mnp\u001b[0m\u001b[1;33m.\u001b[0m\u001b[0mravel\u001b[0m\u001b[1;33m(\u001b[0m\u001b[0mP0\u001b[0m\u001b[1;33m)\u001b[0m\u001b[1;33m)\u001b[0m\u001b[1;33m\u001b[0m\u001b[1;33m\u001b[0m\u001b[0m\n\u001b[0m\u001b[0;32m      2\u001b[0m \u001b[0mprint\u001b[0m\u001b[1;33m(\u001b[0m\u001b[1;34m\"error on the gradient :\"\u001b[0m\u001b[1;33m,\u001b[0m \u001b[0merror\u001b[0m\u001b[1;33m)\u001b[0m\u001b[1;33m\u001b[0m\u001b[1;33m\u001b[0m\u001b[0m\n",
      "\u001b[1;32mc:\\users\\remij\\miniconda3\\lib\\site-packages\\scipy\\optimize\\optimize.py\u001b[0m in \u001b[0;36mcheck_grad\u001b[1;34m(func, grad, x0, *args, **kwargs)\u001b[0m\n\u001b[0;32m    812\u001b[0m                          (list(kwargs.keys()),))\n\u001b[0;32m    813\u001b[0m     return sqrt(sum((grad(x0, *args) -\n\u001b[1;32m--> 814\u001b[1;33m                      approx_fprime(x0, func, step, *args))**2))\n\u001b[0m\u001b[0;32m    815\u001b[0m \u001b[1;33m\u001b[0m\u001b[0m\n\u001b[0;32m    816\u001b[0m \u001b[1;33m\u001b[0m\u001b[0m\n",
      "\u001b[1;32mc:\\users\\remij\\miniconda3\\lib\\site-packages\\scipy\\optimize\\optimize.py\u001b[0m in \u001b[0;36mapprox_fprime\u001b[1;34m(xk, f, epsilon, *args)\u001b[0m\n\u001b[0;32m    763\u001b[0m \u001b[1;33m\u001b[0m\u001b[0m\n\u001b[0;32m    764\u001b[0m     \"\"\"\n\u001b[1;32m--> 765\u001b[1;33m     \u001b[1;32mreturn\u001b[0m \u001b[0m_approx_fprime_helper\u001b[0m\u001b[1;33m(\u001b[0m\u001b[0mxk\u001b[0m\u001b[1;33m,\u001b[0m \u001b[0mf\u001b[0m\u001b[1;33m,\u001b[0m \u001b[0mepsilon\u001b[0m\u001b[1;33m,\u001b[0m \u001b[0margs\u001b[0m\u001b[1;33m=\u001b[0m\u001b[0margs\u001b[0m\u001b[1;33m)\u001b[0m\u001b[1;33m\u001b[0m\u001b[1;33m\u001b[0m\u001b[0m\n\u001b[0m\u001b[0;32m    766\u001b[0m \u001b[1;33m\u001b[0m\u001b[0m\n\u001b[0;32m    767\u001b[0m \u001b[1;33m\u001b[0m\u001b[0m\n",
      "\u001b[1;32mc:\\users\\remij\\miniconda3\\lib\\site-packages\\scipy\\optimize\\optimize.py\u001b[0m in \u001b[0;36m_approx_fprime_helper\u001b[1;34m(xk, f, epsilon, args, f0)\u001b[0m\n\u001b[0;32m    695\u001b[0m         \u001b[0mei\u001b[0m\u001b[1;33m[\u001b[0m\u001b[0mk\u001b[0m\u001b[1;33m]\u001b[0m \u001b[1;33m=\u001b[0m \u001b[1;36m1.0\u001b[0m\u001b[1;33m\u001b[0m\u001b[1;33m\u001b[0m\u001b[0m\n\u001b[0;32m    696\u001b[0m         \u001b[0md\u001b[0m \u001b[1;33m=\u001b[0m \u001b[0mepsilon\u001b[0m \u001b[1;33m*\u001b[0m \u001b[0mei\u001b[0m\u001b[1;33m\u001b[0m\u001b[1;33m\u001b[0m\u001b[0m\n\u001b[1;32m--> 697\u001b[1;33m         \u001b[0mdf\u001b[0m \u001b[1;33m=\u001b[0m \u001b[1;33m(\u001b[0m\u001b[0mf\u001b[0m\u001b[1;33m(\u001b[0m\u001b[1;33m*\u001b[0m\u001b[1;33m(\u001b[0m\u001b[1;33m(\u001b[0m\u001b[0mxk\u001b[0m \u001b[1;33m+\u001b[0m \u001b[0md\u001b[0m\u001b[1;33m,\u001b[0m\u001b[1;33m)\u001b[0m \u001b[1;33m+\u001b[0m \u001b[0margs\u001b[0m\u001b[1;33m)\u001b[0m\u001b[1;33m)\u001b[0m \u001b[1;33m-\u001b[0m \u001b[0mf0\u001b[0m\u001b[1;33m)\u001b[0m \u001b[1;33m/\u001b[0m \u001b[0md\u001b[0m\u001b[1;33m[\u001b[0m\u001b[0mk\u001b[0m\u001b[1;33m]\u001b[0m\u001b[1;33m\u001b[0m\u001b[1;33m\u001b[0m\u001b[0m\n\u001b[0m\u001b[0;32m    698\u001b[0m         \u001b[1;32mif\u001b[0m \u001b[1;32mnot\u001b[0m \u001b[0mnp\u001b[0m\u001b[1;33m.\u001b[0m\u001b[0misscalar\u001b[0m\u001b[1;33m(\u001b[0m\u001b[0mdf\u001b[0m\u001b[1;33m)\u001b[0m\u001b[1;33m:\u001b[0m\u001b[1;33m\u001b[0m\u001b[1;33m\u001b[0m\u001b[0m\n\u001b[0;32m    699\u001b[0m             \u001b[1;32mtry\u001b[0m\u001b[1;33m:\u001b[0m\u001b[1;33m\u001b[0m\u001b[1;33m\u001b[0m\u001b[0m\n",
      "\u001b[1;32m<ipython-input-4-2b8fa9a3cb4b>\u001b[0m in \u001b[0;36mg\u001b[1;34m(P)\u001b[0m\n\u001b[0;32m      7\u001b[0m \u001b[1;32mdef\u001b[0m \u001b[0mg\u001b[0m\u001b[1;33m(\u001b[0m\u001b[0mP\u001b[0m\u001b[1;33m)\u001b[0m\u001b[1;33m:\u001b[0m\u001b[1;33m\u001b[0m\u001b[1;33m\u001b[0m\u001b[0m\n\u001b[0;32m      8\u001b[0m     \u001b[0mP\u001b[0m \u001b[1;33m=\u001b[0m \u001b[0mnp\u001b[0m\u001b[1;33m.\u001b[0m\u001b[0mreshape\u001b[0m\u001b[1;33m(\u001b[0m\u001b[0mP\u001b[0m\u001b[1;33m,\u001b[0m \u001b[1;33m(\u001b[0m\u001b[1;36m4\u001b[0m\u001b[1;33m,\u001b[0m\u001b[1;36m1682\u001b[0m\u001b[1;33m)\u001b[0m\u001b[1;33m)\u001b[0m\u001b[1;33m\u001b[0m\u001b[1;33m\u001b[0m\u001b[0m\n\u001b[1;32m----> 9\u001b[1;33m     \u001b[0mtmp\u001b[0m \u001b[1;33m=\u001b[0m \u001b[1;33m(\u001b[0m\u001b[0mR\u001b[0m \u001b[1;33m-\u001b[0m \u001b[0mQ0\u001b[0m\u001b[1;33m.\u001b[0m\u001b[0mdot\u001b[0m\u001b[1;33m(\u001b[0m\u001b[0mP\u001b[0m\u001b[1;33m)\u001b[0m\u001b[1;33m)\u001b[0m \u001b[1;33m*\u001b[0m \u001b[0mmask\u001b[0m\u001b[1;33m\u001b[0m\u001b[1;33m\u001b[0m\u001b[0m\n\u001b[0m\u001b[0;32m     10\u001b[0m     \u001b[0mval\u001b[0m \u001b[1;33m=\u001b[0m \u001b[0mnp\u001b[0m\u001b[1;33m.\u001b[0m\u001b[0msum\u001b[0m\u001b[1;33m(\u001b[0m\u001b[0mtmp\u001b[0m \u001b[1;33m**\u001b[0m \u001b[1;36m2\u001b[0m\u001b[1;33m)\u001b[0m\u001b[1;33m/\u001b[0m\u001b[1;36m2.\u001b[0m \u001b[1;33m+\u001b[0m \u001b[0mrho\u001b[0m\u001b[1;33m/\u001b[0m\u001b[1;36m2.\u001b[0m \u001b[1;33m*\u001b[0m \u001b[1;33m(\u001b[0m\u001b[0mnp\u001b[0m\u001b[1;33m.\u001b[0m\u001b[0msum\u001b[0m\u001b[1;33m(\u001b[0m\u001b[0mQ0\u001b[0m \u001b[1;33m**\u001b[0m \u001b[1;36m2\u001b[0m\u001b[1;33m)\u001b[0m \u001b[1;33m+\u001b[0m \u001b[0mnp\u001b[0m\u001b[1;33m.\u001b[0m\u001b[0msum\u001b[0m\u001b[1;33m(\u001b[0m\u001b[0mP\u001b[0m \u001b[1;33m**\u001b[0m \u001b[1;36m2\u001b[0m\u001b[1;33m)\u001b[0m\u001b[1;33m)\u001b[0m\u001b[1;33m\u001b[0m\u001b[1;33m\u001b[0m\u001b[0m\n\u001b[0;32m     11\u001b[0m     \u001b[1;32mreturn\u001b[0m \u001b[0mval\u001b[0m\u001b[1;33m\u001b[0m\u001b[1;33m\u001b[0m\u001b[0m\n",
      "\u001b[1;31mKeyboardInterrupt\u001b[0m: "
     ]
    }
   ],
   "source": [
    "error = check_grad(g, grad_g, x0=np.ravel(P0))\n",
    "print(\"error on the gradient :\", error)"
   ]
  },
  {
   "cell_type": "markdown",
   "metadata": {},
   "source": [
    "#### Question 2.3"
   ]
  },
  {
   "cell_type": "code",
   "execution_count": 25,
   "metadata": {
    "pycharm": {
     "name": "#%%\n"
    }
   },
   "outputs": [],
   "source": [
    "def gradient(g, P0, gamma, epsilon):\n",
    "    val, grad_P = objective(P0, Q0, R, mask, rho)\n",
    "    while np.linalg.norm(grad_P).any() > epsilon:\n",
    "        P0 = P0 - gamma*grad_P\n",
    "        grad_P = objective(P0, Q0, R, mask, rho)[1]\n",
    "    val = objective(P0, Q0, R, mask, rho)[0]\n",
    "    return val, P0\n"
   ]
  },
  {
   "cell_type": "code",
   "execution_count": 26,
   "metadata": {
    "pycharm": {
     "name": "#%%\n"
    }
   },
   "outputs": [
    {
     "name": "stdout",
     "output_type": "stream",
     "text": [
      "The argmin of g is [[ 1.62060750e-02  3.23391424e-03  4.88005961e-02 ... -9.53260775e-04\n",
      "   7.73342642e-05  1.74971250e-03]\n",
      " [-1.69737618e-02 -6.25039193e-02 -1.16405039e-02 ...  5.33024145e-04\n",
      "  -4.54336533e-04 -2.61400068e-04]\n",
      " [-8.72397853e-02 -7.02505798e-03 -2.86181725e-02 ... -4.48134760e-04\n",
      "   1.05231342e-04  2.03151884e-04]\n",
      " [ 9.59509371e-02  3.51795155e-02  1.99288117e-02 ...  3.03747116e-05\n",
      "   3.31055915e-04  3.16852950e-04]]\n",
      " The minimum of g is 685091.7826478565\n"
     ]
    }
   ],
   "source": [
    "L0 = rho + np.sqrt(np.sum((Q0.T@Q0)**2))\n",
    "gamma = 1/L0\n",
    "epsilon = 1 \n",
    "res = gradient(g, P0, gamma, epsilon)\n",
    "print(\"The argmin of g is {}\\n The minimum of g is {}\".format(res[1],res[0]))"
   ]
  },
  {
   "cell_type": "markdown",
   "metadata": {},
   "source": [
    "#### Question 2.5"
   ]
  },
  {
   "cell_type": "code",
   "execution_count": 21,
   "metadata": {
    "pycharm": {
     "name": "#%%\n"
    }
   },
   "outputs": [],
   "source": [
    "def gradient_2(g, P0, epsilon):\n",
    "    val, grad_P = objective(P0, Q0, R, mask, rho)\n",
    "    while np.linalg.norm(grad_P).any() > epsilon:\n",
    "        gamma = scipy.optimize.linesearch(g, grad_g, np.ravel(P0), -grad) # use line search\n",
    "        P0 = P0 - gamma*grad_P\n",
    "        grad_P = objective(P0, Q0, R, mask, rho)[1]\n",
    "    val = objective(P0, Q0, R, mask, rho)[0]\n",
    "    return val, P0"
   ]
  },
  {
   "cell_type": "code",
   "execution_count": 22,
   "metadata": {
    "pycharm": {
     "name": "#%%\n"
    }
   },
   "outputs": [
    {
     "name": "stdout",
     "output_type": "stream",
     "text": [
      "The argmin of g is [[ 1.62060750e-02  3.23391424e-03  4.88005961e-02 ... -9.53260775e-04\n",
      "   7.73342642e-05  1.74971250e-03]\n",
      " [-1.69737618e-02 -6.25039193e-02 -1.16405039e-02 ...  5.33024145e-04\n",
      "  -4.54336533e-04 -2.61400068e-04]\n",
      " [-8.72397853e-02 -7.02505798e-03 -2.86181725e-02 ... -4.48134760e-04\n",
      "   1.05231342e-04  2.03151884e-04]\n",
      " [ 9.59509371e-02  3.51795155e-02  1.99288117e-02 ...  3.03747116e-05\n",
      "   3.31055915e-04  3.16852950e-04]]\n",
      " The minimum of g is 685091.7826478565\n"
     ]
    }
   ],
   "source": [
    "res = gradient_2(g, P0, 1)\n",
    "print(\"The argmin of g is {}\\n The minimum of g is {}\".format(res[1],res[0]))"
   ]
  },
  {
   "cell_type": "markdown",
   "metadata": {},
   "source": [
    "### 3 - Resolution of the full problem"
   ]
  },
  {
   "cell_type": "markdown",
   "metadata": {},
   "source": [
    "#### Question 3.2"
   ]
  },
  {
   "cell_type": "code",
   "execution_count": 19,
   "metadata": {},
   "outputs": [],
   "source": [
    "def g_PQ(PQ):\n",
    "    val = mtotal_objective_vectorized(PQ, R, mask, rho)[0]\n",
    "    return val\n",
    "\n",
    "def grad_PQ(PQvec):\n",
    "    grad = total_objective_vectorized(PQ, R, mask, rho)[1]\n",
    "    return np.ravel(grad)\n",
    "\n",
    "def line_searh_grad_generalized(f,P0Q0,epsilon):\n",
    "    grad = f(P0Q0,R,mask,rho)[1]\n",
    "    while np.sqrt(np.sum(grad**2)) > epsilon:\n",
    "        gamma_k = linesearch(g_PQ, grad_PQ, P0Q0, -np.ravel(grad))\n",
    "        P0Q0 = P0Q0 - gamma_k * grad\n",
    "        grad = f(P0Q0, R, mask, rho)[1]\n",
    "    return P0Q0, f(P0Q0, R, mask, rho)[0]"
   ]
  },
  {
   "cell_type": "markdown",
   "metadata": {},
   "source": [
    "#### Question 3.3"
   ]
  },
  {
   "cell_type": "code",
   "execution_count": 20,
   "metadata": {},
   "outputs": [
    {
     "ename": "TypeError",
     "evalue": "'module' object is not callable",
     "output_type": "error",
     "traceback": [
      "\u001b[1;31m---------------------------------------------------------------------------\u001b[0m",
      "\u001b[1;31mTypeError\u001b[0m                                 Traceback (most recent call last)",
      "\u001b[1;32m<ipython-input-20-59d96c773d3a>\u001b[0m in \u001b[0;36m<module>\u001b[1;34m\u001b[0m\n\u001b[0;32m      2\u001b[0m \u001b[0mnew_eps\u001b[0m \u001b[1;33m=\u001b[0m \u001b[1;36m100\u001b[0m\u001b[1;33m\u001b[0m\u001b[1;33m\u001b[0m\u001b[0m\n\u001b[0;32m      3\u001b[0m \u001b[1;33m\u001b[0m\u001b[0m\n\u001b[1;32m----> 4\u001b[1;33m \u001b[0margmin\u001b[0m\u001b[1;33m,\u001b[0m\u001b[0mminimum\u001b[0m \u001b[1;33m=\u001b[0m \u001b[0mline_searh_grad_generalized\u001b[0m\u001b[1;33m(\u001b[0m\u001b[0mtotal_objective_vectorized\u001b[0m\u001b[1;33m,\u001b[0m\u001b[0mP0Q0\u001b[0m\u001b[1;33m,\u001b[0m\u001b[0mnew_eps\u001b[0m\u001b[1;33m)\u001b[0m\u001b[1;33m\u001b[0m\u001b[1;33m\u001b[0m\u001b[0m\n\u001b[0m\u001b[0;32m      5\u001b[0m \u001b[0mprint\u001b[0m\u001b[1;33m(\u001b[0m\u001b[1;34m\"The argmin of g is {}\\n\\nThe minimum of g is {}\"\u001b[0m\u001b[1;33m.\u001b[0m\u001b[0mformat\u001b[0m\u001b[1;33m(\u001b[0m\u001b[0margmin\u001b[0m\u001b[1;33m,\u001b[0m\u001b[0mminimum\u001b[0m\u001b[1;33m)\u001b[0m\u001b[1;33m)\u001b[0m\u001b[1;33m\u001b[0m\u001b[1;33m\u001b[0m\u001b[0m\n",
      "\u001b[1;32m<ipython-input-19-525fd506d844>\u001b[0m in \u001b[0;36mline_searh_grad_generalized\u001b[1;34m(f, P0Q0, epsilon)\u001b[0m\n\u001b[0;32m     10\u001b[0m     \u001b[0mgrad\u001b[0m \u001b[1;33m=\u001b[0m \u001b[0mf\u001b[0m\u001b[1;33m(\u001b[0m\u001b[0mP0Q0\u001b[0m\u001b[1;33m,\u001b[0m\u001b[0mR\u001b[0m\u001b[1;33m,\u001b[0m\u001b[0mmask\u001b[0m\u001b[1;33m,\u001b[0m\u001b[0mrho\u001b[0m\u001b[1;33m)\u001b[0m\u001b[1;33m[\u001b[0m\u001b[1;36m1\u001b[0m\u001b[1;33m]\u001b[0m\u001b[1;33m\u001b[0m\u001b[1;33m\u001b[0m\u001b[0m\n\u001b[0;32m     11\u001b[0m     \u001b[1;32mwhile\u001b[0m \u001b[0mnp\u001b[0m\u001b[1;33m.\u001b[0m\u001b[0msqrt\u001b[0m\u001b[1;33m(\u001b[0m\u001b[0mnp\u001b[0m\u001b[1;33m.\u001b[0m\u001b[0msum\u001b[0m\u001b[1;33m(\u001b[0m\u001b[0mgrad\u001b[0m\u001b[1;33m**\u001b[0m\u001b[1;36m2\u001b[0m\u001b[1;33m)\u001b[0m\u001b[1;33m)\u001b[0m \u001b[1;33m>\u001b[0m \u001b[0mepsilon\u001b[0m\u001b[1;33m:\u001b[0m\u001b[1;33m\u001b[0m\u001b[1;33m\u001b[0m\u001b[0m\n\u001b[1;32m---> 12\u001b[1;33m         \u001b[0mgamma_k\u001b[0m \u001b[1;33m=\u001b[0m \u001b[0mlinesearch\u001b[0m\u001b[1;33m(\u001b[0m\u001b[0mg_PQ\u001b[0m\u001b[1;33m,\u001b[0m \u001b[0mgrad_PQ\u001b[0m\u001b[1;33m,\u001b[0m \u001b[0mP0Q0\u001b[0m\u001b[1;33m,\u001b[0m \u001b[1;33m-\u001b[0m\u001b[0mnp\u001b[0m\u001b[1;33m.\u001b[0m\u001b[0mravel\u001b[0m\u001b[1;33m(\u001b[0m\u001b[0mgrad\u001b[0m\u001b[1;33m)\u001b[0m\u001b[1;33m)\u001b[0m\u001b[1;33m\u001b[0m\u001b[1;33m\u001b[0m\u001b[0m\n\u001b[0m\u001b[0;32m     13\u001b[0m         \u001b[0mP0Q0\u001b[0m \u001b[1;33m=\u001b[0m \u001b[0mP0Q0\u001b[0m \u001b[1;33m-\u001b[0m \u001b[0mgamma_k\u001b[0m \u001b[1;33m*\u001b[0m \u001b[0mgrad\u001b[0m\u001b[1;33m\u001b[0m\u001b[1;33m\u001b[0m\u001b[0m\n\u001b[0;32m     14\u001b[0m         \u001b[0mgrad\u001b[0m \u001b[1;33m=\u001b[0m \u001b[0mf\u001b[0m\u001b[1;33m(\u001b[0m\u001b[0mP0Q0\u001b[0m\u001b[1;33m,\u001b[0m \u001b[0mR\u001b[0m\u001b[1;33m,\u001b[0m \u001b[0mmask\u001b[0m\u001b[1;33m,\u001b[0m \u001b[0mrho\u001b[0m\u001b[1;33m)\u001b[0m\u001b[1;33m[\u001b[0m\u001b[1;36m1\u001b[0m\u001b[1;33m]\u001b[0m\u001b[1;33m\u001b[0m\u001b[1;33m\u001b[0m\u001b[0m\n",
      "\u001b[1;31mTypeError\u001b[0m: 'module' object is not callable"
     ]
    }
   ],
   "source": [
    "P0Q0 = np.concatenate([np.ravel(P0),np.ravel(Q0)])\n",
    "new_eps = 100\n",
    "\n",
    "argmin,minimum = line_searh_grad_generalized(total_objective_vectorized,P0Q0,new_eps)\n",
    "print(\"The argmin of g is {}\\n\\nThe minimum of g is {}\".format(argmin,minimum))"
   ]
  },
  {
   "cell_type": "code",
   "execution_count": 28,
   "metadata": {},
   "outputs": [
    {
     "ename": "NameError",
     "evalue": "name 'argmin' is not defined",
     "output_type": "error",
     "traceback": [
      "\u001b[1;31m---------------------------------------------------------------------------\u001b[0m",
      "\u001b[1;31mNameError\u001b[0m                                 Traceback (most recent call last)",
      "\u001b[1;32m<ipython-input-28-5fc4aef59135>\u001b[0m in \u001b[0;36m<module>\u001b[1;34m\u001b[0m\n\u001b[0;32m      1\u001b[0m \u001b[0mn_items\u001b[0m \u001b[1;33m=\u001b[0m \u001b[0mR\u001b[0m\u001b[1;33m.\u001b[0m\u001b[0mshape\u001b[0m\u001b[1;33m[\u001b[0m\u001b[1;36m1\u001b[0m\u001b[1;33m]\u001b[0m\u001b[1;33m\u001b[0m\u001b[1;33m\u001b[0m\u001b[0m\n\u001b[0;32m      2\u001b[0m \u001b[0mn_users\u001b[0m \u001b[1;33m=\u001b[0m \u001b[0mR\u001b[0m\u001b[1;33m.\u001b[0m\u001b[0mshape\u001b[0m\u001b[1;33m[\u001b[0m\u001b[1;36m0\u001b[0m\u001b[1;33m]\u001b[0m\u001b[1;33m\u001b[0m\u001b[1;33m\u001b[0m\u001b[0m\n\u001b[1;32m----> 3\u001b[1;33m \u001b[0mF\u001b[0m \u001b[1;33m=\u001b[0m \u001b[0margmin\u001b[0m\u001b[1;33m.\u001b[0m\u001b[0mshape\u001b[0m\u001b[1;33m[\u001b[0m\u001b[1;36m0\u001b[0m\u001b[1;33m]\u001b[0m \u001b[1;33m//\u001b[0m \u001b[1;33m(\u001b[0m\u001b[0mn_items\u001b[0m \u001b[1;33m+\u001b[0m \u001b[0mn_users\u001b[0m\u001b[1;33m)\u001b[0m\u001b[1;33m\u001b[0m\u001b[1;33m\u001b[0m\u001b[0m\n\u001b[0m\u001b[0;32m      4\u001b[0m \u001b[0mPvec\u001b[0m \u001b[1;33m=\u001b[0m \u001b[0margmin\u001b[0m\u001b[1;33m[\u001b[0m\u001b[1;36m0\u001b[0m\u001b[1;33m:\u001b[0m\u001b[0mn_items\u001b[0m\u001b[1;33m*\u001b[0m\u001b[0mF\u001b[0m\u001b[1;33m]\u001b[0m\u001b[1;33m\u001b[0m\u001b[1;33m\u001b[0m\u001b[0m\n\u001b[0;32m      5\u001b[0m \u001b[0mQvec\u001b[0m \u001b[1;33m=\u001b[0m \u001b[0margmin\u001b[0m\u001b[1;33m[\u001b[0m\u001b[0mn_items\u001b[0m\u001b[1;33m*\u001b[0m\u001b[0mF\u001b[0m\u001b[1;33m:\u001b[0m\u001b[1;33m]\u001b[0m\u001b[1;33m\u001b[0m\u001b[1;33m\u001b[0m\u001b[0m\n",
      "\u001b[1;31mNameError\u001b[0m: name 'argmin' is not defined"
     ]
    }
   ],
   "source": [
    "n_items = R.shape[1]\n",
    "n_users = R.shape[0]\n",
    "F = argmin.shape[0] // (n_items + n_users)\n",
    "Pvec = argmin[0:n_items*F]\n",
    "Qvec = argmin[n_items*F:]\n",
    "P_hat = np.reshape(Pvec, (F, n_items))\n",
    "Q_hat = np.reshape(Qvec, (n_users, F))\n",
    "\n",
    "#We calculate the new matrix R with the new matrix P and Q according to the subject\n",
    "R_hat = Q_hat@P_hat\n",
    "user_score = R_hat * (1-mask) #we apply the opposite mask in order to eliminate the films the user already saw\n",
    "recommended_movie = np.argmax(user_score[300,:])\n",
    "print('The recommended movie for user 300 is the movie {}'.format(recommended_movie))"
   ]
  }
 ],
 "metadata": {
  "kernelspec": {
   "display_name": "Python 3",
   "language": "python",
   "name": "python3"
  },
  "language_info": {
   "codemirror_mode": {
    "name": "ipython",
    "version": 3
   },
   "file_extension": ".py",
   "mimetype": "text/x-python",
   "name": "python",
   "nbconvert_exporter": "python",
   "pygments_lexer": "ipython3",
   "version": "3.7.3"
  }
 },
 "nbformat": 4,
 "nbformat_minor": 1
}
