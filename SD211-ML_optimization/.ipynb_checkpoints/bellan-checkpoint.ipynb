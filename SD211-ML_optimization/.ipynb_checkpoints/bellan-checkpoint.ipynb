{
 "cells": [
  {
   "cell_type": "markdown",
   "metadata": {},
   "source": [
    "# Libraries importation"
   ]
  },
  {
   "cell_type": "code",
   "execution_count": 5,
   "metadata": {},
   "outputs": [
    {
     "ename": "ModuleNotFoundError",
     "evalue": "No module named 'movielens_utils'",
     "output_type": "error",
     "traceback": [
      "\u001b[1;31m---------------------------------------------------------------------------\u001b[0m",
      "\u001b[1;31mModuleNotFoundError\u001b[0m                       Traceback (most recent call last)",
      "\u001b[1;32m<ipython-input-5-985c86bc646c>\u001b[0m in \u001b[0;36m<module>\u001b[1;34m\u001b[0m\n\u001b[1;32m----> 1\u001b[1;33m \u001b[1;32mimport\u001b[0m \u001b[0mmovielens_utils\u001b[0m \u001b[1;32mas\u001b[0m \u001b[0mmv\u001b[0m\u001b[1;33m\u001b[0m\u001b[1;33m\u001b[0m\u001b[0m\n\u001b[0m\u001b[0;32m      2\u001b[0m \u001b[1;32mimport\u001b[0m \u001b[0mnumpy\u001b[0m \u001b[1;32mas\u001b[0m \u001b[0mnp\u001b[0m\u001b[1;33m\u001b[0m\u001b[1;33m\u001b[0m\u001b[0m\n\u001b[0;32m      3\u001b[0m \u001b[1;32mimport\u001b[0m \u001b[0mpandas\u001b[0m \u001b[1;32mas\u001b[0m \u001b[0mpd\u001b[0m\u001b[1;33m\u001b[0m\u001b[1;33m\u001b[0m\u001b[0m\n\u001b[0;32m      4\u001b[0m \u001b[1;32mfrom\u001b[0m \u001b[0mscipy\u001b[0m\u001b[1;33m.\u001b[0m\u001b[0msparse\u001b[0m\u001b[1;33m.\u001b[0m\u001b[0mlinalg\u001b[0m \u001b[1;32mimport\u001b[0m \u001b[0msvds\u001b[0m\u001b[1;33m\u001b[0m\u001b[1;33m\u001b[0m\u001b[0m\n\u001b[0;32m      5\u001b[0m \u001b[1;32mimport\u001b[0m \u001b[0mscipy\u001b[0m\u001b[1;33m.\u001b[0m\u001b[0moptimize\u001b[0m \u001b[1;32mas\u001b[0m \u001b[0mopt\u001b[0m\u001b[1;33m\u001b[0m\u001b[1;33m\u001b[0m\u001b[0m\n",
      "\u001b[1;31mModuleNotFoundError\u001b[0m: No module named 'movielens_utils'"
     ]
    }
   ],
   "source": [
    "import movielens_utils as mv\n",
    "import numpy as np \n",
    "import pandas as pd \n",
    "from scipy.sparse.linalg import svds\n",
    "import scipy.optimize as opt"
   ]
  },
  {
   "cell_type": "markdown",
   "metadata": {},
   "source": [
    "# Presentation of the model"
   ]
  },
  {
   "cell_type": "markdown",
   "metadata": {},
   "source": [
    "## Question 1.1"
   ]
  },
  {
   "cell_type": "code",
   "execution_count": 2,
   "metadata": {},
   "outputs": [
    {
     "data": {
      "text/plain": [
       "(943, 1682)"
      ]
     },
     "execution_count": 2,
     "metadata": {},
     "output_type": "execute_result"
    }
   ],
   "source": [
    "data_file = './ml-100k/u.data'\n",
    "data = mv.load_movielens(data_file)\n",
    "R,mask = data[0],data[1]\n",
    "np.shape(R)"
   ]
  },
  {
   "cell_type": "markdown",
   "metadata": {},
   "source": [
    "We see that the matrix R has size $943*1682$ which is what we are looking for. The minidata option return a sample of the matrix R and mask of size $100*200$."
   ]
  },
  {
   "cell_type": "markdown",
   "metadata": {},
   "source": [
    "## Question 1.2"
   ]
  },
  {
   "cell_type": "code",
   "execution_count": 3,
   "metadata": {},
   "outputs": [
    {
     "name": "stdout",
     "output_type": "stream",
     "text": [
      "100000\n"
     ]
    }
   ],
   "source": [
    "num_grades = np.sum(mask)\n",
    "print(num_grades)"
   ]
  },
  {
   "cell_type": "markdown",
   "metadata": {},
   "source": [
    "In the database there are $943$ users (which is the number of rows) and $1682$ films (which is the number of columns).  The total number of grades is the number of True value in the mask matrix, which is $100~000$"
   ]
  },
  {
   "cell_type": "markdown",
   "metadata": {},
   "source": [
    "# Find $P$ when $Q^0$ is fixed"
   ]
  },
  {
   "cell_type": "markdown",
   "metadata": {},
   "source": [
    "## Question 2.1"
   ]
  },
  {
   "cell_type": "markdown",
   "metadata": {},
   "source": [
    "$\\displaystyle g(P)=\\frac{1}{2}\\sum_{u\\in U,i\\in I}\\mathbb{1}_{K}(u,i)\\left(R_{u,i}-\\sum_{f\\in F}Q^0_{u,f}P_{f,i}\\right)^2+\\frac{\\rho}{2}\\lVert Q^0\\rVert_{F}^2+\\frac{\\rho}{2}\\sum_{i\\in I,f\\in F}P_{f,i}^2$\n",
    "\n",
    "Therefore, $\\forall{k\\in F},\\forall{l\\in I}: $\n",
    "\n",
    "$\\displaystyle \\frac{\\partial g}{\\partial P_{k,l}}(P)=\\sum_{u\\in U,i\\in I}\\mathbb{1}_{K}(u,i)\\delta_{i,l}\\left(R_{u,i}-\\sum_{f\\in F}Q^0_{u,f}P_{f,i}\\right)(-Q^0_{u,k})+\\rho P_{k,l}$\n",
    "\n",
    "We can write $\\displaystyle \\nabla g(P)={Q^0}^T\\left(\\mathbb{1}_{K}\\circ(Q^0P-R)\\right)+\\rho P$"
   ]
  },
  {
   "cell_type": "markdown",
   "metadata": {},
   "source": [
    "## Question 2.2"
   ]
  },
  {
   "cell_type": "code",
   "execution_count": 19,
   "metadata": {},
   "outputs": [],
   "source": [
    "Q0,S,P0 = svds(R,k=4)\n",
    "rho = 0.3\n",
    "\n",
    "def g(P):\n",
    "    P = np.reshape(P,(4,1682))\n",
    "    val = mv.objective(P,Q0,R,mask,rho)[0]\n",
    "    return val\n",
    "\n",
    "def grad_g(P):\n",
    "    P = np.reshape(P,(4,1682))\n",
    "    grad_P = mv.objective(P, Q0, R, mask, rho)[1]\n",
    "    return np.ravel(grad_P)"
   ]
  },
  {
   "cell_type": "code",
   "execution_count": 5,
   "metadata": {},
   "outputs": [
    {
     "name": "stdout",
     "output_type": "stream",
     "text": [
      "1.1166006128552608\n"
     ]
    }
   ],
   "source": [
    "#We calculate the error\n",
    "err = opt.check_grad(g,grad_g,x0=np.ravel(P0))\n",
    "print(err)"
   ]
  },
  {
   "cell_type": "markdown",
   "metadata": {},
   "source": [
    "## Question 2.3"
   ]
  },
  {
   "cell_type": "code",
   "execution_count": 6,
   "metadata": {},
   "outputs": [],
   "source": [
    "def gradient(fct,P0,gamma,epsilon):\n",
    "    grad = fct(P0,Q0,R,mask,rho)[1]\n",
    "    while np.sqrt(np.sum(grad**2)) > epsilon:\n",
    "        P0 = P0 - gamma * grad\n",
    "        grad = fct(P0,Q0,R,mask,rho)[1]\n",
    "    return P0,fct(P0,Q0,R,mask,rho)[0]"
   ]
  },
  {
   "cell_type": "markdown",
   "metadata": {},
   "source": [
    "## Question 2.4"
   ]
  },
  {
   "cell_type": "code",
   "execution_count": 7,
   "metadata": {},
   "outputs": [
    {
     "name": "stdout",
     "output_type": "stream",
     "text": [
      "The argmin of g is [[-2.23284225e+00  4.90664665e-01  9.98919015e+00 ... -4.74987005e-01\n",
      "   3.92212474e-02  8.67808467e-01]\n",
      " [ 4.53777371e+00 -1.35365298e+01 -2.56785789e+00 ...  3.63533351e-01\n",
      "  -3.15394841e-01 -1.77455812e-01]\n",
      " [-2.02978127e+01 -4.68180885e-01 -1.07452929e+01 ... -3.43502581e-01\n",
      "   8.21005494e-02  1.54999171e-01]\n",
      " [ 5.76416726e+01  2.77454348e+01  1.98640643e+01 ...  6.09197523e-02\n",
      "   6.75813808e-01  6.32544121e-01]]\n",
      "\n",
      "The minimum of g is 369551.54991481936\n"
     ]
    }
   ],
   "source": [
    "L0 = rho + np.sqrt(np.sum((Q0.T@Q0)**2))\n",
    "gamma = 1/L0\n",
    "epsilon = 1 \n",
    "print(\"The argmin of g is {}\\n\\nThe minimum of g is {}\".format(gradient(mv.objective,P0,gamma,epsilon)[0],gradient(mv.objective,P0,gamma,epsilon)[1]))"
   ]
  },
  {
   "cell_type": "markdown",
   "metadata": {},
   "source": [
    "## Question 2.5"
   ]
  },
  {
   "cell_type": "code",
   "execution_count": 8,
   "metadata": {},
   "outputs": [
    {
     "name": "stdout",
     "output_type": "stream",
     "text": [
      "The argmin of g is [[-2.23398105e+00  4.90322723e-01  9.98772528e+00 ... -4.74423899e-01\n",
      "   3.91619850e-02  8.66849934e-01]\n",
      " [ 4.53883470e+00 -1.35332793e+01 -2.56588860e+00 ...  3.63102008e-01\n",
      "  -3.14917972e-01 -1.77259625e-01]\n",
      " [-2.02984823e+01 -4.65096299e-01 -1.07474683e+01 ... -3.43094903e-01\n",
      "   8.19763912e-02  1.54827764e-01]\n",
      " [ 5.76420231e+01  2.77486548e+01  1.98678781e+01 ...  6.08473595e-02\n",
      "   6.74790793e-01  6.31843664e-01]]\n",
      "\n",
      "The minimum of g is 369551.4110548445\n"
     ]
    }
   ],
   "source": [
    "def line_search_gradient(fct,P0,epsilon):\n",
    "    grad = fct(P0, Q0, R, mask, rho)[1]\n",
    "    while np.sqrt(np.sum(grad**2))> epsilon:\n",
    "        gamma_k = opt.line_search(g,grad_g,np.ravel(P0),-np.ravel(grad))[0]\n",
    "        P0 = P0 - gamma_k * grad\n",
    "        grad = fct(P0, Q0, R, mask, rho)[1]\n",
    "    return P0,fct(P0, Q0, R, mask, rho)[0]\n",
    "\n",
    "print(\"The argmin of g is {}\\n\\nThe minimum of g is {}\".format(line_search_gradient(mv.objective,P0,epsilon)[0],line_search_gradient(mv.objective,P0,epsilon)[1]))\n"
   ]
  },
  {
   "cell_type": "markdown",
   "metadata": {},
   "source": [
    "# Resolution of the full problem"
   ]
  },
  {
   "cell_type": "markdown",
   "metadata": {},
   "source": [
    "## Question 3.2"
   ]
  },
  {
   "cell_type": "code",
   "execution_count": 9,
   "metadata": {},
   "outputs": [],
   "source": [
    "#Let's define the new functions associated with PQvec, using the movielens_utils.py file\n",
    "\n",
    "def g_PQ(PQvec):\n",
    "    val = mv.total_objective_vectorized(PQvec,R,mask,rho)[0]\n",
    "    return val\n",
    "\n",
    "def grad_PQ(PQvec):\n",
    "    grad = mv.total_objective_vectorized(PQvec,R,mask,rho)[1]\n",
    "    return np.ravel(grad)\n",
    "\n",
    "def line_searh_grad_generalized(fct,P0Q0,epsilon):\n",
    "    grad = fct(P0Q0,R,mask,rho)[1]\n",
    "    while np.sqrt(np.sum(grad**2)) > epsilon:\n",
    "        gamma_k = opt.line_search(g_PQ, grad_PQ, P0Q0, -np.ravel(grad))[0]\n",
    "        P0Q0 = P0Q0 - gamma_k * grad\n",
    "        grad = fct(P0Q0, R, mask, rho)[1]\n",
    "    return P0Q0, fct(P0Q0, R, mask, rho)[0]"
   ]
  },
  {
   "cell_type": "code",
   "execution_count": 10,
   "metadata": {},
   "outputs": [
    {
     "name": "stdout",
     "output_type": "stream",
     "text": [
      "The argmin of g is [-0.31075175  0.02359593  0.80690923 ... -0.31753188 -0.8337803\n",
      "  1.98480307]\n",
      "\n",
      "The minimum of g is 35976.867060427976\n"
     ]
    }
   ],
   "source": [
    "P0Q0 = np.concatenate([np.ravel(P0),np.ravel(Q0)])\n",
    "new_eps = 100\n",
    "\n",
    "argmin,minimum = line_searh_grad_generalized(mv.total_objective_vectorized,P0Q0,new_eps)\n",
    "print(\"The argmin of g is {}\\n\\nThe minimum of g is {}\".format(argmin,minimum))"
   ]
  },
  {
   "cell_type": "markdown",
   "metadata": {},
   "source": [
    "## Question 3.3"
   ]
  },
  {
   "cell_type": "code",
   "execution_count": 37,
   "metadata": {},
   "outputs": [
    {
     "name": "stdout",
     "output_type": "stream",
     "text": [
      "The recommended movie for user 300 is the movie 312\n"
     ]
    }
   ],
   "source": [
    "n_items = R.shape[1]\n",
    "n_users = R.shape[0]\n",
    "F = argmin.shape[0] // (n_items + n_users)\n",
    "Pvec = argmin[0:n_items*F]\n",
    "Qvec = argmin[n_items*F:]\n",
    "P_hat = np.reshape(Pvec, (F, n_items))\n",
    "Q_hat = np.reshape(Qvec, (n_users, F))\n",
    "\n",
    "#We calculate the new matrix R with the new matrix P and Q according to the subject\n",
    "R_hat = Q_hat@P_hat\n",
    "user_score = R_hat * (1-mask) #we apply the opposite mask in order to eliminate the films the user already saw\n",
    "recommended_movie = np.argmax(user_score[300,:])\n",
    "print('The recommended movie for user 300 is the movie {}'.format(recommended_movie))"
   ]
  }
 ],
 "metadata": {
  "kernelspec": {
   "display_name": "Python 3",
   "language": "python",
   "name": "python3"
  },
  "language_info": {
   "codemirror_mode": {
    "name": "ipython",
    "version": 3
   },
   "file_extension": ".py",
   "mimetype": "text/x-python",
   "name": "python",
   "nbconvert_exporter": "python",
   "pygments_lexer": "ipython3",
   "version": "3.7.3"
  }
 },
 "nbformat": 4,
 "nbformat_minor": 2
}
