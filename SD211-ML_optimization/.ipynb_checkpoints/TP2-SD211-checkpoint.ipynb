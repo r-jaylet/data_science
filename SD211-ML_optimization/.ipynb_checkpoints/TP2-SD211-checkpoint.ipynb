{
 "cells": [
  {
   "cell_type": "markdown",
   "metadata": {},
   "source": [
    "# SD-TSIA211 : TP2 - BREAST CANCER DATA ANALYSIS\n",
    "\n",
    "## Remi Jaylet & Romain Louvet"
   ]
  },
  {
   "cell_type": "markdown",
   "metadata": {},
   "source": [
    "### imports"
   ]
  },
  {
   "cell_type": "code",
   "execution_count": 1,
   "metadata": {
    "pycharm": {
     "name": "#%%\n"
    }
   },
   "outputs": [],
   "source": [
    "import numpy as np\n",
    "import matplotlib.pyplot as plt"
   ]
  },
  {
   "cell_type": "markdown",
   "metadata": {},
   "source": [
    "### 1 - Data"
   ]
  },
  {
   "cell_type": "code",
   "execution_count": 2,
   "metadata": {
    "pycharm": {
     "name": "#%%\n"
    }
   },
   "outputs": [],
   "source": [
    "def load_breastcancer(filename):\n",
    "    \"\"\"\n",
    "    Cette fonction lit le fichier filename, par exemple\n",
    "    filename = 'wdbc_M1_B0.data'\n",
    "    Elle retourne \n",
    "    X : une matrice de caracteristiques\n",
    "    y : un vecteur des classes tel que si y[i] = 1, la tumeur est maligne\n",
    "        et si y[i] = -1, la tumeur est benigne\n",
    "\n",
    "    Pour plus d'infos sur la base de donnees,\n",
    "    https://archive.ics.uci.edu/ml/datasets/Breast+Cancer+Wisconsin+%28Prognostic%29\n",
    "    \"\"\"\n",
    "\n",
    "    data = np.loadtxt(filename, delimiter=',')\n",
    "\n",
    "    # la colonne 0 ne nous interesse pas ici\n",
    "    y = data[:, 1] * 2 - 1\n",
    "    X = data[:, 2:]\n",
    "\n",
    "    # Standardisation de la matrice\n",
    "    X = X - np.mean(X, axis=0)\n",
    "    X = X / np.std(X, axis=0)\n",
    "\n",
    "    return X, y"
   ]
  },
  {
   "cell_type": "code",
   "execution_count": 3,
   "metadata": {
    "pycharm": {
     "name": "#%%\n"
    }
   },
   "outputs": [],
   "source": [
    "X, y = load_breastcancer(\"wdbcM1B0.data\")"
   ]
  },
  {
   "cell_type": "markdown",
   "metadata": {},
   "source": [
    "### 2 - Sub-gradient method"
   ]
  },
  {
   "cell_type": "markdown",
   "metadata": {
    "pycharm": {
     "name": "#%% md\n"
    }
   },
   "source": [
    "#### Question 2.1"
   ]
  },
  {
   "cell_type": "markdown",
   "metadata": {
    "pycharm": {
     "name": "#%%\n"
    }
   },
   "source": [
    "According to the the two inequalties in the text, we have : $$ \\forall i, \\xi_{i} \\geq max(0,1-y_{i}(x_{i}^Tv+a)) $$\n",
    "\n",
    "As the left term of two expressions are the same, the difference is in the reformulation of xi_i. However it is equivalent to minimize $$ \\forall i, \\xi_{i} \\quad \\textrm{and} \\quad max(0,1-y_{i}(x_{i}^Tv+a)) $$\n",
    "\n",
    "Thus, the two expressions are equivalent."
   ]
  },
  {
   "cell_type": "markdown",
   "metadata": {
    "pycharm": {
     "name": "#%% md\n"
    }
   },
   "source": [
    "#### Question 2.2"
   ]
  },
  {
   "cell_type": "code",
   "execution_count": 4,
   "metadata": {
    "pycharm": {
     "name": "#%%\n"
    }
   },
   "outputs": [
    {
     "data": {
      "image/png": "[encoded data removed]",
      "text/plain": [
       "<Figure size 432x288 with 1 Axes>"
      ]
     },
     "metadata": {
      "needs_background": "light"
     },
     "output_type": "display_data"
    }
   ],
   "source": [
    "def h(z):\n",
    "    return np.maximum(np.zeros(z.shape),1-z)\n",
    "\n",
    "def d(z):\n",
    "    res = []\n",
    "    for i in range(len(z)):\n",
    "        if z[i] < 1 :\n",
    "            res.append(-1)\n",
    "        elif z[i] > 1 :\n",
    "            res.append(0)\n",
    "        else : \n",
    "            res.append(arange(0,1,0.01))\n",
    "    return res\n",
    "\n",
    "x=np.arange(-3,3,0.01)\n",
    "\n",
    "plt.plot(x,h(x))\n",
    "plt.plot(x,d(x), color = \"red\")\n",
    "plt.title(\"Function h\")\n",
    "plt.grid()\n",
    "\n",
    "plt.show()"
   ]
  },
  {
   "cell_type": "markdown",
   "metadata": {
    "pycharm": {
     "name": "#%% md\n"
    }
   },
   "source": [
    "For all z != 1, h is differentiable. Pour z = 1, we can see that all the slopes between -1 and 0 can fit. The expression of the subject is thus correct.\n"
   ]
  },
  {
   "cell_type": "markdown",
   "metadata": {},
   "source": [
    "#### Question 2.3"
   ]
  },
  {
   "cell_type": "markdown",
   "metadata": {
    "pycharm": {
     "name": "#%%\n"
    }
   },
   "source": [
    "For the two seperable expressions, we take :\n",
    "\n",
    "$$ N(v)=\\frac{1}{2} \\sum_{i=1}^{m+1} n_i(v_i) \\quad \\textrm{and} \\quad H(v)=\\frac{1}{2} \\sum_{i=1}^{m+1} h_i(v_i) $$\n",
    "\n",
    "with $$ \\forall i \\in [1,n],  n_i(v_i)=v_i² \\quad \\textrm{and} \\quad h_i(v_i)=max(0, 1 - v_i) $$\n",
    "\n",
    "N and H are well seperable.\n",
    "For the linear application, we have the following expression : $$ M(v) = y_{i}(x_{i}^Tv+a) $$\n",
    "\n",
    "\n",
    "Hence, $f(v,a) = N(v,a) + cH(M(v,a))$\n",
    "\n",
    "\n",
    "\n",
    "As N is differentiable, we have :  $\\partial N(v,a) = (v, 0)$\n",
    "As H is seperable, we have : $\\partial H(M(v,a)) = \\prod_i \\partial h(M_i(v,a)) = \\prod_i \\partial h(y_i(x_i^Tv+a))$\n",
    "\n",
    "We differentiate the function f is $\\partial f(v,a) = \\partial N(v,a) + cM^T \\partial H (M(v,a)).$\n"
   ]
  },
  {
   "cell_type": "markdown",
   "metadata": {},
   "source": [
    "#### Question 2.4"
   ]
  },
  {
   "cell_type": "code",
   "execution_count": 41,
   "metadata": {
    "pycharm": {
     "name": "#%%\n"
    }
   },
   "outputs": [],
   "source": [
    "c = 1\n",
    "M = np.dot(np.diag(y), np.concatenate([X, np.ones((569,1))], axis = 1))\n",
    "\n",
    "\n",
    "def N(va):\n",
    "    return (1/2) * np.sum(va[:-1]**2)\n",
    "\n",
    "def H(va):\n",
    "    return np.sum(h(np.dot(M,va)))\n",
    "\n",
    "def f(va):\n",
    "    return N(va) + c * H(va)\n",
    "\n",
    "def dev_N(va):\n",
    "    return np.concatenate([va[:-1], [0]])\n",
    "\n",
    "def dev_H(va):\n",
    "    return np.dot(np.transpose(M), (np.dot(M,va)>=1) - 1)\n",
    "\n",
    "def dev_f(va):\n",
    "    return dev_N(va) + c * dev_H(va)\n"
   ]
  },
  {
   "cell_type": "markdown",
   "metadata": {},
   "source": [
    "#### Question 2.5"
   ]
  },
  {
   "cell_type": "code",
   "execution_count": 42,
   "metadata": {
    "pycharm": {
     "name": "#%%\n"
    }
   },
   "outputs": [],
   "source": [
    "def sub_gradient(va0, N):\n",
    "    \"\"\"\n",
    "        implementation of the subgradient method explained i nthe subject\n",
    "    \"\"\"\n",
    "    sum_gamma = 0\n",
    "    sum_va = np.zeros(va0.shape)\n",
    "    for k in range(N):\n",
    "        gamma = 1/(k+1)\n",
    "        sum_gamma += gamma\n",
    "        sum_va += va0*gamma\n",
    "        va0 = va0-gamma*dev_f(va0)\n",
    "    return sum_va/sum_gamma"
   ]
  },
  {
   "cell_type": "code",
   "execution_count": 43,
   "metadata": {},
   "outputs": [
    {
     "name": "stdout",
     "output_type": "stream",
     "text": [
      "Initial value of f : 569.0\n",
      "Final value of f : 16989.301940798585\n"
     ]
    }
   ],
   "source": [
    "va0 = np.zeros((31,))\n",
    "print(\"Initial value of f :\", f(va0))\n",
    "va1 = sub_gradient(va0, 10000)\n",
    "print(\"Final value of f :\",f(va1))"
   ]
  },
  {
   "cell_type": "markdown",
   "metadata": {},
   "source": [
    "### 3 - Stochastic subgradient method"
   ]
  },
  {
   "cell_type": "markdown",
   "metadata": {},
   "source": [
    "#### Question 3.1"
   ]
  },
  {
   "cell_type": "markdown",
   "metadata": {
    "pycharm": {
     "name": "#%%\n"
    }
   },
   "source": [
    "$$ E(f_I(v,a)) = \\sum_i P(I = i) \\times f_i(v,a) = \\frac{1}{n}\\sum_i f_i(v,a) $$\n",
    "\n",
    "Hence, $$ E(f_I(v,a)) = \\frac{1}{2n} \\sum_j n\\,v_j^2 + \\frac{1}{n}\\sum_i c\\,n\\,max(0,1-y_i(x_i^Tv + a))$$ \n",
    "\n",
    "Thus, $$ E(f_I(v,a)) = \\frac{1}{2} \\sum_j v_j^2 + c\\sum_i max(0,1-y_i(x_i^Tv + a))= f(v,a)$$"
   ]
  },
  {
   "cell_type": "markdown",
   "metadata": {},
   "source": [
    "#### Question 3.2"
   ]
  },
  {
   "cell_type": "markdown",
   "metadata": {},
   "source": [
    "$$\\partial f_i(v,a) = \\partial N(v,a) + c\\, n\\, M_i^T\\partial H(M_i(v,a)) $$"
   ]
  },
  {
   "cell_type": "markdown",
   "metadata": {},
   "source": [
    "#### Question 3.3"
   ]
  },
  {
   "cell_type": "code",
   "execution_count": 39,
   "metadata": {
    "pycharm": {
     "name": "#%%\n"
    }
   },
   "outputs": [],
   "source": [
    "def dev_H_i(va, i):\n",
    "    return ((np.dot(M[i,:],va)>=1)- 1) * M[i,:]\n",
    "\n",
    "def dev_f_i(va, i):\n",
    "    return dev_N(va) +  M.shape[0] * dev_H_i(va,i)\n",
    "\n",
    "def stochastic_gradient(va0, N):\n",
    "    \"\"\"\n",
    "    implementatio nof the stochastic gradient method\n",
    "    \"\"\"\n",
    "    n = M.shape[0]\n",
    "    sum_gamma = 0\n",
    "    sum_va = np.zeros(va0.shape)\n",
    "    for k in range(N):\n",
    "        I = np.random.randint(n)  # select one random element\n",
    "        gamma = 1/(k+1)\n",
    "        sum_gamma += gamma\n",
    "        sum_va += va0*gamma\n",
    "        va0 = va0-gamma*dev_f_i(va0,I)  # multiply by the random element selected\n",
    "    return sum_va/sum_gamma"
   ]
  },
  {
   "cell_type": "code",
   "execution_count": 40,
   "metadata": {},
   "outputs": [
    {
     "name": "stdout",
     "output_type": "stream",
     "text": [
      "Initial value of f : 569.0\n",
      "Final value of f : 55244.8425308796\n"
     ]
    }
   ],
   "source": [
    "va0 = np.zeros((31,))\n",
    "print(\"Initial value of f :\",f(va0))\n",
    "va1 = stochastic_gradient(va0, 100000)\n",
    "print(\"Final value of f :\",f(va1))"
   ]
  },
  {
   "cell_type": "markdown",
   "metadata": {},
   "source": [
    "### 4 - Augmented Lagrangian method"
   ]
  },
  {
   "cell_type": "markdown",
   "metadata": {},
   "source": [
    "#### Question 4.1"
   ]
  },
  {
   "cell_type": "markdown",
   "metadata": {
    "pycharm": {
     "name": "#%%\n"
    }
   },
   "source": [
    "The lagrangian problem of (1) is written : $L(v, a, \\xi, \\phi) = \\frac{1}{2} \\sum_jv_j^2 + c\\sum_i\\xi_i + \\sum_i\\phi_i \\times (1-M_i(v,a)-\\xi_i) + \\sum_i \\iota_{R_+}(\\phi_i)$"
   ]
  },
  {
   "cell_type": "markdown",
   "metadata": {},
   "source": [
    "#### Question 4.2"
   ]
  },
  {
   "cell_type": "markdown",
   "metadata": {},
   "source": [
    "$$ f(x) = \\frac{\\rho}{2}(max(0,x))^2 $$\n",
    "$$ h(x, \\phi) = x+\\frac{\\phi}{\\rho} $$\n",
    "\n",
    "$$ \\nabla_x g(x,\\phi) = h_x'(x,\\phi) \\, f'( h(x,\\phi) ) $$\n",
    "\n",
    "$$ \\nabla_\\phi g(x,\\phi) = h_\\phi'(x,\\phi) \\, f'( h(x,\\phi) ) $$\n"
   ]
  },
  {
   "cell_type": "markdown",
   "metadata": {},
   "source": [
    "#### Question 4.3"
   ]
  },
  {
   "cell_type": "markdown",
   "metadata": {
    "pycharm": {
     "name": "#%%\n"
    }
   },
   "source": [
    "$ \\nabla_xg(x, \\phi) $ is an increasing function as $ \\forall x,y \\, \\nabla_xg(x, \\phi) - \\nabla_xg(x, \\phi) \\geq 0 $\n",
    "\n",
    "$ \\nabla_\\phi g(x, \\phi) $ is an decreasing function as $ \\forall \\phi1,\\phi2 \\, \\nabla_{\\phi1} g(x, \\phi1) - \\nabla_{\\phi2} g(x, \\phi2) \\geq 0 $\n",
    "\n",
    "So we have $x \\mapsto g(x,\\phi) \\ convex $ and $ \\phi\\mapsto g(x,\\phi) \\ concave $"
   ]
  },
  {
   "cell_type": "markdown",
   "metadata": {},
   "source": [
    "#### Question 4.4"
   ]
  },
  {
   "cell_type": "code",
   "execution_count": 49,
   "metadata": {
    "pycharm": {
     "name": "#%%\n"
    }
   },
   "outputs": [],
   "source": [
    "rho = 2\n",
    "eps = 1\n",
    "\n",
    "def nabla_g_x(x, phi):\n",
    "    return rho * np.maximum(np.zeros(x.shape), x + phi/rho)\n",
    "\n",
    "def nabla_g_phi(x, phi):\n",
    "    return np.maximum(-phi/rho, x)\n",
    "\n",
    "def min_L(phi, psi, eps):\n",
    "    \"\"\"\n",
    "        seach of the Lagrangian minimum\n",
    "    \"\"\"\n",
    "    \n",
    "    # initialization of the variables\n",
    "    v = np.zeros((30,))\n",
    "    a = 0\n",
    "    xi = np.zeros((569,))\n",
    "    \n",
    "    # initialization of the variatio nof the variables\n",
    "    dv = np.zeros((30,))\n",
    "    da = 1.5\n",
    "    dxi = np.zeros((569,))\n",
    "    \n",
    "    while (np.sum(dv**2)+da**2+np.sum(dxi**2)>1) > 1:\n",
    "        \n",
    "        x = 1-xi-np.dot(np.diag(y), np.dot(X, v) + a)\n",
    "\n",
    "        # implement graident of each variables\n",
    "        dv = v - np.transpose(np.dot(np.dot(np.diag(y), X)), nabla_g_x(x, psi))\n",
    "        da = -np.sum(y * nabla_g_x(x,psi))\n",
    "        dxi = c - nabla_g_x(-xi, phi) - nabla_g_x(x, psi)\n",
    "        \n",
    "        gamma = 1/100\n",
    "        v -= gamma * dv\n",
    "        a -= gamma * da\n",
    "        xi -= gamma * dxi \n",
    "        \n",
    "    return v, a, xi\n",
    "  "
   ]
  },
  {
   "cell_type": "markdown",
   "metadata": {},
   "source": [
    "#### Question 4.5"
   ]
  },
  {
   "cell_type": "code",
   "execution_count": 50,
   "metadata": {
    "pycharm": {
     "name": "#%%\n"
    }
   },
   "outputs": [],
   "source": [
    "def nabla_phi_L(v,a,xi,phi,psi):\n",
    "    return nabla_phi_g(-xi, phi)\n",
    "\n",
    "def nabla_psi_L(v,a,xi,phi,psi):\n",
    "    x = 1-xi-np.dot(np.diag(y), np.dot(X, v) + a)\n",
    "    return nabla_phi_g(x, psi)"
   ]
  },
  {
   "cell_type": "markdown",
   "metadata": {},
   "source": [
    "#### Question 4.6"
   ]
  },
  {
   "cell_type": "code",
   "execution_count": null,
   "metadata": {
    "pycharm": {
     "name": "#%%\n"
    }
   },
   "outputs": [],
   "source": []
  },
  {
   "cell_type": "markdown",
   "metadata": {},
   "source": [
    "### 5 - Comparison"
   ]
  },
  {
   "cell_type": "markdown",
   "metadata": {},
   "source": [
    "#### Question 5.1"
   ]
  },
  {
   "cell_type": "code",
   "execution_count": null,
   "metadata": {},
   "outputs": [],
   "source": []
  }
 ],
 "metadata": {
  "kernelspec": {
   "display_name": "Python 3",
   "language": "python",
   "name": "python3"
  },
  "language_info": {
   "codemirror_mode": {
    "name": "ipython",
    "version": 3
   },
   "file_extension": ".py",
   "mimetype": "text/x-python",
   "name": "python",
   "nbconvert_exporter": "python",
   "pygments_lexer": "ipython3",
   "version": "3.7.3"
  }
 },
 "nbformat": 4,
 "nbformat_minor": 1
}
