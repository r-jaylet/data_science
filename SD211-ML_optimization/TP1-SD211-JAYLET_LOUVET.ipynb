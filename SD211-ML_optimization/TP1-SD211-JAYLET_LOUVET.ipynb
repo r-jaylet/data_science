{
 "cells": [
  {
   "cell_type": "markdown",
   "metadata": {
    "pycharm": {
     "name": "#%% md\n"
    }
   },
   "source": [
    "# SD-TSIA211 : TP1 - RECOMMENDATION\n",
    "\n",
    "## Remi Jaylet & Romain Louvet"
   ]
  },
  {
   "cell_type": "markdown",
   "metadata": {},
   "source": [
    "### imports"
   ]
  },
  {
   "cell_type": "code",
   "execution_count": 63,
   "metadata": {},
   "outputs": [],
   "source": [
    "from movielens_utils import load_movielens, objective, total_objective_vectorized\n",
    "import numpy as np \n",
    "from scipy.sparse.linalg import svds\n",
    "from scipy.optimize import check_grad, line_search"
   ]
  },
  {
   "cell_type": "markdown",
   "metadata": {},
   "source": [
    "### 1 - Presentation of the models"
   ]
  },
  {
   "cell_type": "markdown",
   "metadata": {},
   "source": [
    "#### Question 1.1"
   ]
  },
  {
   "cell_type": "code",
   "execution_count": 51,
   "metadata": {
    "scrolled": true
   },
   "outputs": [
    {
     "name": "stdout",
     "output_type": "stream",
     "text": [
      "R =  [[5. 3. 4. ... 0. 0. 0.]\n",
      " [4. 0. 0. ... 0. 0. 0.]\n",
      " [0. 0. 0. ... 0. 0. 0.]\n",
      " ...\n",
      " [5. 0. 0. ... 0. 0. 0.]\n",
      " [0. 0. 0. ... 0. 0. 0.]\n",
      " [0. 5. 0. ... 0. 0. 0.]]\n",
      "mask =  [[ True  True  True ... False False False]\n",
      " [ True False False ... False False False]\n",
      " [False False False ... False False False]\n",
      " ...\n",
      " [ True False False ... False False False]\n",
      " [False False False ... False False False]\n",
      " [False  True False ... False False False]]\n",
      "dimensions = ( 943 , 1682 )\n",
      "number of ratings : 100000\n"
     ]
    }
   ],
   "source": [
    "R, mask = load_movielens(\"ml-100k/u.data\", minidata=False)\n",
    "print(\"R = \", R)\n",
    "print(\"mask = \", mask)\n",
    "print(\"dimensions = (\", len(R), \",\", len(R[0]), \")\")\n",
    "print(\"number of ratings :\", sum(sum(mask)))"
   ]
  },
  {
   "cell_type": "markdown",
   "metadata": {},
   "source": [
    "#### Question 1.2"
   ]
  },
  {
   "cell_type": "code",
   "execution_count": 52,
   "metadata": {},
   "outputs": [
    {
     "name": "stdout",
     "output_type": "stream",
     "text": [
      "dimensions = ( 100 , 200 )\n"
     ]
    }
   ],
   "source": [
    "R, mask = load_movielens(\"ml-100k/u.data\", minidata=True)\n",
    "print(\"dimensions = (\", len(R), \",\", len(R[0]), \")\")"
   ]
  },
  {
   "cell_type": "markdown",
   "metadata": {},
   "source": [
    "When the minidata option is activated, the function only returns a small portion of the R matrix of only 100 users over 200 films."
   ]
  },
  {
   "cell_type": "markdown",
   "metadata": {
    "pycharm": {
     "name": "#%% md\n"
    }
   },
   "source": [
    "The dimensions of the matric suggest that are ratings from 943 users on 1682 movies.\n",
    "By calculation the number of True values in the mask, we can we that there is 100000 ratings ranging from 0 to 5."
   ]
  },
  {
   "cell_type": "markdown",
   "metadata": {},
   "source": [
    "### 2 - Find P when $ Q^0 $ is fixed"
   ]
  },
  {
   "cell_type": "markdown",
   "metadata": {},
   "source": [
    "#### Question 2.1"
   ]
  },
  {
   "cell_type": "markdown",
   "metadata": {},
   "source": [
    "According to the formula giving in the text : $\\displaystyle g(P)=\\frac{1}{2}\\sum_{u\\in U,i\\in I}\\mathbb{1}_{K}(u,i)\\left(R_{u,i}-\\sum_{f\\in F}Q^0_{u,f}P_{f,i}\\right)^2+\\frac{\\rho}{2}\\lVert Q^0\\rVert_{F}^2+\\frac{\\rho}{2}\\sum_{i\\in I,f\\in F}P_{f,i}^2$\n",
    "\n",
    "Hence, $\\forall{k\\in F},\\forall{l\\in I}, \\displaystyle \\frac{\\partial g}{\\partial P_{k,l}}(P)=\\sum_{u\\in U,i\\in I}\\mathbb{1}_{K}(u,i)\\delta_{i,l}\\left(R_{u,i}-\\sum_{f\\in F}Q^0_{u,f}P_{f,i}\\right)(-Q^0_{u,k})+\\rho P_{k,l}$\n",
    "\n",
    "Thus, $\\displaystyle \\nabla g(P)={Q^0}^T\\left(\\mathbb{1}_{K}\\circ(Q^0P-R)\\right)+\\rho P$"
   ]
  },
  {
   "cell_type": "markdown",
   "metadata": {},
   "source": [
    "#### Question 2.2"
   ]
  },
  {
   "cell_type": "code",
   "execution_count": 64,
   "metadata": {},
   "outputs": [],
   "source": [
    "# initialize parameters\n",
    "\n",
    "R, mask = load_movielens(\"ml-100k/u.data\")\n",
    "Q0,S,P0 = svds(R,k=4)\n",
    "rho = 0.3\n",
    "\n",
    "# define both function to compute the gradient\n",
    "\n",
    "def g(P):\n",
    "    P = np.reshape(P,(4,1682))\n",
    "    val = objective(P,Q0,R,mask,rho)[0]\n",
    "    return val\n",
    "\n",
    "def grad_g(P):\n",
    "    P = np.reshape(P,(4,1682))\n",
    "    grad_P = objective(P, Q0, R, mask, rho)[1]\n",
    "    return np.ravel(grad_P)"
   ]
  },
  {
   "cell_type": "code",
   "execution_count": 67,
   "metadata": {
    "pycharm": {
     "name": "#%%\n"
    },
    "scrolled": true
   },
   "outputs": [
    {
     "name": "stdout",
     "output_type": "stream",
     "text": [
      "error on the gradient : 1.1190771584292862\n"
     ]
    }
   ],
   "source": [
    "error = check_grad(g, grad_g, x0=np.ravel(P0))\n",
    "print(\"error on the gradient :\", error)"
   ]
  },
  {
   "cell_type": "markdown",
   "metadata": {},
   "source": [
    "#### Question 2.3"
   ]
  },
  {
   "cell_type": "code",
   "execution_count": 68,
   "metadata": {},
   "outputs": [],
   "source": [
    "# compute the minimum of a function using the gradient method\n",
    "\n",
    "def gradient(fonction,P0,gamma,epsilon):\n",
    "    val, grad = fonction(P0,Q0,R,mask,rho)\n",
    "    while np.sqrt(np.sum(grad**2)) > epsilon:\n",
    "        P0 = P0 - gamma * grad\n",
    "        grad = fonction(P0,Q0,R,mask,rho)[1]\n",
    "    val = fonction(P0,Q0,R,mask,rho)[0]\n",
    "    return P0, val"
   ]
  },
  {
   "cell_type": "code",
   "execution_count": 69,
   "metadata": {},
   "outputs": [
    {
     "name": "stdout",
     "output_type": "stream",
     "text": [
      "The minimum of g is 369551.5499148193\n",
      "The argmin of g is  [[-2.23284225e+00  4.90664665e-01  9.98919015e+00 ... -4.74987005e-01\n",
      "   3.92212474e-02  8.67808467e-01]\n",
      " [ 4.53777371e+00 -1.35365298e+01 -2.56785789e+00 ...  3.63533351e-01\n",
      "  -3.15394841e-01 -1.77455812e-01]\n",
      " [-2.02978127e+01 -4.68180885e-01 -1.07452929e+01 ... -3.43502581e-01\n",
      "   8.21005494e-02  1.54999171e-01]\n",
      " [ 5.76416726e+01  2.77454348e+01  1.98640643e+01 ...  6.09197523e-02\n",
      "   6.75813808e-01  6.32544121e-01]]\n"
     ]
    }
   ],
   "source": [
    "gamma = 1/(rho + np.sqrt(np.sum((Q0.T@Q0)**2)))\n",
    "epsilon = 1 \n",
    "print(\"The minimum of g is\", gradient(objective,P0,gamma,epsilon)[1])\n",
    "print(\"The argmin of g is \", gradient(objective,P0,gamma,epsilon)[0])"
   ]
  },
  {
   "cell_type": "markdown",
   "metadata": {},
   "source": [
    "#### Question 2.5"
   ]
  },
  {
   "cell_type": "code",
   "execution_count": 70,
   "metadata": {},
   "outputs": [],
   "source": [
    "# add line search method\n",
    "\n",
    "def gradient_2(fonction,P0,epsilon):\n",
    "    val, grad = fonction(P0, Q0, R, mask, rho)\n",
    "    while np.sqrt(np.sum(grad**2))> epsilon:\n",
    "        gamma = line_search(g,grad_g,np.ravel(P0),-np.ravel(grad))[0]\n",
    "        P0 = P0 - gamma * grad\n",
    "        grad = fonction(P0, Q0, R, mask, rho)[1]\n",
    "    val = fonction(P0, Q0, R, mask, rho)[0]\n",
    "    return P0, val"
   ]
  },
  {
   "cell_type": "code",
   "execution_count": 71,
   "metadata": {},
   "outputs": [
    {
     "name": "stdout",
     "output_type": "stream",
     "text": [
      "The minimum of g is 369551.4110548445\n",
      "The argmin of g is  [[-2.23398105e+00  4.90322723e-01  9.98772528e+00 ... -4.74423899e-01\n",
      "   3.91619850e-02  8.66849934e-01]\n",
      " [ 4.53883470e+00 -1.35332793e+01 -2.56588860e+00 ...  3.63102008e-01\n",
      "  -3.14917972e-01 -1.77259625e-01]\n",
      " [-2.02984823e+01 -4.65096299e-01 -1.07474683e+01 ... -3.43094903e-01\n",
      "   8.19763912e-02  1.54827764e-01]\n",
      " [ 5.76420231e+01  2.77486548e+01  1.98678781e+01 ...  6.08473595e-02\n",
      "   6.74790793e-01  6.31843664e-01]]\n"
     ]
    }
   ],
   "source": [
    "print(\"The minimum of g is\", gradient_2(objective,P0,1)[1])\n",
    "print(\"The argmin of g is \", gradient_2(objective,P0,1)[0])"
   ]
  },
  {
   "cell_type": "markdown",
   "metadata": {},
   "source": [
    "### 3 - Resolution of the full problem"
   ]
  },
  {
   "cell_type": "markdown",
   "metadata": {},
   "source": [
    "#### Question 3.1"
   ]
  },
  {
   "cell_type": "markdown",
   "metadata": {},
   "source": [
    "$ f $ is proportional to $ || PQ ||_F ^2 $ so the function is polynomial of degree 4 (square of norm). As the gradient of f  is unbounded in norm, it is not Lipschitz continu."
   ]
  },
  {
   "cell_type": "markdown",
   "metadata": {},
   "source": [
    "#### Question 3.2"
   ]
  },
  {
   "cell_type": "code",
   "execution_count": 72,
   "metadata": {},
   "outputs": [],
   "source": [
    "# We use the same strategy than before and apply the gradient method\n",
    "\n",
    "def g_3(PQ):\n",
    "    val = total_objective_vectorized(PQ,R,mask,rho)[0]\n",
    "    return val\n",
    "\n",
    "def grad_3(PQ):\n",
    "    grad = total_objective_vectorized(PQ,R,mask,rho)[1]\n",
    "    return np.ravel(grad)\n",
    "\n",
    "def line_searh_grad_generalized(fonction,P0Q0,epsilon):\n",
    "    val, grad = fonction(P0Q0,R,mask,rho)\n",
    "    while np.sqrt(np.sum(grad**2)) > epsilon:\n",
    "        gamma = line_search(g_3, grad_3, P0Q0, -np.ravel(grad))[0]\n",
    "        P0Q0 = P0Q0 - gamma * grad\n",
    "        grad = fonction(P0Q0, R, mask, rho)[1]\n",
    "    val = fonction(P0Q0, R, mask, rho)[0]\n",
    "    return P0Q0, val"
   ]
  },
  {
   "cell_type": "markdown",
   "metadata": {},
   "source": [
    "#### Question 3.3"
   ]
  },
  {
   "cell_type": "code",
   "execution_count": 73,
   "metadata": {},
   "outputs": [
    {
     "name": "stdout",
     "output_type": "stream",
     "text": [
      "The minimum of g is 35976.86706042895\n",
      "The argmin of g is  [-0.31075175  0.02359593  0.80690923 ... -0.31753188 -0.8337803\n",
      "  1.98480307]\n"
     ]
    }
   ],
   "source": [
    "P0Q0 = np.concatenate([np.ravel(P0),np.ravel(Q0)])\n",
    "\n",
    "print(\"The minimum of g is\", line_searh_grad_generalized(total_objective_vectorized,P0Q0,100)[1])\n",
    "print(\"The argmin of g is \", line_searh_grad_generalized(total_objective_vectorized,P0Q0,100)[0])"
   ]
  },
  {
   "cell_type": "code",
   "execution_count": 74,
   "metadata": {},
   "outputs": [
    {
     "name": "stdout",
     "output_type": "stream",
     "text": [
      "The recommended movie for user 300 is the movie 312\n"
     ]
    }
   ],
   "source": [
    "i,j = R.shape[1], R.shape[0]\n",
    "F = argmin.shape[0] // (i + j)\n",
    "Pv = argmin[0:i*F]\n",
    "Qv = argmin[i*F:]\n",
    "Ph = np.reshape(Pv, (F, i))\n",
    "Qh = np.reshape(Qv, (j, F))\n",
    "\n",
    "score = Qh@Ph * (1-mask) # elimination of the seen films\n",
    "print('The recommended movie for user 300 is the movie ', np.argmax(user_score[300,:]))"
   ]
  }
 ],
 "metadata": {
  "kernelspec": {
   "display_name": "Python 3",
   "language": "python",
   "name": "python3"
  },
  "language_info": {
   "codemirror_mode": {
    "name": "ipython",
    "version": 3
   },
   "file_extension": ".py",
   "mimetype": "text/x-python",
   "name": "python",
   "nbconvert_exporter": "python",
   "pygments_lexer": "ipython3",
   "version": "3.7.3"
  }
 },
 "nbformat": 4,
 "nbformat_minor": 4
}
