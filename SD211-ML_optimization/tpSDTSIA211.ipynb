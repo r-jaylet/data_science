{
 "cells": [
  {
   "cell_type": "markdown",
   "metadata": {},
   "source": [
    "# Question 1 "
   ]
  },
  {
   "cell_type": "code",
   "execution_count": 7,
   "metadata": {},
   "outputs": [],
   "source": [
    "import numpy as np\n",
    "from scipy import sparse\n",
    "from scipy.optimize import check_grad\n",
    "from scipy.sparse.linalg import svds\n",
    "\n",
    "def load_movielens(filename, minidata=False):\n",
    "    \"\"\"\n",
    "    Cette fonction lit le fichier filename de la base de donnees\n",
    "    Movielens, par exemple \n",
    "    filename = '~/datasets/ml-100k/u.data'\n",
    "    Elle retourne \n",
    "    R : une matrice utilisateur-item contenant les scores\n",
    "    mask : une matrice valant 1 si il y a un score et 0 sinon\n",
    "    \"\"\"\n",
    "\n",
    "    data = np.loadtxt(filename, dtype=int,encoding='utf-8')\n",
    "\n",
    "    R = sparse.coo_matrix((data[:, 2], (data[:, 0]-1, data[:, 1]-1)),\n",
    "                          dtype=float)\n",
    "    R = R.toarray()  # not optimized for big data\n",
    "\n",
    "    # code la fonction 1_K\n",
    "    mask = sparse.coo_matrix((np.ones(data[:, 2].shape),\n",
    "                              (data[:, 0]-1, data[:, 1]-1)), dtype=bool )\n",
    "    mask = mask.toarray()  # not optimized for big data\n",
    "\n",
    "    if minidata is True:\n",
    "        R = R[0:100, 0:200].copy()\n",
    "        mask = mask[0:100, 0:200].copy()\n",
    "\n",
    "    return R, mask\n",
    "\n"
   ]
  },
  {
   "cell_type": "code",
   "execution_count": 8,
   "metadata": {},
   "outputs": [],
   "source": [
    "# Change the path\n",
    "(R,mask)=load_movielens('/Users/ahmedewva/Downloads/ml-100k/u.data',False)"
   ]
  },
  {
   "cell_type": "code",
   "execution_count": 9,
   "metadata": {},
   "outputs": [
    {
     "name": "stdout",
     "output_type": "stream",
     "text": [
      "1682 943\n"
     ]
    }
   ],
   "source": [
    "print(len(R[0]),len(R))"
   ]
  },
  {
   "cell_type": "raw",
   "metadata": {},
   "source": [
    "The minidata option helps reduce the data to 100 lines and 200 columns\n",
    "\n",
    "The number of lines is: 1682 which is the number of films\n",
    "The number of columns is: 943 which is the number of users"
   ]
  },
  {
   "cell_type": "code",
   "execution_count": 10,
   "metadata": {},
   "outputs": [
    {
     "name": "stdout",
     "output_type": "stream",
     "text": [
      "100000\n"
     ]
    }
   ],
   "source": [
    "number_of_grades=np.count_nonzero(mask)\n",
    "print(number_of_grades)"
   ]
  },
  {
   "cell_type": "markdown",
   "metadata": {},
   "source": [
    "The number of grades is 100000\n",
    "\n",
    "# Question 2.1"
   ]
  },
  {
   "cell_type": "markdown",
   "metadata": {},
   "source": [
    "\\begin{equation}\n",
    "g(P)=\\frac{1}{2}\\|1_K\\circ(R-Q_0P)\\|_F^2+\\frac{\\rho}{2}\\|Q_0\\|_F^2+\\frac{\\rho}{2}\\|P\\|_F^2\n",
    "\\end{equation}\n",
    "\\begin{equation}\n",
    "\\nabla g(P)=Q_0^T(1_K\\circ(Q_0P-R))+\\rho P\n",
    "\\end{equation}\n",
    "\n",
    "\n"
   ]
  },
  {
   "cell_type": "markdown",
   "metadata": {},
   "source": [
    "# Question 2.2"
   ]
  },
  {
   "cell_type": "code",
   "execution_count": 11,
   "metadata": {},
   "outputs": [],
   "source": [
    "def objective(P, Q0, R, mask, rho):\n",
    "    \"\"\"\n",
    "    La fonction objectif du probleme simplifie.\n",
    "    Prend en entree \n",
    "    P : la variable matricielle de taille C x I\n",
    "    Q0 : une matrice de taille U x C\n",
    "    R : une matrice de taille U x I\n",
    "    mask : une matrice 0-1 de taille U x I\n",
    "    rho : un reel positif ou nul\n",
    "\n",
    "    Sorties :\n",
    "    val : la valeur de la fonction\n",
    "    grad_P : le gradient par rapport a P\n",
    "    \"\"\"\n",
    "\n",
    "    tmp = (R - Q0.dot(P)) * mask\n",
    "\n",
    "    val = np.sum(tmp ** 2)/2. + rho/2. * (np.sum(Q0 ** 2) + np.sum(P ** 2))\n",
    "\n",
    "    grad_P = -(Q0.T).dot(tmp)+rho*P   # todo\n",
    "\n",
    "    return val, grad_P\n"
   ]
  },
  {
   "cell_type": "code",
   "execution_count": 25,
   "metadata": {},
   "outputs": [
    {
     "name": "stdout",
     "output_type": "stream",
     "text": [
      "525.7299709276076\n"
     ]
    }
   ],
   "source": [
    "mP=np.array([[1,2,3],[1,7,2]])\n",
    "mQ=np.array([[5,6],[9,3],[0,1]])\n",
    "mR=np.array([[1,3,2],[0,9,4],[0,2,4]])\n",
    "m_mask=np.array([[1,0,1],[0,1,1],[0,0,1]])\n",
    "rho=0.3\n",
    "def func(A):\n",
    "    A=A.reshape(2,3)\n",
    "    return objective(A, mQ, mR, m_mask, rho)[0]\n",
    "def grad(A):\n",
    "    A=A.reshape(2,3)\n",
    "    return np.ravel(objective(A, Q_, R_, mask_, rho)[1])\n",
    "error=check_grad(func, grad,np.ravel(P)) \n",
    "print(error)"
   ]
  },
  {
   "cell_type": "code",
   "execution_count": null,
   "metadata": {},
   "outputs": [],
   "source": []
  },
  {
   "cell_type": "markdown",
   "metadata": {},
   "source": [
    "# Question 2.3"
   ]
  },
  {
   "cell_type": "code",
   "execution_count": 27,
   "metadata": {},
   "outputs": [],
   "source": [
    "def gradient(g,P0,gamma,epsilon):\n",
    "    P=P0\n",
    "    while (np.sqrt(np.sum(g(P)[1]** 2))>epsilon):\n",
    "        P=P-gamma*g(P)[1]\n",
    "    return(P,g(P)[0])\n"
   ]
  },
  {
   "cell_type": "markdown",
   "metadata": {},
   "source": [
    "# Question 2.4"
   ]
  },
  {
   "cell_type": "code",
   "execution_count": 29,
   "metadata": {},
   "outputs": [
    {
     "name": "stdout",
     "output_type": "stream",
     "text": [
      "The min of g is:  369551.7001505275\n"
     ]
    }
   ],
   "source": [
    "Q0, s, P0 = svds(R, k=4,which='LM')\n",
    "gamma=1/(rho+np.sum((Q0.T.dot(Q0))** 2))\n",
    "def g(P):\n",
    "    return objective(P, Q0, R, mask, rho)\n",
    "epsilon=1\n",
    "P,min_g=gradient(g, P0, gamma, epsilon)\n",
    "print(\"The min of g is: \",min_g)"
   ]
  },
  {
   "cell_type": "code",
   "execution_count": null,
   "metadata": {},
   "outputs": [],
   "source": []
  },
  {
   "cell_type": "markdown",
   "metadata": {},
   "source": [
    "# Question 2.5"
   ]
  },
  {
   "cell_type": "code",
   "execution_count": 33,
   "metadata": {},
   "outputs": [
    {
     "name": "stdout",
     "output_type": "stream",
     "text": [
      "The minimum of g is:  369551.4110548447\n"
     ]
    }
   ],
   "source": [
    "def gradient_with_linesearch(g,P0,epsilon):\n",
    "    P=P0\n",
    "    l=0\n",
    "    a=0.5\n",
    "    gamma=1\n",
    "    while (np.sqrt(np.sum(g(P)[1]** 2))>epsilon):\n",
    "        l=g(P-gamma*g(P)[1])[0]\n",
    "        r=g(P)[0]-0.5*gamma*np.sum(g(P)[1]** 2)\n",
    "        while(l>r):\n",
    "            l+=1\n",
    "            gamma=2*gamma*(a**(l))\n",
    "            l=g(P-gamma*g(P)[1])[0]£\n",
    "            r=g(P)[0]-0.5*gamma*np.sum(g(P)[1]** 2)\n",
    "        P=P-gamma*g(P)[1]\n",
    "    return(P,g(P)[0])    \n",
    "\n",
    "P_linesearch,min_g_linesearch=gradient_with_linesearch(g,P0,1)\n",
    "print(\"The minimum of g is: \",min_g_linesearch)"
   ]
  },
  {
   "cell_type": "code",
   "execution_count": null,
   "metadata": {},
   "outputs": [],
   "source": []
  },
  {
   "cell_type": "markdown",
   "metadata": {},
   "source": [
    "# Question 3.1"
   ]
  },
  {
   "cell_type": "markdown",
   "metadata": {},
   "source": [
    " If f is libschitz continous then $\\nabla^2f$ will be bounded. But since f is polynomial of degree 4 $\\nabla^2f$ is polynomial of degree 2 and thus is not bounded.\n",
    "So f is not libchitz continuous\n"
   ]
  },
  {
   "cell_type": "markdown",
   "metadata": {},
   "source": [
    "# Question 3.2\n"
   ]
  },
  {
   "cell_type": "code",
   "execution_count": null,
   "metadata": {},
   "outputs": [],
   "source": [
    "def total_objective(P, Q, R, mask, rho):\n",
    "    \"\"\"\n",
    "    La fonction objectif du probleme complet.\n",
    "    Prend en entree \n",
    "    P : la variable matricielle de taille C x I\n",
    "    Q : la variable matricielle de taille U x C\n",
    "    R : une matrice de taille U x I\n",
    "    mask : une matrice 0-1 de taille U x I\n",
    "    rho : un reel positif ou nul\n",
    "\n",
    "    Sorties :\n",
    "    val : la valeur de la fonction\n",
    "    grad_P : le gradient par rapport a P\n",
    "    grad_Q : le gradient par rapport a Q\n",
    "    \"\"\"\n",
    "\n",
    "    tmp = (R - Q.dot(P)) * mask\n",
    "\n",
    "    val = np.sum(tmp ** 2)/2. + rho/2. * (np.sum(Q ** 2) + np.sum(P ** 2))\n",
    "\n",
    "    grad_P = -(Q.T).dot(tmp)+rho*P  # todo\n",
    "\n",
    "    grad_Q = -(tmp).dot(P.T)+rho*Q  # todo\n",
    "\n",
    "    return val, grad_P, grad_Q"
   ]
  },
  {
   "cell_type": "code",
   "execution_count": null,
   "metadata": {},
   "outputs": [],
   "source": []
  },
  {
   "cell_type": "markdown",
   "metadata": {},
   "source": [
    "# Question 3.3"
   ]
  },
  {
   "cell_type": "code",
   "execution_count": null,
   "metadata": {},
   "outputs": [],
   "source": [
    "# P and Q are given by the alg of the previous question \n",
    "def scalar_product(X,Y):\n",
    "    result=0\n",
    "    n=len(X)\n",
    "    for i in range(n):\n",
    "        result+=X[i]*Y[i]\n",
    "    return result\n",
    "len_i=len(P[0])\n",
    "vector_300=Q[300]\n",
    "max_product=0\n",
    "film_index=0\n",
    "film_vector=[]\n",
    "for i in range(len_i):\n",
    "    for k in range(4):\n",
    "        film_vector.append(P[i][K])\n",
    "    test=abs(scalar_product(vector_300,film_vector))\n",
    "    if(test>max_product):\n",
    "        max_product=test\n",
    "        film_index=i\n",
    "\n",
    "    "
   ]
  }
 ],
 "metadata": {
  "kernelspec": {
   "display_name": "Python 3",
   "language": "python",
   "name": "python3"
  },
  "language_info": {
   "codemirror_mode": {
    "name": "ipython",
    "version": 3
   },
   "file_extension": ".py",
   "mimetype": "text/x-python",
   "name": "python",
   "nbconvert_exporter": "python",
   "pygments_lexer": "ipython3",
   "version": "3.8.3"
  }
 },
 "nbformat": 4,
 "nbformat_minor": 4
}
