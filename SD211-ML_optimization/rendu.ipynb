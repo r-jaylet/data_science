{
 "cells": [
  {
   "cell_type": "markdown",
   "metadata": {
    "pycharm": {
     "name": "#%% md\n"
    }
   },
   "source": [
    "# SD-TSIA211 : RECOMMENDATION\n",
    "\n",
    "## Remi Jaylet"
   ]
  },
  {
   "cell_type": "markdown",
   "metadata": {},
   "source": [
    "### imports"
   ]
  },
  {
   "cell_type": "code",
   "execution_count": 25,
   "metadata": {
    "pycharm": {
     "name": "#%%\n"
    }
   },
   "outputs": [],
   "source": [
    "from movielens_utils import load_movielens, objective\n",
    "import numpy as np"
   ]
  },
  {
   "cell_type": "markdown",
   "metadata": {},
   "source": [
    "### 1 - Presentation of the models"
   ]
  },
  {
   "cell_type": "code",
   "execution_count": 42,
   "metadata": {
    "pycharm": {
     "name": "#%%\n"
    }
   },
   "outputs": [
    {
     "name": "stdout",
     "output_type": "stream",
     "text": [
      "R =  [[5. 3. 4. ... 0. 0. 0.]\n",
      " [4. 0. 0. ... 0. 0. 0.]\n",
      " [0. 0. 0. ... 0. 0. 0.]\n",
      " ...\n",
      " [5. 0. 0. ... 0. 0. 0.]\n",
      " [0. 0. 0. ... 0. 0. 0.]\n",
      " [0. 5. 0. ... 0. 0. 0.]]\n",
      "mask =  [[ True  True  True ... False False False]\n",
      " [ True False False ... False False False]\n",
      " [False False False ... False False False]\n",
      " ...\n",
      " [ True False False ... False False False]\n",
      " [False False False ... False False False]\n",
      " [False  True False ... False False False]]\n",
      "dimensions = ( 943 , 1682 )\n",
      "number of ratings : 100000\n"
     ]
    }
   ],
   "source": [
    "R, mask = load_movielens(\"ml-100k/u.data\", minidata=False)\n",
    "print(\"R = \", R)\n",
    "print(\"mask = \", mask)\n",
    "print(\"dimensions = (\", len(R), \",\", len(R[0]), \")\")\n",
    "print(\"number of ratings :\", sum(sum(mask)))"
   ]
  },
  {
   "cell_type": "code",
   "execution_count": 31,
   "metadata": {
    "pycharm": {
     "name": "#%%\n"
    }
   },
   "outputs": [
    {
     "name": "stdout",
     "output_type": "stream",
     "text": [
      "dimensions = ( 100 , 200 )\n"
     ]
    }
   ],
   "source": [
    "R, mask = load_movielens(\"ml-100k/u.data\", minidata=True)\n",
    "print(\"dimensions = (\", len(R), \",\", len(R[0]), \")\")"
   ]
  },
  {
   "cell_type": "markdown",
   "metadata": {},
   "source": [
    "When the minidata option is activated, the function only returns a small portion of the R matrix of only 100 users over 200 films."
   ]
  },
  {
   "cell_type": "markdown",
   "metadata": {
    "pycharm": {
     "name": "#%% md\n"
    }
   },
   "source": [
    "The dimensions of the matric suggest that are ratings from 943 users on 1682 movies.\n",
    "By calculation the number of True values in the mask, we can we that there is 100000 ratings ranging from 0 to 5."
   ]
  },
  {
   "cell_type": "markdown",
   "metadata": {},
   "source": [
    "### 2 - Find P when $ Q^0 $ is fixed"
   ]
  },
  {
   "cell_type": "code",
   "execution_count": 57,
   "metadata": {},
   "outputs": [
    {
     "ename": "ValueError",
     "evalue": "matrix type must be 'f', 'd', 'F', or 'D'",
     "output_type": "error",
     "traceback": [
      "\u001B[1;31m---------------------------------------------------------------------------\u001B[0m",
      "\u001B[1;31mValueError\u001B[0m                                Traceback (most recent call last)",
      "\u001B[1;32m<ipython-input-57-dc46c094b6d3>\u001B[0m in \u001B[0;36m<module>\u001B[1;34m\u001B[0m\n\u001B[0;32m     26\u001B[0m \u001B[1;32mfrom\u001B[0m \u001B[0mscipy\u001B[0m\u001B[1;33m.\u001B[0m\u001B[0msparse\u001B[0m\u001B[1;33m.\u001B[0m\u001B[0mlinalg\u001B[0m \u001B[1;32mimport\u001B[0m \u001B[0msvds\u001B[0m\u001B[1;33m,\u001B[0m \u001B[0meigs\u001B[0m\u001B[1;33m\u001B[0m\u001B[1;33m\u001B[0m\u001B[0m\n\u001B[0;32m     27\u001B[0m \u001B[0mR\u001B[0m \u001B[1;33m=\u001B[0m \u001B[1;33m[\u001B[0m\u001B[1;33m[\u001B[0m\u001B[1;36m1\u001B[0m\u001B[1;33m,\u001B[0m \u001B[1;36m0\u001B[0m\u001B[1;33m,\u001B[0m \u001B[1;36m1\u001B[0m\u001B[1;33m]\u001B[0m\u001B[1;33m,\u001B[0m \u001B[1;33m[\u001B[0m\u001B[1;36m5\u001B[0m\u001B[1;33m,\u001B[0m \u001B[1;36m1\u001B[0m\u001B[1;33m,\u001B[0m \u001B[1;36m2\u001B[0m\u001B[1;33m]\u001B[0m\u001B[1;33m,\u001B[0m \u001B[1;33m[\u001B[0m\u001B[1;36m0\u001B[0m\u001B[1;33m,\u001B[0m \u001B[1;36m1\u001B[0m\u001B[1;33m,\u001B[0m \u001B[1;36m0\u001B[0m\u001B[1;33m]\u001B[0m\u001B[1;33m,\u001B[0m \u001B[1;33m[\u001B[0m\u001B[1;36m0\u001B[0m\u001B[1;33m,\u001B[0m \u001B[1;36m0\u001B[0m\u001B[1;33m,\u001B[0m \u001B[1;36m3\u001B[0m\u001B[1;33m]\u001B[0m\u001B[1;33m]\u001B[0m\u001B[1;33m\u001B[0m\u001B[1;33m\u001B[0m\u001B[0m\n\u001B[1;32m---> 28\u001B[1;33m \u001B[0mu\u001B[0m\u001B[1;33m,\u001B[0m \u001B[0ms\u001B[0m\u001B[1;33m,\u001B[0m \u001B[0mvt\u001B[0m \u001B[1;33m=\u001B[0m \u001B[0msvds\u001B[0m\u001B[1;33m(\u001B[0m\u001B[0mR\u001B[0m\u001B[1;33m,\u001B[0m \u001B[0mk\u001B[0m\u001B[1;33m=\u001B[0m\u001B[1;36m2\u001B[0m\u001B[1;33m)\u001B[0m\u001B[1;33m\u001B[0m\u001B[1;33m\u001B[0m\u001B[0m\n\u001B[0m",
      "\u001B[1;32mc:\\users\\remij\\miniconda3\\lib\\site-packages\\scipy\\sparse\\linalg\\eigen\\arpack\\arpack.py\u001B[0m in \u001B[0;36msvds\u001B[1;34m(A, k, ncv, tol, which, v0, maxiter, return_singular_vectors, solver)\u001B[0m\n\u001B[0;32m   1865\u001B[0m     \u001B[1;32melif\u001B[0m \u001B[0msolver\u001B[0m \u001B[1;33m==\u001B[0m \u001B[1;34m'arpack'\u001B[0m \u001B[1;32mor\u001B[0m \u001B[0msolver\u001B[0m \u001B[1;32mis\u001B[0m \u001B[1;32mNone\u001B[0m\u001B[1;33m:\u001B[0m\u001B[1;33m\u001B[0m\u001B[1;33m\u001B[0m\u001B[0m\n\u001B[0;32m   1866\u001B[0m         eigvals, eigvec = eigsh(XH_X, k=k, tol=tol ** 2, maxiter=maxiter,\n\u001B[1;32m-> 1867\u001B[1;33m                                 ncv=ncv, which=which, v0=v0)\n\u001B[0m\u001B[0;32m   1868\u001B[0m \u001B[1;33m\u001B[0m\u001B[0m\n\u001B[0;32m   1869\u001B[0m     \u001B[1;32melse\u001B[0m\u001B[1;33m:\u001B[0m\u001B[1;33m\u001B[0m\u001B[1;33m\u001B[0m\u001B[0m\n",
      "\u001B[1;32mc:\\users\\remij\\miniconda3\\lib\\site-packages\\scipy\\sparse\\linalg\\eigen\\arpack\\arpack.py\u001B[0m in \u001B[0;36meigsh\u001B[1;34m(A, k, M, sigma, which, v0, ncv, maxiter, tol, return_eigenvectors, Minv, OPinv, mode)\u001B[0m\n\u001B[0;32m   1681\u001B[0m     params = _SymmetricArpackParams(n, k, A.dtype.char, matvec, mode,\n\u001B[0;32m   1682\u001B[0m                                     \u001B[0mM_matvec\u001B[0m\u001B[1;33m,\u001B[0m \u001B[0mMinv_matvec\u001B[0m\u001B[1;33m,\u001B[0m \u001B[0msigma\u001B[0m\u001B[1;33m,\u001B[0m\u001B[1;33m\u001B[0m\u001B[1;33m\u001B[0m\u001B[0m\n\u001B[1;32m-> 1683\u001B[1;33m                                     ncv, v0, maxiter, which, tol)\n\u001B[0m\u001B[0;32m   1684\u001B[0m \u001B[1;33m\u001B[0m\u001B[0m\n\u001B[0;32m   1685\u001B[0m     \u001B[1;32mwith\u001B[0m \u001B[0m_ARPACK_LOCK\u001B[0m\u001B[1;33m:\u001B[0m\u001B[1;33m\u001B[0m\u001B[1;33m\u001B[0m\u001B[0m\n",
      "\u001B[1;32mc:\\users\\remij\\miniconda3\\lib\\site-packages\\scipy\\sparse\\linalg\\eigen\\arpack\\arpack.py\u001B[0m in \u001B[0;36m__init__\u001B[1;34m(self, n, k, tp, matvec, mode, M_matvec, Minv_matvec, sigma, ncv, v0, maxiter, which, tol)\u001B[0m\n\u001B[0;32m    512\u001B[0m \u001B[1;33m\u001B[0m\u001B[0m\n\u001B[0;32m    513\u001B[0m         _ArpackParams.__init__(self, n, k, tp, mode, sigma,\n\u001B[1;32m--> 514\u001B[1;33m                                ncv, v0, maxiter, which, tol)\n\u001B[0m\u001B[0;32m    515\u001B[0m \u001B[1;33m\u001B[0m\u001B[0m\n\u001B[0;32m    516\u001B[0m         \u001B[1;32mif\u001B[0m \u001B[0mself\u001B[0m\u001B[1;33m.\u001B[0m\u001B[0mncv\u001B[0m \u001B[1;33m>\u001B[0m \u001B[0mn\u001B[0m \u001B[1;32mor\u001B[0m \u001B[0mself\u001B[0m\u001B[1;33m.\u001B[0m\u001B[0mncv\u001B[0m \u001B[1;33m<=\u001B[0m \u001B[0mk\u001B[0m\u001B[1;33m:\u001B[0m\u001B[1;33m\u001B[0m\u001B[1;33m\u001B[0m\u001B[0m\n",
      "\u001B[1;32mc:\\users\\remij\\miniconda3\\lib\\site-packages\\scipy\\sparse\\linalg\\eigen\\arpack\\arpack.py\u001B[0m in \u001B[0;36m__init__\u001B[1;34m(self, n, k, tp, mode, sigma, ncv, v0, maxiter, which, tol)\u001B[0m\n\u001B[0;32m    320\u001B[0m \u001B[1;33m\u001B[0m\u001B[0m\n\u001B[0;32m    321\u001B[0m         \u001B[1;32mif\u001B[0m \u001B[0mtp\u001B[0m \u001B[1;32mnot\u001B[0m \u001B[1;32min\u001B[0m \u001B[1;34m'fdFD'\u001B[0m\u001B[1;33m:\u001B[0m\u001B[1;33m\u001B[0m\u001B[1;33m\u001B[0m\u001B[0m\n\u001B[1;32m--> 322\u001B[1;33m             \u001B[1;32mraise\u001B[0m \u001B[0mValueError\u001B[0m\u001B[1;33m(\u001B[0m\u001B[1;34m\"matrix type must be 'f', 'd', 'F', or 'D'\"\u001B[0m\u001B[1;33m)\u001B[0m\u001B[1;33m\u001B[0m\u001B[1;33m\u001B[0m\u001B[0m\n\u001B[0m\u001B[0;32m    323\u001B[0m \u001B[1;33m\u001B[0m\u001B[0m\n\u001B[0;32m    324\u001B[0m         \u001B[1;32mif\u001B[0m \u001B[0mv0\u001B[0m \u001B[1;32mis\u001B[0m \u001B[1;32mnot\u001B[0m \u001B[1;32mNone\u001B[0m\u001B[1;33m:\u001B[0m\u001B[1;33m\u001B[0m\u001B[1;33m\u001B[0m\u001B[0m\n",
      "\u001B[1;31mValueError\u001B[0m: matrix type must be 'f', 'd', 'F', or 'D'"
     ]
    }
   ],
   "source": [
    "\"\"\"import numpy as np\n",
    "\n",
    "def objective(P, Q0, R, mask, rho):\n",
    "\n",
    "    tmp = (R - Q0.dot(P)) * mask\n",
    "    val = np.sum(tmp ** 2)/2. + rho/2. * (np.sum(Q0 ** 2) + np.sum(P ** 2))\n",
    "    grad_P = (Q0.transpose()).dot(tmp) + rho*P\n",
    "\n",
    "    return val, grad_P\n",
    "\n",
    "from scipy.optimize import check_grad\n",
    "\n",
    "R, mask = load_movielens(\"ml-100k/u.data\")\n",
    "rho = 0\n",
    "\n",
    "def func(P,Q0):\n",
    "    return (P, Q0, R, mask, rho)[0]\n",
    "\n",
    "def grad(P,Q0):\n",
    "    return (P, Q0, R, mask, rho)[1]\n",
    "\n",
    "check_grad(func, grad, [0, 0])\n",
    "\"\"\"\n",
    "import numpy as np\n",
    "from scipy.sparse import csc_matrix\n",
    "from scipy.sparse.linalg import svds, eigs\n",
    "R = [[1, 0, 1], [5, 1, 2], [0, 1, 0], [0, 0, 3]]\n",
    "u, s, vt = svds(R, k=2)"
   ]
  },
  {
   "cell_type": "code",
   "execution_count": null,
   "metadata": {},
   "outputs": [],
   "source": []
  }
 ],
 "metadata": {
  "kernelspec": {
   "display_name": "Python 3",
   "language": "python",
   "name": "python3"
  },
  "language_info": {
   "codemirror_mode": {
    "name": "ipython",
    "version": 3
   },
   "file_extension": ".py",
   "mimetype": "text/x-python",
   "name": "python",
   "nbconvert_exporter": "python",
   "pygments_lexer": "ipython3",
   "version": "3.7.3"
  }
 },
 "nbformat": 4,
 "nbformat_minor": 1
}