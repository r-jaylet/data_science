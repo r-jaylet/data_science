{
 "cells": [
  {
   "cell_type": "markdown",
   "metadata": {
    "pycharm": {
     "name": "#%% md\n"
    }
   },
   "source": [
    "# SD-TSIA211 : RECOMMENDATION\n",
    "\n",
    "## Remi Jaylet"
   ]
  },
  {
   "cell_type": "markdown",
   "metadata": {},
   "source": [
    "### imports"
   ]
  },
  {
   "cell_type": "code",
   "execution_count": 13,
   "metadata": {
    "pycharm": {
     "name": "#%%\n"
    }
   },
   "outputs": [],
   "source": [
    "from movielens_utils import load_movielens, objective\n",
    "import numpy as np\n",
    "from scipy.sparse.linalg import svds\n",
    "from scipy.optimize import check_grad"
   ]
  },
  {
   "cell_type": "markdown",
   "metadata": {},
   "source": [
    "### 1 - Presentation of the models"
   ]
  },
  {
   "cell_type": "code",
   "execution_count": 8,
   "metadata": {
    "pycharm": {
     "name": "#%%\n"
    }
   },
   "outputs": [
    {
     "name": "stdout",
     "output_type": "stream",
     "text": [
      "R =  [[5. 3. 4. ... 0. 0. 0.]\n",
      " [4. 0. 0. ... 0. 0. 0.]\n",
      " [0. 0. 0. ... 0. 0. 0.]\n",
      " ...\n",
      " [5. 0. 0. ... 0. 0. 0.]\n",
      " [0. 0. 0. ... 0. 0. 0.]\n",
      " [0. 5. 0. ... 0. 0. 0.]]\n",
      "mask =  [[ True  True  True ... False False False]\n",
      " [ True False False ... False False False]\n",
      " [False False False ... False False False]\n",
      " ...\n",
      " [ True False False ... False False False]\n",
      " [False False False ... False False False]\n",
      " [False  True False ... False False False]]\n",
      "dimensions = ( 943 , 1682 )\n",
      "number of ratings : 100000\n"
     ]
    }
   ],
   "source": [
    "R, mask = load_movielens(\"ml-100k/u.data\", minidata=False)\n",
    "print(\"R = \", R)\n",
    "print(\"mask = \", mask)\n",
    "print(\"dimensions = (\", len(R), \",\", len(R[0]), \")\")\n",
    "print(\"number of ratings :\", sum(sum(mask)))"
   ]
  },
  {
   "cell_type": "code",
   "execution_count": 9,
   "metadata": {
    "pycharm": {
     "name": "#%%\n"
    }
   },
   "outputs": [
    {
     "name": "stdout",
     "output_type": "stream",
     "text": [
      "dimensions = ( 100 , 200 )\n"
     ]
    }
   ],
   "source": [
    "R, mask = load_movielens(\"ml-100k/u.data\", minidata=True)\n",
    "print(\"dimensions = (\", len(R), \",\", len(R[0]), \")\")"
   ]
  },
  {
   "cell_type": "markdown",
   "metadata": {},
   "source": [
    "When the minidata option is activated, the function only returns a small portion of the R matrix of only 100 users over 200 films."
   ]
  },
  {
   "cell_type": "markdown",
   "metadata": {
    "pycharm": {
     "name": "#%% md\n"
    }
   },
   "source": [
    "The dimensions of the matric suggest that are ratings from 943 users on 1682 movies.\n",
    "By calculation the number of True values in the mask, we can we that there is 100000 ratings ranging from 0 to 5."
   ]
  },
  {
   "cell_type": "markdown",
   "metadata": {},
   "source": [
    "### 2 - Find P when $ Q^0 $ is fixed"
   ]
  },
  {
   "cell_type": "code",
   "execution_count": 21,
   "metadata": {},
   "outputs": [],
   "source": [
    "# initialize variables\n",
    "R, mask = load_movielens(\"ml-100k/u.data\")\n",
    "Q0, s, P0 = svds(R, k=4)\n",
    "rho = 0.3\n",
    "\n",
    "# define g and gradient of g (use ravel and reshape to be able to check the value of the gradient)\n",
    "def g(P):\n",
    "    P = np.reshape(P, (4,1682))\n",
    "    tmp = (R - Q0.dot(P)) * mask\n",
    "    val = np.sum(tmp ** 2)/2. + rho/2. * (np.sum(Q0 ** 2) + np.sum(P ** 2))\n",
    "    return val\n",
    "\n",
    "def grad_g(P):\n",
    "    P = np.reshape(P, (4,1682))\n",
    "    tmp = (R - Q0.dot(P)) * mask\n",
    "    grad_P = (Q0.transpose()).dot(tmp) + rho*P\n",
    "    return np.ravel(grad_P)"
   ]
  },
  {
   "cell_type": "code",
   "execution_count": null,
   "outputs": [],
   "source": [
    "error = check_grad(g, grad_g, x0=np.ravel(P0))\n",
    "print(\"error on the gradient :\", error)"
   ],
   "metadata": {
    "collapsed": false,
    "pycharm": {
     "name": "#%%\n"
    }
   }
  },
  {
   "cell_type": "code",
   "execution_count": null,
   "outputs": [],
   "source": [
    "def gradient(g, P0, gamma, epsilon):\n",
    "    val, grad_P = objective(P0, Q0, R, mask, rho)\n",
    "    while np.linalg.norm(grad_P).any() > epsilon:\n",
    "        P0 = P0 - gamma*grad_P\n",
    "        grad_P = objective(P0, Q0, R, mask, rho)[1]\n",
    "    val = objective(P0, Q0, R, mask, rho)[0]\n",
    "    return val, P0"
   ],
   "metadata": {
    "collapsed": false,
    "pycharm": {
     "name": "#%%\n"
    }
   }
  },
  {
   "cell_type": "code",
   "execution_count": null,
   "outputs": [],
   "source": [
    "gradient(g, P0, 1, 1)"
   ],
   "metadata": {
    "collapsed": false,
    "pycharm": {
     "name": "#%%\n"
    }
   }
  },
  {
   "cell_type": "code",
   "execution_count": null,
   "outputs": [],
   "source": [
    "def gradient_2(g, P0, epsilon):\n",
    "    val, grad_P = objective(P0, Q0, R, mask, rho)\n",
    "    while np.linalg.norm(grad_P).any() > epsilon:\n",
    "        gamma = scipy.optimize.linesearch(g, grad_g, np.ravel(P0), -grad) # use line search\n",
    "        P0 = P0 - gamma*grad_P\n",
    "        grad_P = objective(P0, Q0, R, mask, rho)[1]\n",
    "    val = objective(P0, Q0, R, mask, rho)[0]\n",
    "    return val, P0"
   ],
   "metadata": {
    "collapsed": false,
    "pycharm": {
     "name": "#%%\n"
    }
   }
  },
  {
   "cell_type": "code",
   "execution_count": null,
   "outputs": [],
   "source": [
    "gradient_2(g, P0, 1)"
   ],
   "metadata": {
    "collapsed": false,
    "pycharm": {
     "name": "#%%\n"
    }
   }
  },
  {
   "cell_type": "markdown",
   "source": [
    "### 3 - Resolution of the full problem"
   ],
   "metadata": {
    "collapsed": false
   }
  },
  {
   "cell_type": "code",
   "execution_count": 20,
   "metadata": {},
   "outputs": [
    {
     "name": "stdout",
     "output_type": "stream",
     "text": [
      "1471.5465355048495\n"
     ]
    }
   ],
   "source": []
  },
  {
   "cell_type": "code",
   "execution_count": 29,
   "metadata": {},
   "outputs": [],
   "source": [
    "def gradient(g, P0, gamma, epsilon):\n",
    "    val, grad_P = objective(P0, Q0, R, mask, rho)\n",
    "    while np.linalg.norm(grad_P).any() > epsilon:\n",
    "        P0 = P0 - gamma*grad_P\n",
    "        grad_P = objective(P0, Q0, R, mask, rho)[1]\n",
    "    val = objective(P0, Q0, R, mask, rho)[0]\n",
    "    return val, P0"
   ]
  },
  {
   "cell_type": "code",
   "execution_count": 30,
   "metadata": {},
   "outputs": [
    {
     "data": {
      "text/plain": [
       "(685091.7826478565,\n",
       " array([[-1.62060750e-02, -3.23391424e-03, -4.88005961e-02, ...,\n",
       "          9.53260775e-04, -7.73342642e-05, -1.74971250e-03],\n",
       "        [-1.69737618e-02, -6.25039193e-02, -1.16405039e-02, ...,\n",
       "          5.33024145e-04, -4.54336533e-04, -2.61400068e-04],\n",
       "        [ 8.72397853e-02,  7.02505798e-03,  2.86181725e-02, ...,\n",
       "          4.48134760e-04, -1.05231342e-04, -2.03151884e-04],\n",
       "        [ 9.59509371e-02,  3.51795155e-02,  1.99288117e-02, ...,\n",
       "          3.03747116e-05,  3.31055915e-04,  3.16852950e-04]]))"
      ]
     },
     "execution_count": 30,
     "metadata": {},
     "output_type": "execute_result"
    }
   ],
   "source": [
    "gradient(g, P0, 1, 1)"
   ]
  },
  {
   "cell_type": "code",
   "execution_count": 32,
   "metadata": {},
   "outputs": [],
   "source": [
    "def gradient_2(g, P0, epsilon):\n",
    "    val, grad_P = objective(P0, Q0, R, mask, rho)\n",
    "    while np.linalg.norm(grad_P).any() > epsilon:\n",
    "        gamma = scipy.optimize.linesearch(g, grad_g, np.ravel(P0), -grad) # use line search\n",
    "        P0 = P0 - gamma*grad_P\n",
    "        grad_P = objective(P0, Q0, R, mask, rho)[1]\n",
    "    val = objective(P0, Q0, R, mask, rho)[0]\n",
    "    return val, P0"
   ]
  },
  {
   "cell_type": "code",
   "execution_count": 34,
   "metadata": {},
   "outputs": [
    {
     "data": {
      "text/plain": [
       "(685091.7826478565,\n",
       " array([[-1.62060750e-02, -3.23391424e-03, -4.88005961e-02, ...,\n",
       "          9.53260775e-04, -7.73342642e-05, -1.74971250e-03],\n",
       "        [-1.69737618e-02, -6.25039193e-02, -1.16405039e-02, ...,\n",
       "          5.33024145e-04, -4.54336533e-04, -2.61400068e-04],\n",
       "        [ 8.72397853e-02,  7.02505798e-03,  2.86181725e-02, ...,\n",
       "          4.48134760e-04, -1.05231342e-04, -2.03151884e-04],\n",
       "        [ 9.59509371e-02,  3.51795155e-02,  1.99288117e-02, ...,\n",
       "          3.03747116e-05,  3.31055915e-04,  3.16852950e-04]]))"
      ]
     },
     "execution_count": 34,
     "metadata": {},
     "output_type": "execute_result"
    }
   ],
   "source": [
    "gradient_2(g, P0, 1)"
   ]
  },
  {
   "cell_type": "markdown",
   "metadata": {},
   "source": [
    "### 3 - Resolution of the full problem"
   ]
  },
  {
   "cell_type": "code",
   "execution_count": null,
   "metadata": {},
   "outputs": [],
   "source": []
  }
 ],
 "metadata": {
  "kernelspec": {
   "display_name": "Python 3",
   "language": "python",
   "name": "python3"
  },
  "language_info": {
   "codemirror_mode": {
    "name": "ipython",
    "version": 3
   },
   "file_extension": ".py",
   "mimetype": "text/x-python",
   "name": "python",
   "nbconvert_exporter": "python",
   "pygments_lexer": "ipython3",
   "version": "3.7.3"
  }
 },
 "nbformat": 4,
 "nbformat_minor": 1
}