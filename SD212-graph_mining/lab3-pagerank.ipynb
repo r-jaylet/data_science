{
 "cells": [
  {
   "cell_type": "markdown",
   "metadata": {},
   "source": [
    "# SD212: Graph mining\n",
    "## Lab 3: PageRank\n",
    "\n",
    "In this lab, you will learn to compute, use and interpret various [PageRank](https://en.wikipedia.org/wiki/PageRank) scores."
   ]
  },
  {
   "cell_type": "markdown",
   "metadata": {},
   "source": [
    "## Import"
   ]
  },
  {
   "cell_type": "code",
   "execution_count": 1,
   "metadata": {},
   "outputs": [],
   "source": [
    "from IPython.display import SVG"
   ]
  },
  {
   "cell_type": "code",
   "execution_count": 3,
   "metadata": {},
   "outputs": [],
   "source": [
    "import numpy as np\n",
    "from scipy import sparse"
   ]
  },
  {
   "cell_type": "code",
   "execution_count": 4,
   "metadata": {},
   "outputs": [],
   "source": [
    "from sknetwork.data import load_netset, linear_graph, miserables\n",
    "from sknetwork.linalg import normalize\n",
    "from sknetwork.ranking import PageRank, BiPageRank, top_k\n",
    "from sknetwork.visualization import svg_graph"
   ]
  },
  {
   "cell_type": "markdown",
   "metadata": {},
   "source": [
    "## Data"
   ]
  },
  {
   "cell_type": "markdown",
   "metadata": {},
   "source": [
    "We will work on the following graphs (see the [NetSet](https://netset.telecom-paris.fr/) collection for details):\n",
    "* Openflights (graph)\n",
    "* WikiVitals (digraph)\n",
    "* Cinema (bigraph)"
   ]
  },
  {
   "cell_type": "code",
   "execution_count": 5,
   "metadata": {},
   "outputs": [],
   "source": [
    "openflights = load_netset('openflights')\n",
    "wikivitals = load_netset('wikivitals')\n",
    "cinema = load_netset('cinema')"
   ]
  },
  {
   "cell_type": "markdown",
   "metadata": {},
   "source": [
    "## 1. Graphs\n",
    "\n",
    "The PageRank corresponds to the stationary distribution of a random walk with restart probability $1-\\alpha$. Unless otherwise specified, we take the default value $\\alpha = 0.85$ and the restart probability distribution is uniform over the set of nodes."
   ]
  },
  {
   "cell_type": "markdown",
   "metadata": {},
   "source": [
    "## Linear graph"
   ]
  },
  {
   "cell_type": "markdown",
   "metadata": {},
   "source": [
    "Consider a linear graph:"
   ]
  },
  {
   "cell_type": "code",
   "execution_count": 6,
   "metadata": {},
   "outputs": [],
   "source": [
    "n = 10"
   ]
  },
  {
   "cell_type": "code",
   "execution_count": 7,
   "metadata": {},
   "outputs": [],
   "source": [
    "graph = linear_graph(n, True)\n",
    "adjacency = graph.adjacency\n",
    "position = graph.position"
   ]
  },
  {
   "cell_type": "code",
   "execution_count": 8,
   "metadata": {},
   "outputs": [],
   "source": [
    "image = svg_graph(adjacency, position, names=np.arange(n))"
   ]
  },
  {
   "cell_type": "code",
   "execution_count": 9,
   "metadata": {},
   "outputs": [
    {
     "data": {
      "image/svg+xml": [
       "<svg height=\"340\" width=\"446.0\" xmlns=\"http://www.w3.org/2000/svg\"><path d=\"M 20 170 64 170\" stroke=\"gray\" stroke-width=\"1\"/><path d=\"M 64 170 20 170\" stroke=\"gray\" stroke-width=\"1\"/><path d=\"M 64 170 108 170\" stroke=\"gray\" stroke-width=\"1\"/><path d=\"M 108 170 64 170\" stroke=\"gray\" stroke-width=\"1\"/><path d=\"M 108 170 153 170\" stroke=\"gray\" stroke-width=\"1\"/><path d=\"M 153 170 108 170\" stroke=\"gray\" stroke-width=\"1\"/><path d=\"M 153 170 197 170\" stroke=\"gray\" stroke-width=\"1\"/><path d=\"M 197 170 153 170\" stroke=\"gray\" stroke-width=\"1\"/><path d=\"M 197 170 242 170\" stroke=\"gray\" stroke-width=\"1\"/><path d=\"M 242 170 197 170\" stroke=\"gray\" stroke-width=\"1\"/><path d=\"M 242 170 286 170\" stroke=\"gray\" stroke-width=\"1\"/><path d=\"M 286 170 242 170\" stroke=\"gray\" stroke-width=\"1\"/><path d=\"M 286 170 331 170\" stroke=\"gray\" stroke-width=\"1\"/><path d=\"M 331 170 286 170\" stroke=\"gray\" stroke-width=\"1\"/><path d=\"M 331 170 375 170\" stroke=\"gray\" stroke-width=\"1\"/><path d=\"M 375 170 331 170\" stroke=\"gray\" stroke-width=\"1\"/><path d=\"M 375 170 420 170\" stroke=\"gray\" stroke-width=\"1\"/><path d=\"M 420 170 375 170\" stroke=\"gray\" stroke-width=\"1\"/><circle cx=\"20\" cy=\"170\" r=\"7.0\" style=\"fill:gray;stroke:black;stroke-width:1.0\"/><circle cx=\"64\" cy=\"170\" r=\"7.0\" style=\"fill:gray;stroke:black;stroke-width:1.0\"/><circle cx=\"108\" cy=\"170\" r=\"7.0\" style=\"fill:gray;stroke:black;stroke-width:1.0\"/><circle cx=\"153\" cy=\"170\" r=\"7.0\" style=\"fill:gray;stroke:black;stroke-width:1.0\"/><circle cx=\"197\" cy=\"170\" r=\"7.0\" style=\"fill:gray;stroke:black;stroke-width:1.0\"/><circle cx=\"242\" cy=\"170\" r=\"7.0\" style=\"fill:gray;stroke:black;stroke-width:1.0\"/><circle cx=\"286\" cy=\"170\" r=\"7.0\" style=\"fill:gray;stroke:black;stroke-width:1.0\"/><circle cx=\"331\" cy=\"170\" r=\"7.0\" style=\"fill:gray;stroke:black;stroke-width:1.0\"/><circle cx=\"375\" cy=\"170\" r=\"7.0\" style=\"fill:gray;stroke:black;stroke-width:1.0\"/><circle cx=\"420\" cy=\"170\" r=\"7.0\" style=\"fill:gray;stroke:black;stroke-width:1.0\"/><text font-size=\"12\" x=\"30\" y=\"177\">0</text><text font-size=\"12\" x=\"74\" y=\"177\">1</text><text font-size=\"12\" x=\"118\" y=\"177\">2</text><text font-size=\"12\" x=\"163\" y=\"177\">3</text><text font-size=\"12\" x=\"207\" y=\"177\">4</text><text font-size=\"12\" x=\"252\" y=\"177\">5</text><text font-size=\"12\" x=\"296\" y=\"177\">6</text><text font-size=\"12\" x=\"341\" y=\"177\">7</text><text font-size=\"12\" x=\"385\" y=\"177\">8</text><text font-size=\"12\" x=\"430\" y=\"177\">9</text></svg>"
      ],
      "text/plain": [
       "<IPython.core.display.SVG object>"
      ]
     },
     "execution_count": 9,
     "metadata": {},
     "output_type": "execute_result"
    }
   ],
   "source": [
    "SVG(image)"
   ]
  },
  {
   "cell_type": "markdown",
   "metadata": {},
   "source": [
    "## To do\n",
    "\n",
    "* What are the two best ranked nodes? Try with different values of $\\alpha$ and interpret the results.\n",
    "* What is the **exact** PageRank vector when $\\alpha=1$? You need to compute it!"
   ]
  },
  {
   "cell_type": "code",
   "execution_count": 10,
   "metadata": {},
   "outputs": [],
   "source": [
    "pagerank = PageRank(damping_factor=0.85, solver='lanczos')"
   ]
  },
  {
   "cell_type": "code",
   "execution_count": 11,
   "metadata": {},
   "outputs": [],
   "source": [
    "scores = pagerank.fit_transform(adjacency)"
   ]
  },
  {
   "cell_type": "code",
   "execution_count": 12,
   "metadata": {},
   "outputs": [],
   "source": [
    "image = svg_graph(adjacency, position, names=np.arange(n), scores=scores)"
   ]
  },
  {
   "cell_type": "code",
   "execution_count": 13,
   "metadata": {},
   "outputs": [
    {
     "data": {
      "image/svg+xml": [
       "<svg height=\"340\" width=\"446.0\" xmlns=\"http://www.w3.org/2000/svg\"><path d=\"M 20 170 64 170\" stroke=\"gray\" stroke-width=\"1\"/><path d=\"M 64 170 20 170\" stroke=\"gray\" stroke-width=\"1\"/><path d=\"M 64 170 108 170\" stroke=\"gray\" stroke-width=\"1\"/><path d=\"M 108 170 64 170\" stroke=\"gray\" stroke-width=\"1\"/><path d=\"M 108 170 153 170\" stroke=\"gray\" stroke-width=\"1\"/><path d=\"M 153 170 108 170\" stroke=\"gray\" stroke-width=\"1\"/><path d=\"M 153 170 197 170\" stroke=\"gray\" stroke-width=\"1\"/><path d=\"M 197 170 153 170\" stroke=\"gray\" stroke-width=\"1\"/><path d=\"M 197 170 242 170\" stroke=\"gray\" stroke-width=\"1\"/><path d=\"M 242 170 197 170\" stroke=\"gray\" stroke-width=\"1\"/><path d=\"M 242 170 286 170\" stroke=\"gray\" stroke-width=\"1\"/><path d=\"M 286 170 242 170\" stroke=\"gray\" stroke-width=\"1\"/><path d=\"M 286 170 331 170\" stroke=\"gray\" stroke-width=\"1\"/><path d=\"M 331 170 286 170\" stroke=\"gray\" stroke-width=\"1\"/><path d=\"M 331 170 375 170\" stroke=\"gray\" stroke-width=\"1\"/><path d=\"M 375 170 331 170\" stroke=\"gray\" stroke-width=\"1\"/><path d=\"M 375 170 420 170\" stroke=\"gray\" stroke-width=\"1\"/><path d=\"M 420 170 375 170\" stroke=\"gray\" stroke-width=\"1\"/><circle cx=\"20\" cy=\"170\" r=\"7.0\" style=\"fill:rgb(58, 76, 192);stroke:black;stroke-width:1.0\"/><circle cx=\"64\" cy=\"170\" r=\"7.0\" style=\"fill:rgb(179, 3, 38);stroke:black;stroke-width:1.0\"/><circle cx=\"108\" cy=\"170\" r=\"7.0\" style=\"fill:rgb(225, 104, 82);stroke:black;stroke-width:1.0\"/><circle cx=\"153\" cy=\"170\" r=\"7.0\" style=\"fill:rgb(237, 132, 103);stroke:black;stroke-width:1.0\"/><circle cx=\"197\" cy=\"170\" r=\"7.0\" style=\"fill:rgb(242, 145, 115);stroke:black;stroke-width:1.0\"/><circle cx=\"242\" cy=\"170\" r=\"7.0\" style=\"fill:rgb(242, 145, 115);stroke:black;stroke-width:1.0\"/><circle cx=\"286\" cy=\"170\" r=\"7.0\" style=\"fill:rgb(237, 132, 103);stroke:black;stroke-width:1.0\"/><circle cx=\"331\" cy=\"170\" r=\"7.0\" style=\"fill:rgb(225, 104, 82);stroke:black;stroke-width:1.0\"/><circle cx=\"375\" cy=\"170\" r=\"7.0\" style=\"fill:rgb(179, 3, 38);stroke:black;stroke-width:1.0\"/><circle cx=\"420\" cy=\"170\" r=\"7.0\" style=\"fill:rgb(58, 76, 192);stroke:black;stroke-width:1.0\"/><text font-size=\"12\" x=\"30\" y=\"177\">0</text><text font-size=\"12\" x=\"74\" y=\"177\">1</text><text font-size=\"12\" x=\"118\" y=\"177\">2</text><text font-size=\"12\" x=\"163\" y=\"177\">3</text><text font-size=\"12\" x=\"207\" y=\"177\">4</text><text font-size=\"12\" x=\"252\" y=\"177\">5</text><text font-size=\"12\" x=\"296\" y=\"177\">6</text><text font-size=\"12\" x=\"341\" y=\"177\">7</text><text font-size=\"12\" x=\"385\" y=\"177\">8</text><text font-size=\"12\" x=\"430\" y=\"177\">9</text></svg>"
      ],
      "text/plain": [
       "<IPython.core.display.SVG object>"
      ]
     },
     "execution_count": 13,
     "metadata": {},
     "output_type": "execute_result"
    }
   ],
   "source": [
    "SVG(image)"
   ]
  },
  {
   "cell_type": "markdown",
   "metadata": {},
   "source": [
    "## Les Misérables\n"
   ]
  },
  {
   "cell_type": "code",
   "execution_count": 14,
   "metadata": {},
   "outputs": [],
   "source": [
    "graph = miserables(True)"
   ]
  },
  {
   "cell_type": "code",
   "execution_count": 15,
   "metadata": {},
   "outputs": [],
   "source": [
    "adjacency = graph.adjacency\n",
    "position = graph.position\n",
    "names = graph.names"
   ]
  },
  {
   "cell_type": "code",
   "execution_count": 16,
   "metadata": {},
   "outputs": [],
   "source": [
    "image = svg_graph(adjacency, position, names, scale=2)"
   ]
  },
  {
   "cell_type": "code",
   "execution_count": 17,
   "metadata": {},
   "outputs": [
    {
     "data": {
      "image/svg+xml": [
       "<svg height=\"680\" width=\"1084.0\" xmlns=\"http://www.w3.org/2000/svg\"><path d=\"M 647 431 831 502\" stroke=\"gray\" stroke-width=\"1.129032258064516\"/><path d=\"M 647 431 597 397\" stroke=\"gray\" stroke-width=\"5.532258064516129\"/><path d=\"M 647 431 593 412\" stroke=\"gray\" stroke-width=\"6.790322580645161\"/><path d=\"M 647 431 840 461\" stroke=\"gray\" stroke-width=\"1.129032258064516\"/><path d=\"M 647 431 807 539\" stroke=\"gray\" stroke-width=\"1.129032258064516\"/><path d=\"M 647 431 774 569\" stroke=\"gray\" stroke-width=\"1.129032258064516\"/><path d=\"M 647 431 733 587\" stroke=\"gray\" stroke-width=\"1.129032258064516\"/><path d=\"M 647 431 749 487\" stroke=\"gray\" stroke-width=\"1.7580645161290323\"/><path d=\"M 647 431 840 416\" stroke=\"gray\" stroke-width=\"1.129032258064516\"/><path d=\"M 647 431 466 334\" stroke=\"gray\" stroke-width=\"3.6451612903225805\"/><path d=\"M 831 502 647 431\" stroke=\"gray\" stroke-width=\"1.129032258064516\"/><path d=\"M 597 397 647 431\" stroke=\"gray\" stroke-width=\"5.532258064516129\"/><path d=\"M 597 397 593 412\" stroke=\"gray\" stroke-width=\"4.274193548387097\"/><path d=\"M 597 397 466 334\" stroke=\"gray\" stroke-width=\"2.3870967741935485\"/><path d=\"M 593 412 647 431\" stroke=\"gray\" stroke-width=\"6.790322580645161\"/><path d=\"M 593 412 597 397\" stroke=\"gray\" stroke-width=\"4.274193548387097\"/><path d=\"M 593 412 466 334\" stroke=\"gray\" stroke-width=\"2.3870967741935485\"/><path d=\"M 840 461 647 431\" stroke=\"gray\" stroke-width=\"1.129032258064516\"/><path d=\"M 807 539 647 431\" stroke=\"gray\" stroke-width=\"1.129032258064516\"/><path d=\"M 774 569 647 431\" stroke=\"gray\" stroke-width=\"1.129032258064516\"/><path d=\"M 733 587 647 431\" stroke=\"gray\" stroke-width=\"1.129032258064516\"/><path d=\"M 749 487 647 431\" stroke=\"gray\" stroke-width=\"1.7580645161290323\"/><path d=\"M 840 416 647 431\" stroke=\"gray\" stroke-width=\"1.129032258064516\"/><path d=\"M 638 200 466 334\" stroke=\"gray\" stroke-width=\"1.129032258064516\"/><path d=\"M 466 334 647 431\" stroke=\"gray\" stroke-width=\"3.6451612903225805\"/><path d=\"M 466 334 597 397\" stroke=\"gray\" stroke-width=\"2.3870967741935485\"/><path d=\"M 466 334 593 412\" stroke=\"gray\" stroke-width=\"2.3870967741935485\"/><path d=\"M 466 334 638 200\" stroke=\"gray\" stroke-width=\"1.129032258064516\"/><path d=\"M 466 334 429 181\" stroke=\"gray\" stroke-width=\"1.129032258064516\"/><path d=\"M 466 334 548 509\" stroke=\"gray\" stroke-width=\"1.129032258064516\"/><path d=\"M 466 334 581 155\" stroke=\"gray\" stroke-width=\"1.129032258064516\"/><path d=\"M 466 334 597 479\" stroke=\"gray\" stroke-width=\"1.129032258064516\"/><path d=\"M 466 334 347 271\" stroke=\"gray\" stroke-width=\"6.161290322580645\"/><path d=\"M 466 334 405 319\" stroke=\"gray\" stroke-width=\"4.903225806451613\"/><path d=\"M 466 334 413 293\" stroke=\"gray\" stroke-width=\"8.048387096774194\"/><path d=\"M 466 334 425 364\" stroke=\"gray\" stroke-width=\"20.0\"/><path d=\"M 466 334 421 323\" stroke=\"gray\" stroke-width=\"11.193548387096774\"/><path d=\"M 466 334 565 323\" stroke=\"gray\" stroke-width=\"5.532258064516129\"/><path d=\"M 466 334 499 256\" stroke=\"gray\" stroke-width=\"1.7580645161290323\"/><path d=\"M 466 334 388 382\" stroke=\"gray\" stroke-width=\"2.3870967741935485\"/><path d=\"M 466 334 667 256\" stroke=\"gray\" stroke-width=\"1.129032258064516\"/><path d=\"M 466 334 548 360\" stroke=\"gray\" stroke-width=\"1.7580645161290323\"/><path d=\"M 466 334 548 282\" stroke=\"gray\" stroke-width=\"2.3870967741935485\"/><path d=\"M 466 334 536 259\" stroke=\"gray\" stroke-width=\"2.3870967741935485\"/><path d=\"M 466 334 548 230\" stroke=\"gray\" stroke-width=\"1.7580645161290323\"/><path d=\"M 466 334 581 267\" stroke=\"gray\" stroke-width=\"1.7580645161290323\"/><path d=\"M 466 334 573 244\" stroke=\"gray\" stroke-width=\"1.7580645161290323\"/><path d=\"M 466 334 511 379\" stroke=\"gray\" stroke-width=\"2.3870967741935485\"/><path d=\"M 466 334 638 326\" stroke=\"gray\" stroke-width=\"1.129032258064516\"/><path d=\"M 466 334 277 323\" stroke=\"gray\" stroke-width=\"1.129032258064516\"/><path d=\"M 466 334 396 420\" stroke=\"gray\" stroke-width=\"1.7580645161290323\"/><path d=\"M 466 334 409 449\" stroke=\"gray\" stroke-width=\"1.7580645161290323\"/><path d=\"M 466 334 376 371\" stroke=\"gray\" stroke-width=\"12.451612903225806\"/><path d=\"M 466 334 327 356\" stroke=\"gray\" stroke-width=\"3.0161290322580645\"/><path d=\"M 466 334 302 367\" stroke=\"gray\" stroke-width=\"1.129032258064516\"/><path d=\"M 466 334 396 256\" stroke=\"gray\" stroke-width=\"1.129032258064516\"/><path d=\"M 466 334 388 274\" stroke=\"gray\" stroke-width=\"1.129032258064516\"/><path d=\"M 466 334 421 263\" stroke=\"gray\" stroke-width=\"1.129032258064516\"/><path d=\"M 466 334 388 237\" stroke=\"gray\" stroke-width=\"1.129032258064516\"/><path d=\"M 466 334 487 420\" stroke=\"gray\" stroke-width=\"1.129032258064516\"/><path d=\"M 429 181 466 334\" stroke=\"gray\" stroke-width=\"1.129032258064516\"/><path d=\"M 429 181 347 271\" stroke=\"gray\" stroke-width=\"1.7580645161290323\"/><path d=\"M 548 509 466 334\" stroke=\"gray\" stroke-width=\"1.129032258064516\"/><path d=\"M 581 155 466 334\" stroke=\"gray\" stroke-width=\"1.129032258064516\"/><path d=\"M 597 479 466 334\" stroke=\"gray\" stroke-width=\"1.129032258064516\"/><path d=\"M 286 244 241 207\" stroke=\"gray\" stroke-width=\"3.0161290322580645\"/><path d=\"M 286 244 257 196\" stroke=\"gray\" stroke-width=\"3.0161290322580645\"/><path d=\"M 286 244 241 226\" stroke=\"gray\" stroke-width=\"3.0161290322580645\"/><path d=\"M 286 244 261 226\" stroke=\"gray\" stroke-width=\"2.3870967741935485\"/><path d=\"M 286 244 277 211\" stroke=\"gray\" stroke-width=\"2.3870967741935485\"/><path d=\"M 286 244 282 196\" stroke=\"gray\" stroke-width=\"2.3870967741935485\"/><path d=\"M 286 244 347 271\" stroke=\"gray\" stroke-width=\"2.3870967741935485\"/><path d=\"M 286 244 425 364\" stroke=\"gray\" stroke-width=\"1.129032258064516\"/><path d=\"M 286 244 376 371\" stroke=\"gray\" stroke-width=\"1.129032258064516\"/><path d=\"M 241 207 286 244\" stroke=\"gray\" stroke-width=\"3.0161290322580645\"/><path d=\"M 241 207 257 196\" stroke=\"gray\" stroke-width=\"3.0161290322580645\"/><path d=\"M 241 207 241 226\" stroke=\"gray\" stroke-width=\"3.0161290322580645\"/><path d=\"M 241 207 261 226\" stroke=\"gray\" stroke-width=\"2.3870967741935485\"/><path d=\"M 241 207 277 211\" stroke=\"gray\" stroke-width=\"2.3870967741935485\"/><path d=\"M 241 207 282 196\" stroke=\"gray\" stroke-width=\"2.3870967741935485\"/><path d=\"M 241 207 347 271\" stroke=\"gray\" stroke-width=\"2.3870967741935485\"/><path d=\"M 257 196 286 244\" stroke=\"gray\" stroke-width=\"3.0161290322580645\"/><path d=\"M 257 196 241 207\" stroke=\"gray\" stroke-width=\"3.0161290322580645\"/><path d=\"M 257 196 241 226\" stroke=\"gray\" stroke-width=\"3.0161290322580645\"/><path d=\"M 257 196 261 226\" stroke=\"gray\" stroke-width=\"2.3870967741935485\"/><path d=\"M 257 196 277 211\" stroke=\"gray\" stroke-width=\"2.3870967741935485\"/><path d=\"M 257 196 282 196\" stroke=\"gray\" stroke-width=\"2.3870967741935485\"/><path d=\"M 257 196 347 271\" stroke=\"gray\" stroke-width=\"2.3870967741935485\"/><path d=\"M 241 226 286 244\" stroke=\"gray\" stroke-width=\"3.0161290322580645\"/><path d=\"M 241 226 241 207\" stroke=\"gray\" stroke-width=\"3.0161290322580645\"/><path d=\"M 241 226 257 196\" stroke=\"gray\" stroke-width=\"3.0161290322580645\"/><path d=\"M 241 226 261 226\" stroke=\"gray\" stroke-width=\"3.0161290322580645\"/><path d=\"M 241 226 277 211\" stroke=\"gray\" stroke-width=\"2.3870967741935485\"/><path d=\"M 241 226 282 196\" stroke=\"gray\" stroke-width=\"2.3870967741935485\"/><path d=\"M 241 226 347 271\" stroke=\"gray\" stroke-width=\"2.3870967741935485\"/><path d=\"M 261 226 286 244\" stroke=\"gray\" stroke-width=\"2.3870967741935485\"/><path d=\"M 261 226 241 207\" stroke=\"gray\" stroke-width=\"2.3870967741935485\"/><path d=\"M 261 226 257 196\" stroke=\"gray\" stroke-width=\"2.3870967741935485\"/><path d=\"M 261 226 241 226\" stroke=\"gray\" stroke-width=\"3.0161290322580645\"/><path d=\"M 261 226 277 211\" stroke=\"gray\" stroke-width=\"3.6451612903225805\"/><path d=\"M 261 226 282 196\" stroke=\"gray\" stroke-width=\"3.0161290322580645\"/><path d=\"M 261 226 347 271\" stroke=\"gray\" stroke-width=\"3.0161290322580645\"/><path d=\"M 277 211 286 244\" stroke=\"gray\" stroke-width=\"2.3870967741935485\"/><path d=\"M 277 211 241 207\" stroke=\"gray\" stroke-width=\"2.3870967741935485\"/><path d=\"M 277 211 257 196\" stroke=\"gray\" stroke-width=\"2.3870967741935485\"/><path d=\"M 277 211 241 226\" stroke=\"gray\" stroke-width=\"2.3870967741935485\"/><path d=\"M 277 211 261 226\" stroke=\"gray\" stroke-width=\"3.6451612903225805\"/><path d=\"M 277 211 282 196\" stroke=\"gray\" stroke-width=\"3.0161290322580645\"/><path d=\"M 277 211 347 271\" stroke=\"gray\" stroke-width=\"3.0161290322580645\"/><path d=\"M 282 196 286 244\" stroke=\"gray\" stroke-width=\"2.3870967741935485\"/><path d=\"M 282 196 241 207\" stroke=\"gray\" stroke-width=\"2.3870967741935485\"/><path d=\"M 282 196 257 196\" stroke=\"gray\" stroke-width=\"2.3870967741935485\"/><path d=\"M 282 196 241 226\" stroke=\"gray\" stroke-width=\"2.3870967741935485\"/><path d=\"M 282 196 261 226\" stroke=\"gray\" stroke-width=\"3.0161290322580645\"/><path d=\"M 282 196 277 211\" stroke=\"gray\" stroke-width=\"3.0161290322580645\"/><path d=\"M 282 196 347 271\" stroke=\"gray\" stroke-width=\"3.0161290322580645\"/><path d=\"M 347 271 466 334\" stroke=\"gray\" stroke-width=\"6.161290322580645\"/><path d=\"M 347 271 429 181\" stroke=\"gray\" stroke-width=\"1.7580645161290323\"/><path d=\"M 347 271 286 244\" stroke=\"gray\" stroke-width=\"2.3870967741935485\"/><path d=\"M 347 271 241 207\" stroke=\"gray\" stroke-width=\"2.3870967741935485\"/><path d=\"M 347 271 257 196\" stroke=\"gray\" stroke-width=\"2.3870967741935485\"/><path d=\"M 347 271 241 226\" stroke=\"gray\" stroke-width=\"2.3870967741935485\"/><path d=\"M 347 271 261 226\" stroke=\"gray\" stroke-width=\"3.0161290322580645\"/><path d=\"M 347 271 277 211\" stroke=\"gray\" stroke-width=\"3.0161290322580645\"/><path d=\"M 347 271 282 196\" stroke=\"gray\" stroke-width=\"3.0161290322580645\"/><path d=\"M 347 271 405 319\" stroke=\"gray\" stroke-width=\"1.7580645161290323\"/><path d=\"M 347 271 413 293\" stroke=\"gray\" stroke-width=\"1.129032258064516\"/><path d=\"M 347 271 421 323\" stroke=\"gray\" stroke-width=\"3.6451612903225805\"/><path d=\"M 347 271 499 256\" stroke=\"gray\" stroke-width=\"1.129032258064516\"/><path d=\"M 347 271 310 442\" stroke=\"gray\" stroke-width=\"1.129032258064516\"/><path d=\"M 347 271 388 382\" stroke=\"gray\" stroke-width=\"1.7580645161290323\"/><path d=\"M 405 319 466 334\" stroke=\"gray\" stroke-width=\"4.903225806451613\"/><path d=\"M 405 319 347 271\" stroke=\"gray\" stroke-width=\"1.7580645161290323\"/><path d=\"M 405 319 413 293\" stroke=\"gray\" stroke-width=\"8.67741935483871\"/><path d=\"M 405 319 425 364\" stroke=\"gray\" stroke-width=\"3.0161290322580645\"/><path d=\"M 405 319 421 323\" stroke=\"gray\" stroke-width=\"1.129032258064516\"/><path d=\"M 405 319 355 304\" stroke=\"gray\" stroke-width=\"1.7580645161290323\"/><path d=\"M 405 319 392 203\" stroke=\"gray\" stroke-width=\"1.129032258064516\"/><path d=\"M 405 319 355 494\" stroke=\"gray\" stroke-width=\"1.129032258064516\"/><path d=\"M 405 319 396 256\" stroke=\"gray\" stroke-width=\"1.129032258064516\"/><path d=\"M 405 319 388 274\" stroke=\"gray\" stroke-width=\"1.129032258064516\"/><path d=\"M 405 319 421 263\" stroke=\"gray\" stroke-width=\"1.129032258064516\"/><path d=\"M 413 293 466 334\" stroke=\"gray\" stroke-width=\"8.048387096774194\"/><path d=\"M 413 293 347 271\" stroke=\"gray\" stroke-width=\"1.129032258064516\"/><path d=\"M 413 293 405 319\" stroke=\"gray\" stroke-width=\"8.67741935483871\"/><path d=\"M 413 293 425 364\" stroke=\"gray\" stroke-width=\"1.129032258064516\"/><path d=\"M 413 293 421 323\" stroke=\"gray\" stroke-width=\"3.6451612903225805\"/><path d=\"M 413 293 446 479\" stroke=\"gray\" stroke-width=\"1.129032258064516\"/><path d=\"M 413 293 425 88\" stroke=\"gray\" stroke-width=\"1.129032258064516\"/><path d=\"M 413 293 355 304\" stroke=\"gray\" stroke-width=\"2.3870967741935485\"/><path d=\"M 413 293 392 203\" stroke=\"gray\" stroke-width=\"1.7580645161290323\"/><path d=\"M 413 293 277 323\" stroke=\"gray\" stroke-width=\"1.129032258064516\"/><path d=\"M 413 293 376 371\" stroke=\"gray\" stroke-width=\"1.7580645161290323\"/><path d=\"M 413 293 396 256\" stroke=\"gray\" stroke-width=\"3.6451612903225805\"/><path d=\"M 413 293 388 274\" stroke=\"gray\" stroke-width=\"4.274193548387097\"/><path d=\"M 413 293 421 263\" stroke=\"gray\" stroke-width=\"3.0161290322580645\"/><path d=\"M 413 293 388 237\" stroke=\"gray\" stroke-width=\"1.129032258064516\"/><path d=\"M 413 293 355 233\" stroke=\"gray\" stroke-width=\"2.3870967741935485\"/><path d=\"M 425 364 466 334\" stroke=\"gray\" stroke-width=\"20.0\"/><path d=\"M 425 364 286 244\" stroke=\"gray\" stroke-width=\"1.129032258064516\"/><path d=\"M 425 364 405 319\" stroke=\"gray\" stroke-width=\"3.0161290322580645\"/><path d=\"M 425 364 413 293\" stroke=\"gray\" stroke-width=\"1.129032258064516\"/><path d=\"M 425 364 421 323\" stroke=\"gray\" stroke-width=\"1.129032258064516\"/><path d=\"M 425 364 511 379\" stroke=\"gray\" stroke-width=\"1.129032258064516\"/><path d=\"M 425 364 396 420\" stroke=\"gray\" stroke-width=\"2.3870967741935485\"/><path d=\"M 425 364 409 449\" stroke=\"gray\" stroke-width=\"1.7580645161290323\"/><path d=\"M 425 364 405 494\" stroke=\"gray\" stroke-width=\"1.129032258064516\"/><path d=\"M 425 364 376 371\" stroke=\"gray\" stroke-width=\"13.709677419354838\"/><path d=\"M 425 364 487 420\" stroke=\"gray\" stroke-width=\"1.7580645161290323\"/><path d=\"M 421 323 466 334\" stroke=\"gray\" stroke-width=\"11.193548387096774\"/><path d=\"M 421 323 347 271\" stroke=\"gray\" stroke-width=\"3.6451612903225805\"/><path d=\"M 421 323 405 319\" stroke=\"gray\" stroke-width=\"1.129032258064516\"/><path d=\"M 421 323 413 293\" stroke=\"gray\" stroke-width=\"3.6451612903225805\"/><path d=\"M 421 323 425 364\" stroke=\"gray\" stroke-width=\"1.129032258064516\"/><path d=\"M 421 323 565 323\" stroke=\"gray\" stroke-width=\"1.129032258064516\"/><path d=\"M 421 323 499 256\" stroke=\"gray\" stroke-width=\"1.129032258064516\"/><path d=\"M 421 323 388 382\" stroke=\"gray\" stroke-width=\"1.129032258064516\"/><path d=\"M 421 323 548 360\" stroke=\"gray\" stroke-width=\"1.129032258064516\"/><path d=\"M 421 323 511 379\" stroke=\"gray\" stroke-width=\"1.129032258064516\"/><path d=\"M 421 323 277 323\" stroke=\"gray\" stroke-width=\"1.129032258064516\"/><path d=\"M 421 323 327 356\" stroke=\"gray\" stroke-width=\"4.274193548387097\"/><path d=\"M 421 323 396 256\" stroke=\"gray\" stroke-width=\"1.129032258064516\"/><path d=\"M 421 323 388 274\" stroke=\"gray\" stroke-width=\"1.7580645161290323\"/><path d=\"M 421 323 421 263\" stroke=\"gray\" stroke-width=\"1.129032258064516\"/><path d=\"M 421 323 388 237\" stroke=\"gray\" stroke-width=\"1.129032258064516\"/><path d=\"M 421 323 487 420\" stroke=\"gray\" stroke-width=\"1.129032258064516\"/><path d=\"M 565 323 466 334\" stroke=\"gray\" stroke-width=\"5.532258064516129\"/><path d=\"M 565 323 421 323\" stroke=\"gray\" stroke-width=\"1.129032258064516\"/><path d=\"M 565 323 638 326\" stroke=\"gray\" stroke-width=\"2.3870967741935485\"/><path d=\"M 565 323 716 300\" stroke=\"gray\" stroke-width=\"1.7580645161290323\"/><path d=\"M 499 256 466 334\" stroke=\"gray\" stroke-width=\"1.7580645161290323\"/><path d=\"M 499 256 347 271\" stroke=\"gray\" stroke-width=\"1.129032258064516\"/><path d=\"M 499 256 421 323\" stroke=\"gray\" stroke-width=\"1.129032258064516\"/><path d=\"M 499 256 548 282\" stroke=\"gray\" stroke-width=\"1.7580645161290323\"/><path d=\"M 499 256 536 259\" stroke=\"gray\" stroke-width=\"1.7580645161290323\"/><path d=\"M 499 256 548 230\" stroke=\"gray\" stroke-width=\"1.129032258064516\"/><path d=\"M 499 256 581 267\" stroke=\"gray\" stroke-width=\"1.129032258064516\"/><path d=\"M 499 256 573 244\" stroke=\"gray\" stroke-width=\"1.129032258064516\"/><path d=\"M 310 442 347 271\" stroke=\"gray\" stroke-width=\"1.129032258064516\"/><path d=\"M 310 442 388 382\" stroke=\"gray\" stroke-width=\"1.7580645161290323\"/><path d=\"M 388 382 466 334\" stroke=\"gray\" stroke-width=\"2.3870967741935485\"/><path d=\"M 388 382 347 271\" stroke=\"gray\" stroke-width=\"1.7580645161290323\"/><path d=\"M 388 382 421 323\" stroke=\"gray\" stroke-width=\"1.129032258064516\"/><path d=\"M 388 382 310 442\" stroke=\"gray\" stroke-width=\"1.7580645161290323\"/><path d=\"M 667 256 466 334\" stroke=\"gray\" stroke-width=\"1.129032258064516\"/><path d=\"M 548 360 466 334\" stroke=\"gray\" stroke-width=\"1.7580645161290323\"/><path d=\"M 548 360 421 323\" stroke=\"gray\" stroke-width=\"1.129032258064516\"/><path d=\"M 548 282 466 334\" stroke=\"gray\" stroke-width=\"2.3870967741935485\"/><path d=\"M 548 282 499 256\" stroke=\"gray\" stroke-width=\"1.7580645161290323\"/><path d=\"M 548 282 536 259\" stroke=\"gray\" stroke-width=\"2.3870967741935485\"/><path d=\"M 548 282 548 230\" stroke=\"gray\" stroke-width=\"1.7580645161290323\"/><path d=\"M 548 282 581 267\" stroke=\"gray\" stroke-width=\"1.7580645161290323\"/><path d=\"M 548 282 573 244\" stroke=\"gray\" stroke-width=\"1.7580645161290323\"/><path d=\"M 536 259 466 334\" stroke=\"gray\" stroke-width=\"2.3870967741935485\"/><path d=\"M 536 259 499 256\" stroke=\"gray\" stroke-width=\"1.7580645161290323\"/><path d=\"M 536 259 548 282\" stroke=\"gray\" stroke-width=\"2.3870967741935485\"/><path d=\"M 536 259 548 230\" stroke=\"gray\" stroke-width=\"1.7580645161290323\"/><path d=\"M 536 259 581 267\" stroke=\"gray\" stroke-width=\"1.7580645161290323\"/><path d=\"M 536 259 573 244\" stroke=\"gray\" stroke-width=\"1.7580645161290323\"/><path d=\"M 548 230 466 334\" stroke=\"gray\" stroke-width=\"1.7580645161290323\"/><path d=\"M 548 230 499 256\" stroke=\"gray\" stroke-width=\"1.129032258064516\"/><path d=\"M 548 230 548 282\" stroke=\"gray\" stroke-width=\"1.7580645161290323\"/><path d=\"M 548 230 536 259\" stroke=\"gray\" stroke-width=\"1.7580645161290323\"/><path d=\"M 548 230 581 267\" stroke=\"gray\" stroke-width=\"1.7580645161290323\"/><path d=\"M 548 230 573 244\" stroke=\"gray\" stroke-width=\"1.7580645161290323\"/><path d=\"M 581 267 466 334\" stroke=\"gray\" stroke-width=\"1.7580645161290323\"/><path d=\"M 581 267 499 256\" stroke=\"gray\" stroke-width=\"1.129032258064516\"/><path d=\"M 581 267 548 282\" stroke=\"gray\" stroke-width=\"1.7580645161290323\"/><path d=\"M 581 267 536 259\" stroke=\"gray\" stroke-width=\"1.7580645161290323\"/><path d=\"M 581 267 548 230\" stroke=\"gray\" stroke-width=\"1.7580645161290323\"/><path d=\"M 581 267 573 244\" stroke=\"gray\" stroke-width=\"1.7580645161290323\"/><path d=\"M 573 244 466 334\" stroke=\"gray\" stroke-width=\"1.7580645161290323\"/><path d=\"M 573 244 499 256\" stroke=\"gray\" stroke-width=\"1.129032258064516\"/><path d=\"M 573 244 548 282\" stroke=\"gray\" stroke-width=\"1.7580645161290323\"/><path d=\"M 573 244 536 259\" stroke=\"gray\" stroke-width=\"1.7580645161290323\"/><path d=\"M 573 244 548 230\" stroke=\"gray\" stroke-width=\"1.7580645161290323\"/><path d=\"M 573 244 581 267\" stroke=\"gray\" stroke-width=\"1.7580645161290323\"/><path d=\"M 446 479 413 293\" stroke=\"gray\" stroke-width=\"1.129032258064516\"/><path d=\"M 446 479 446 599\" stroke=\"gray\" stroke-width=\"1.129032258064516\"/><path d=\"M 446 479 376 371\" stroke=\"gray\" stroke-width=\"1.129032258064516\"/><path d=\"M 425 88 413 293\" stroke=\"gray\" stroke-width=\"1.129032258064516\"/><path d=\"M 355 304 405 319\" stroke=\"gray\" stroke-width=\"1.7580645161290323\"/><path d=\"M 355 304 413 293\" stroke=\"gray\" stroke-width=\"2.3870967741935485\"/><path d=\"M 355 304 392 203\" stroke=\"gray\" stroke-width=\"1.7580645161290323\"/><path d=\"M 355 304 376 371\" stroke=\"gray\" stroke-width=\"3.6451612903225805\"/><path d=\"M 355 304 232 408\" stroke=\"gray\" stroke-width=\"1.129032258064516\"/><path d=\"M 355 304 294 360\" stroke=\"gray\" stroke-width=\"1.129032258064516\"/><path d=\"M 355 304 396 256\" stroke=\"gray\" stroke-width=\"1.129032258064516\"/><path d=\"M 355 304 388 274\" stroke=\"gray\" stroke-width=\"1.129032258064516\"/><path d=\"M 355 304 421 263\" stroke=\"gray\" stroke-width=\"1.129032258064516\"/><path d=\"M 355 304 388 237\" stroke=\"gray\" stroke-width=\"1.129032258064516\"/><path d=\"M 355 304 355 233\" stroke=\"gray\" stroke-width=\"1.129032258064516\"/><path d=\"M 392 203 405 319\" stroke=\"gray\" stroke-width=\"1.129032258064516\"/><path d=\"M 392 203 413 293\" stroke=\"gray\" stroke-width=\"1.7580645161290323\"/><path d=\"M 392 203 355 304\" stroke=\"gray\" stroke-width=\"1.7580645161290323\"/><path d=\"M 511 379 466 334\" stroke=\"gray\" stroke-width=\"2.3870967741935485\"/><path d=\"M 511 379 425 364\" stroke=\"gray\" stroke-width=\"1.129032258064516\"/><path d=\"M 511 379 421 323\" stroke=\"gray\" stroke-width=\"1.129032258064516\"/><path d=\"M 638 326 466 334\" stroke=\"gray\" stroke-width=\"1.129032258064516\"/><path d=\"M 638 326 565 323\" stroke=\"gray\" stroke-width=\"2.3870967741935485\"/><path d=\"M 716 300 565 323\" stroke=\"gray\" stroke-width=\"1.7580645161290323\"/><path d=\"M 40 40 142 181\" stroke=\"gray\" stroke-width=\"1.129032258064516\"/><path d=\"M 142 181 40 40\" stroke=\"gray\" stroke-width=\"1.129032258064516\"/><path d=\"M 142 181 277 323\" stroke=\"gray\" stroke-width=\"1.7580645161290323\"/><path d=\"M 277 323 466 334\" stroke=\"gray\" stroke-width=\"1.129032258064516\"/><path d=\"M 277 323 413 293\" stroke=\"gray\" stroke-width=\"1.129032258064516\"/><path d=\"M 277 323 421 323\" stroke=\"gray\" stroke-width=\"1.129032258064516\"/><path d=\"M 277 323 142 181\" stroke=\"gray\" stroke-width=\"1.7580645161290323\"/><path d=\"M 277 323 376 371\" stroke=\"gray\" stroke-width=\"3.0161290322580645\"/><path d=\"M 277 323 232 408\" stroke=\"gray\" stroke-width=\"1.129032258064516\"/><path d=\"M 277 323 327 356\" stroke=\"gray\" stroke-width=\"4.903225806451613\"/><path d=\"M 277 323 294 379\" stroke=\"gray\" stroke-width=\"4.274193548387097\"/><path d=\"M 277 323 253 397\" stroke=\"gray\" stroke-width=\"1.129032258064516\"/><path d=\"M 277 323 269 360\" stroke=\"gray\" stroke-width=\"1.7580645161290323\"/><path d=\"M 277 323 294 360\" stroke=\"gray\" stroke-width=\"4.903225806451613\"/><path d=\"M 277 323 257 371\" stroke=\"gray\" stroke-width=\"3.6451612903225805\"/><path d=\"M 277 323 302 367\" stroke=\"gray\" stroke-width=\"3.6451612903225805\"/><path d=\"M 277 323 273 386\" stroke=\"gray\" stroke-width=\"2.3870967741935485\"/><path d=\"M 277 323 232 367\" stroke=\"gray\" stroke-width=\"1.129032258064516\"/><path d=\"M 277 323 396 256\" stroke=\"gray\" stroke-width=\"1.129032258064516\"/><path d=\"M 277 323 388 274\" stroke=\"gray\" stroke-width=\"1.129032258064516\"/><path d=\"M 277 323 388 237\" stroke=\"gray\" stroke-width=\"1.129032258064516\"/><path d=\"M 277 323 117 323\" stroke=\"gray\" stroke-width=\"1.7580645161290323\"/><path d=\"M 277 323 122 293\" stroke=\"gray\" stroke-width=\"1.7580645161290323\"/><path d=\"M 277 323 355 233\" stroke=\"gray\" stroke-width=\"1.129032258064516\"/><path d=\"M 277 323 191 382\" stroke=\"gray\" stroke-width=\"1.129032258064516\"/><path d=\"M 396 420 466 334\" stroke=\"gray\" stroke-width=\"1.7580645161290323\"/><path d=\"M 396 420 425 364\" stroke=\"gray\" stroke-width=\"2.3870967741935485\"/><path d=\"M 396 420 355 494\" stroke=\"gray\" stroke-width=\"1.129032258064516\"/><path d=\"M 396 420 409 449\" stroke=\"gray\" stroke-width=\"6.161290322580645\"/><path d=\"M 396 420 405 494\" stroke=\"gray\" stroke-width=\"1.129032258064516\"/><path d=\"M 396 420 376 371\" stroke=\"gray\" stroke-width=\"8.048387096774194\"/><path d=\"M 396 420 331 535\" stroke=\"gray\" stroke-width=\"1.129032258064516\"/><path d=\"M 355 494 405 319\" stroke=\"gray\" stroke-width=\"1.129032258064516\"/><path d=\"M 355 494 396 420\" stroke=\"gray\" stroke-width=\"1.129032258064516\"/><path d=\"M 409 449 466 334\" stroke=\"gray\" stroke-width=\"1.7580645161290323\"/><path d=\"M 409 449 425 364\" stroke=\"gray\" stroke-width=\"1.7580645161290323\"/><path d=\"M 409 449 396 420\" stroke=\"gray\" stroke-width=\"6.161290322580645\"/><path d=\"M 409 449 446 599\" stroke=\"gray\" stroke-width=\"1.129032258064516\"/><path d=\"M 409 449 380 640\" stroke=\"gray\" stroke-width=\"1.129032258064516\"/><path d=\"M 409 449 405 494\" stroke=\"gray\" stroke-width=\"1.7580645161290323\"/><path d=\"M 409 449 376 371\" stroke=\"gray\" stroke-width=\"4.274193548387097\"/><path d=\"M 446 599 446 479\" stroke=\"gray\" stroke-width=\"1.129032258064516\"/><path d=\"M 446 599 409 449\" stroke=\"gray\" stroke-width=\"1.129032258064516\"/><path d=\"M 380 640 409 449\" stroke=\"gray\" stroke-width=\"1.129032258064516\"/><path d=\"M 405 494 425 364\" stroke=\"gray\" stroke-width=\"1.129032258064516\"/><path d=\"M 405 494 396 420\" stroke=\"gray\" stroke-width=\"1.129032258064516\"/><path d=\"M 405 494 409 449\" stroke=\"gray\" stroke-width=\"1.7580645161290323\"/><path d=\"M 405 494 376 371\" stroke=\"gray\" stroke-width=\"1.129032258064516\"/><path d=\"M 376 371 466 334\" stroke=\"gray\" stroke-width=\"12.451612903225806\"/><path d=\"M 376 371 286 244\" stroke=\"gray\" stroke-width=\"1.129032258064516\"/><path d=\"M 376 371 413 293\" stroke=\"gray\" stroke-width=\"1.7580645161290323\"/><path d=\"M 376 371 425 364\" stroke=\"gray\" stroke-width=\"13.709677419354838\"/><path d=\"M 376 371 446 479\" stroke=\"gray\" stroke-width=\"1.129032258064516\"/><path d=\"M 376 371 355 304\" stroke=\"gray\" stroke-width=\"3.6451612903225805\"/><path d=\"M 376 371 277 323\" stroke=\"gray\" stroke-width=\"3.0161290322580645\"/><path d=\"M 376 371 396 420\" stroke=\"gray\" stroke-width=\"8.048387096774194\"/><path d=\"M 376 371 409 449\" stroke=\"gray\" stroke-width=\"4.274193548387097\"/><path d=\"M 376 371 405 494\" stroke=\"gray\" stroke-width=\"1.129032258064516\"/><path d=\"M 376 371 331 535\" stroke=\"gray\" stroke-width=\"1.129032258064516\"/><path d=\"M 376 371 232 408\" stroke=\"gray\" stroke-width=\"1.129032258064516\"/><path d=\"M 376 371 327 356\" stroke=\"gray\" stroke-width=\"4.903225806451613\"/><path d=\"M 376 371 294 379\" stroke=\"gray\" stroke-width=\"3.6451612903225805\"/><path d=\"M 376 371 269 360\" stroke=\"gray\" stroke-width=\"1.129032258064516\"/><path d=\"M 376 371 294 360\" stroke=\"gray\" stroke-width=\"6.161290322580645\"/><path d=\"M 376 371 257 371\" stroke=\"gray\" stroke-width=\"1.129032258064516\"/><path d=\"M 376 371 302 367\" stroke=\"gray\" stroke-width=\"3.6451612903225805\"/><path d=\"M 376 371 273 386\" stroke=\"gray\" stroke-width=\"1.7580645161290323\"/><path d=\"M 331 535 396 420\" stroke=\"gray\" stroke-width=\"1.129032258064516\"/><path d=\"M 331 535 376 371\" stroke=\"gray\" stroke-width=\"1.129032258064516\"/><path d=\"M 232 408 355 304\" stroke=\"gray\" stroke-width=\"1.129032258064516\"/><path d=\"M 232 408 277 323\" stroke=\"gray\" stroke-width=\"1.129032258064516\"/><path d=\"M 232 408 376 371\" stroke=\"gray\" stroke-width=\"1.129032258064516\"/><path d=\"M 232 408 327 356\" stroke=\"gray\" stroke-width=\"1.129032258064516\"/><path d=\"M 232 408 294 379\" stroke=\"gray\" stroke-width=\"1.7580645161290323\"/><path d=\"M 232 408 269 360\" stroke=\"gray\" stroke-width=\"1.129032258064516\"/><path d=\"M 232 408 294 360\" stroke=\"gray\" stroke-width=\"1.7580645161290323\"/><path d=\"M 232 408 257 371\" stroke=\"gray\" stroke-width=\"1.7580645161290323\"/><path d=\"M 232 408 302 367\" stroke=\"gray\" stroke-width=\"1.129032258064516\"/><path d=\"M 232 408 273 386\" stroke=\"gray\" stroke-width=\"1.129032258064516\"/><path d=\"M 232 408 126 476\" stroke=\"gray\" stroke-width=\"2.3870967741935485\"/><path d=\"M 327 356 466 334\" stroke=\"gray\" stroke-width=\"3.0161290322580645\"/><path d=\"M 327 356 421 323\" stroke=\"gray\" stroke-width=\"4.274193548387097\"/><path d=\"M 327 356 277 323\" stroke=\"gray\" stroke-width=\"4.903225806451613\"/><path d=\"M 327 356 376 371\" stroke=\"gray\" stroke-width=\"4.903225806451613\"/><path d=\"M 327 356 232 408\" stroke=\"gray\" stroke-width=\"1.129032258064516\"/><path d=\"M 327 356 294 379\" stroke=\"gray\" stroke-width=\"9.935483870967742\"/><path d=\"M 327 356 253 397\" stroke=\"gray\" stroke-width=\"3.0161290322580645\"/><path d=\"M 327 356 269 360\" stroke=\"gray\" stroke-width=\"4.274193548387097\"/><path d=\"M 327 356 294 360\" stroke=\"gray\" stroke-width=\"11.193548387096774\"/><path d=\"M 327 356 257 371\" stroke=\"gray\" stroke-width=\"3.0161290322580645\"/><path d=\"M 327 356 302 367\" stroke=\"gray\" stroke-width=\"6.790322580645161\"/><path d=\"M 327 356 273 386\" stroke=\"gray\" stroke-width=\"3.6451612903225805\"/><path d=\"M 327 356 232 367\" stroke=\"gray\" stroke-width=\"2.3870967741935485\"/><path d=\"M 327 356 421 263\" stroke=\"gray\" stroke-width=\"1.129032258064516\"/><path d=\"M 327 356 191 382\" stroke=\"gray\" stroke-width=\"1.129032258064516\"/><path d=\"M 294 379 277 323\" stroke=\"gray\" stroke-width=\"4.274193548387097\"/><path d=\"M 294 379 376 371\" stroke=\"gray\" stroke-width=\"3.6451612903225805\"/><path d=\"M 294 379 232 408\" stroke=\"gray\" stroke-width=\"1.7580645161290323\"/><path d=\"M 294 379 327 356\" stroke=\"gray\" stroke-width=\"9.935483870967742\"/><path d=\"M 294 379 253 397\" stroke=\"gray\" stroke-width=\"1.7580645161290323\"/><path d=\"M 294 379 269 360\" stroke=\"gray\" stroke-width=\"3.6451612903225805\"/><path d=\"M 294 379 294 360\" stroke=\"gray\" stroke-width=\"8.67741935483871\"/><path d=\"M 294 379 257 371\" stroke=\"gray\" stroke-width=\"3.6451612903225805\"/><path d=\"M 294 379 302 367\" stroke=\"gray\" stroke-width=\"6.161290322580645\"/><path d=\"M 294 379 273 386\" stroke=\"gray\" stroke-width=\"3.6451612903225805\"/><path d=\"M 294 379 232 367\" stroke=\"gray\" stroke-width=\"1.129032258064516\"/><path d=\"M 253 397 277 323\" stroke=\"gray\" stroke-width=\"1.129032258064516\"/><path d=\"M 253 397 327 356\" stroke=\"gray\" stroke-width=\"3.0161290322580645\"/><path d=\"M 253 397 294 379\" stroke=\"gray\" stroke-width=\"1.7580645161290323\"/><path d=\"M 253 397 269 360\" stroke=\"gray\" stroke-width=\"1.7580645161290323\"/><path d=\"M 253 397 294 360\" stroke=\"gray\" stroke-width=\"2.3870967741935485\"/><path d=\"M 253 397 257 371\" stroke=\"gray\" stroke-width=\"1.7580645161290323\"/><path d=\"M 253 397 302 367\" stroke=\"gray\" stroke-width=\"1.7580645161290323\"/><path d=\"M 253 397 273 386\" stroke=\"gray\" stroke-width=\"1.7580645161290323\"/><path d=\"M 253 397 232 367\" stroke=\"gray\" stroke-width=\"1.129032258064516\"/><path d=\"M 269 360 277 323\" stroke=\"gray\" stroke-width=\"1.7580645161290323\"/><path d=\"M 269 360 376 371\" stroke=\"gray\" stroke-width=\"1.129032258064516\"/><path d=\"M 269 360 232 408\" stroke=\"gray\" stroke-width=\"1.129032258064516\"/><path d=\"M 269 360 327 356\" stroke=\"gray\" stroke-width=\"4.274193548387097\"/><path d=\"M 269 360 294 379\" stroke=\"gray\" stroke-width=\"3.6451612903225805\"/><path d=\"M 269 360 253 397\" stroke=\"gray\" stroke-width=\"1.7580645161290323\"/><path d=\"M 269 360 294 360\" stroke=\"gray\" stroke-width=\"4.274193548387097\"/><path d=\"M 269 360 257 371\" stroke=\"gray\" stroke-width=\"2.3870967741935485\"/><path d=\"M 269 360 302 367\" stroke=\"gray\" stroke-width=\"4.274193548387097\"/><path d=\"M 269 360 273 386\" stroke=\"gray\" stroke-width=\"3.6451612903225805\"/><path d=\"M 269 360 232 367\" stroke=\"gray\" stroke-width=\"1.129032258064516\"/><path d=\"M 294 360 355 304\" stroke=\"gray\" stroke-width=\"1.129032258064516\"/><path d=\"M 294 360 277 323\" stroke=\"gray\" stroke-width=\"4.903225806451613\"/><path d=\"M 294 360 376 371\" stroke=\"gray\" stroke-width=\"6.161290322580645\"/><path d=\"M 294 360 232 408\" stroke=\"gray\" stroke-width=\"1.7580645161290323\"/><path d=\"M 294 360 327 356\" stroke=\"gray\" stroke-width=\"11.193548387096774\"/><path d=\"M 294 360 294 379\" stroke=\"gray\" stroke-width=\"8.67741935483871\"/><path d=\"M 294 360 253 397\" stroke=\"gray\" stroke-width=\"2.3870967741935485\"/><path d=\"M 294 360 269 360\" stroke=\"gray\" stroke-width=\"4.274193548387097\"/><path d=\"M 294 360 257 371\" stroke=\"gray\" stroke-width=\"4.274193548387097\"/><path d=\"M 294 360 302 367\" stroke=\"gray\" stroke-width=\"8.048387096774194\"/><path d=\"M 294 360 273 386\" stroke=\"gray\" stroke-width=\"3.6451612903225805\"/><path d=\"M 294 360 232 367\" stroke=\"gray\" stroke-width=\"1.7580645161290323\"/><path d=\"M 294 360 191 382\" stroke=\"gray\" stroke-width=\"1.129032258064516\"/><path d=\"M 257 371 277 323\" stroke=\"gray\" stroke-width=\"3.6451612903225805\"/><path d=\"M 257 371 376 371\" stroke=\"gray\" stroke-width=\"1.129032258064516\"/><path d=\"M 257 371 232 408\" stroke=\"gray\" stroke-width=\"1.7580645161290323\"/><path d=\"M 257 371 327 356\" stroke=\"gray\" stroke-width=\"3.0161290322580645\"/><path d=\"M 257 371 294 379\" stroke=\"gray\" stroke-width=\"3.6451612903225805\"/><path d=\"M 257 371 253 397\" stroke=\"gray\" stroke-width=\"1.7580645161290323\"/><path d=\"M 257 371 269 360\" stroke=\"gray\" stroke-width=\"2.3870967741935485\"/><path d=\"M 257 371 294 360\" stroke=\"gray\" stroke-width=\"4.274193548387097\"/><path d=\"M 257 371 302 367\" stroke=\"gray\" stroke-width=\"3.0161290322580645\"/><path d=\"M 257 371 273 386\" stroke=\"gray\" stroke-width=\"3.6451612903225805\"/><path d=\"M 257 371 232 367\" stroke=\"gray\" stroke-width=\"1.129032258064516\"/><path d=\"M 257 371 191 382\" stroke=\"gray\" stroke-width=\"1.129032258064516\"/><path d=\"M 302 367 466 334\" stroke=\"gray\" stroke-width=\"1.129032258064516\"/><path d=\"M 302 367 277 323\" stroke=\"gray\" stroke-width=\"3.6451612903225805\"/><path d=\"M 302 367 376 371\" stroke=\"gray\" stroke-width=\"3.6451612903225805\"/><path d=\"M 302 367 232 408\" stroke=\"gray\" stroke-width=\"1.129032258064516\"/><path d=\"M 302 367 327 356\" stroke=\"gray\" stroke-width=\"6.790322580645161\"/><path d=\"M 302 367 294 379\" stroke=\"gray\" stroke-width=\"6.161290322580645\"/><path d=\"M 302 367 253 397\" stroke=\"gray\" stroke-width=\"1.7580645161290323\"/><path d=\"M 302 367 269 360\" stroke=\"gray\" stroke-width=\"4.274193548387097\"/><path d=\"M 302 367 294 360\" stroke=\"gray\" stroke-width=\"8.048387096774194\"/><path d=\"M 302 367 257 371\" stroke=\"gray\" stroke-width=\"3.0161290322580645\"/><path d=\"M 302 367 273 386\" stroke=\"gray\" stroke-width=\"4.903225806451613\"/><path d=\"M 302 367 232 367\" stroke=\"gray\" stroke-width=\"2.3870967741935485\"/><path d=\"M 302 367 191 382\" stroke=\"gray\" stroke-width=\"1.129032258064516\"/><path d=\"M 273 386 277 323\" stroke=\"gray\" stroke-width=\"2.3870967741935485\"/><path d=\"M 273 386 376 371\" stroke=\"gray\" stroke-width=\"1.7580645161290323\"/><path d=\"M 273 386 232 408\" stroke=\"gray\" stroke-width=\"1.129032258064516\"/><path d=\"M 273 386 327 356\" stroke=\"gray\" stroke-width=\"3.6451612903225805\"/><path d=\"M 273 386 294 379\" stroke=\"gray\" stroke-width=\"3.6451612903225805\"/><path d=\"M 273 386 253 397\" stroke=\"gray\" stroke-width=\"1.7580645161290323\"/><path d=\"M 273 386 269 360\" stroke=\"gray\" stroke-width=\"3.6451612903225805\"/><path d=\"M 273 386 294 360\" stroke=\"gray\" stroke-width=\"3.6451612903225805\"/><path d=\"M 273 386 257 371\" stroke=\"gray\" stroke-width=\"3.6451612903225805\"/><path d=\"M 273 386 302 367\" stroke=\"gray\" stroke-width=\"4.903225806451613\"/><path d=\"M 273 386 232 367\" stroke=\"gray\" stroke-width=\"1.7580645161290323\"/><path d=\"M 273 386 191 382\" stroke=\"gray\" stroke-width=\"1.129032258064516\"/><path d=\"M 232 367 277 323\" stroke=\"gray\" stroke-width=\"1.129032258064516\"/><path d=\"M 232 367 327 356\" stroke=\"gray\" stroke-width=\"2.3870967741935485\"/><path d=\"M 232 367 294 379\" stroke=\"gray\" stroke-width=\"1.129032258064516\"/><path d=\"M 232 367 253 397\" stroke=\"gray\" stroke-width=\"1.129032258064516\"/><path d=\"M 232 367 269 360\" stroke=\"gray\" stroke-width=\"1.129032258064516\"/><path d=\"M 232 367 294 360\" stroke=\"gray\" stroke-width=\"1.7580645161290323\"/><path d=\"M 232 367 257 371\" stroke=\"gray\" stroke-width=\"1.129032258064516\"/><path d=\"M 232 367 302 367\" stroke=\"gray\" stroke-width=\"2.3870967741935485\"/><path d=\"M 232 367 273 386\" stroke=\"gray\" stroke-width=\"1.7580645161290323\"/><path d=\"M 232 367 191 382\" stroke=\"gray\" stroke-width=\"1.129032258064516\"/><path d=\"M 126 476 232 408\" stroke=\"gray\" stroke-width=\"2.3870967741935485\"/><path d=\"M 396 256 466 334\" stroke=\"gray\" stroke-width=\"1.129032258064516\"/><path d=\"M 396 256 405 319\" stroke=\"gray\" stroke-width=\"1.129032258064516\"/><path d=\"M 396 256 413 293\" stroke=\"gray\" stroke-width=\"3.6451612903225805\"/><path d=\"M 396 256 421 323\" stroke=\"gray\" stroke-width=\"1.129032258064516\"/><path d=\"M 396 256 355 304\" stroke=\"gray\" stroke-width=\"1.129032258064516\"/><path d=\"M 396 256 277 323\" stroke=\"gray\" stroke-width=\"1.129032258064516\"/><path d=\"M 396 256 388 274\" stroke=\"gray\" stroke-width=\"4.274193548387097\"/><path d=\"M 396 256 421 263\" stroke=\"gray\" stroke-width=\"3.0161290322580645\"/><path d=\"M 396 256 388 237\" stroke=\"gray\" stroke-width=\"1.7580645161290323\"/><path d=\"M 396 256 355 233\" stroke=\"gray\" stroke-width=\"2.3870967741935485\"/><path d=\"M 388 274 466 334\" stroke=\"gray\" stroke-width=\"1.129032258064516\"/><path d=\"M 388 274 405 319\" stroke=\"gray\" stroke-width=\"1.129032258064516\"/><path d=\"M 388 274 413 293\" stroke=\"gray\" stroke-width=\"4.274193548387097\"/><path d=\"M 388 274 421 323\" stroke=\"gray\" stroke-width=\"1.7580645161290323\"/><path d=\"M 388 274 355 304\" stroke=\"gray\" stroke-width=\"1.129032258064516\"/><path d=\"M 388 274 277 323\" stroke=\"gray\" stroke-width=\"1.129032258064516\"/><path d=\"M 388 274 396 256\" stroke=\"gray\" stroke-width=\"4.274193548387097\"/><path d=\"M 388 274 421 263\" stroke=\"gray\" stroke-width=\"3.0161290322580645\"/><path d=\"M 388 274 388 237\" stroke=\"gray\" stroke-width=\"1.7580645161290323\"/><path d=\"M 388 274 355 233\" stroke=\"gray\" stroke-width=\"2.3870967741935485\"/><path d=\"M 421 263 466 334\" stroke=\"gray\" stroke-width=\"1.129032258064516\"/><path d=\"M 421 263 405 319\" stroke=\"gray\" stroke-width=\"1.129032258064516\"/><path d=\"M 421 263 413 293\" stroke=\"gray\" stroke-width=\"3.0161290322580645\"/><path d=\"M 421 263 421 323\" stroke=\"gray\" stroke-width=\"1.129032258064516\"/><path d=\"M 421 263 355 304\" stroke=\"gray\" stroke-width=\"1.129032258064516\"/><path d=\"M 421 263 327 356\" stroke=\"gray\" stroke-width=\"1.129032258064516\"/><path d=\"M 421 263 396 256\" stroke=\"gray\" stroke-width=\"3.0161290322580645\"/><path d=\"M 421 263 388 274\" stroke=\"gray\" stroke-width=\"3.0161290322580645\"/><path d=\"M 421 263 388 237\" stroke=\"gray\" stroke-width=\"1.7580645161290323\"/><path d=\"M 421 263 355 233\" stroke=\"gray\" stroke-width=\"1.129032258064516\"/><path d=\"M 388 237 466 334\" stroke=\"gray\" stroke-width=\"1.129032258064516\"/><path d=\"M 388 237 413 293\" stroke=\"gray\" stroke-width=\"1.129032258064516\"/><path d=\"M 388 237 421 323\" stroke=\"gray\" stroke-width=\"1.129032258064516\"/><path d=\"M 388 237 355 304\" stroke=\"gray\" stroke-width=\"1.129032258064516\"/><path d=\"M 388 237 277 323\" stroke=\"gray\" stroke-width=\"1.129032258064516\"/><path d=\"M 388 237 396 256\" stroke=\"gray\" stroke-width=\"1.7580645161290323\"/><path d=\"M 388 237 388 274\" stroke=\"gray\" stroke-width=\"1.7580645161290323\"/><path d=\"M 388 237 421 263\" stroke=\"gray\" stroke-width=\"1.7580645161290323\"/><path d=\"M 388 237 355 233\" stroke=\"gray\" stroke-width=\"1.129032258064516\"/><path d=\"M 487 420 466 334\" stroke=\"gray\" stroke-width=\"1.129032258064516\"/><path d=\"M 487 420 425 364\" stroke=\"gray\" stroke-width=\"1.7580645161290323\"/><path d=\"M 487 420 421 323\" stroke=\"gray\" stroke-width=\"1.129032258064516\"/><path d=\"M 117 323 277 323\" stroke=\"gray\" stroke-width=\"1.7580645161290323\"/><path d=\"M 117 323 122 293\" stroke=\"gray\" stroke-width=\"2.3870967741935485\"/><path d=\"M 122 293 277 323\" stroke=\"gray\" stroke-width=\"1.7580645161290323\"/><path d=\"M 122 293 117 323\" stroke=\"gray\" stroke-width=\"2.3870967741935485\"/><path d=\"M 355 233 413 293\" stroke=\"gray\" stroke-width=\"2.3870967741935485\"/><path d=\"M 355 233 355 304\" stroke=\"gray\" stroke-width=\"1.129032258064516\"/><path d=\"M 355 233 277 323\" stroke=\"gray\" stroke-width=\"1.129032258064516\"/><path d=\"M 355 233 396 256\" stroke=\"gray\" stroke-width=\"2.3870967741935485\"/><path d=\"M 355 233 388 274\" stroke=\"gray\" stroke-width=\"2.3870967741935485\"/><path d=\"M 355 233 421 263\" stroke=\"gray\" stroke-width=\"1.129032258064516\"/><path d=\"M 355 233 388 237\" stroke=\"gray\" stroke-width=\"1.129032258064516\"/><path d=\"M 191 382 277 323\" stroke=\"gray\" stroke-width=\"1.129032258064516\"/><path d=\"M 191 382 327 356\" stroke=\"gray\" stroke-width=\"1.129032258064516\"/><path d=\"M 191 382 294 360\" stroke=\"gray\" stroke-width=\"1.129032258064516\"/><path d=\"M 191 382 257 371\" stroke=\"gray\" stroke-width=\"1.129032258064516\"/><path d=\"M 191 382 302 367\" stroke=\"gray\" stroke-width=\"1.129032258064516\"/><path d=\"M 191 382 273 386\" stroke=\"gray\" stroke-width=\"1.129032258064516\"/><path d=\"M 191 382 232 367\" stroke=\"gray\" stroke-width=\"1.129032258064516\"/><circle cx=\"647\" cy=\"431\" r=\"7.0\" style=\"fill:gray;stroke:black;stroke-width:1.0\"/><circle cx=\"831\" cy=\"502\" r=\"7.0\" style=\"fill:gray;stroke:black;stroke-width:1.0\"/><circle cx=\"597\" cy=\"397\" r=\"7.0\" style=\"fill:gray;stroke:black;stroke-width:1.0\"/><circle cx=\"593\" cy=\"412\" r=\"7.0\" style=\"fill:gray;stroke:black;stroke-width:1.0\"/><circle cx=\"840\" cy=\"461\" r=\"7.0\" style=\"fill:gray;stroke:black;stroke-width:1.0\"/><circle cx=\"807\" cy=\"539\" r=\"7.0\" style=\"fill:gray;stroke:black;stroke-width:1.0\"/><circle cx=\"774\" cy=\"569\" r=\"7.0\" style=\"fill:gray;stroke:black;stroke-width:1.0\"/><circle cx=\"733\" cy=\"587\" r=\"7.0\" style=\"fill:gray;stroke:black;stroke-width:1.0\"/><circle cx=\"749\" cy=\"487\" r=\"7.0\" style=\"fill:gray;stroke:black;stroke-width:1.0\"/><circle cx=\"840\" cy=\"416\" r=\"7.0\" style=\"fill:gray;stroke:black;stroke-width:1.0\"/><circle cx=\"638\" cy=\"200\" r=\"7.0\" style=\"fill:gray;stroke:black;stroke-width:1.0\"/><circle cx=\"466\" cy=\"334\" r=\"7.0\" style=\"fill:gray;stroke:black;stroke-width:1.0\"/><circle cx=\"429\" cy=\"181\" r=\"7.0\" style=\"fill:gray;stroke:black;stroke-width:1.0\"/><circle cx=\"548\" cy=\"509\" r=\"7.0\" style=\"fill:gray;stroke:black;stroke-width:1.0\"/><circle cx=\"581\" cy=\"155\" r=\"7.0\" style=\"fill:gray;stroke:black;stroke-width:1.0\"/><circle cx=\"597\" cy=\"479\" r=\"7.0\" style=\"fill:gray;stroke:black;stroke-width:1.0\"/><circle cx=\"286\" cy=\"244\" r=\"7.0\" style=\"fill:gray;stroke:black;stroke-width:1.0\"/><circle cx=\"241\" cy=\"207\" r=\"7.0\" style=\"fill:gray;stroke:black;stroke-width:1.0\"/><circle cx=\"257\" cy=\"196\" r=\"7.0\" style=\"fill:gray;stroke:black;stroke-width:1.0\"/><circle cx=\"241\" cy=\"226\" r=\"7.0\" style=\"fill:gray;stroke:black;stroke-width:1.0\"/><circle cx=\"261\" cy=\"226\" r=\"7.0\" style=\"fill:gray;stroke:black;stroke-width:1.0\"/><circle cx=\"277\" cy=\"211\" r=\"7.0\" style=\"fill:gray;stroke:black;stroke-width:1.0\"/><circle cx=\"282\" cy=\"196\" r=\"7.0\" style=\"fill:gray;stroke:black;stroke-width:1.0\"/><circle cx=\"347\" cy=\"271\" r=\"7.0\" style=\"fill:gray;stroke:black;stroke-width:1.0\"/><circle cx=\"405\" cy=\"319\" r=\"7.0\" style=\"fill:gray;stroke:black;stroke-width:1.0\"/><circle cx=\"413\" cy=\"293\" r=\"7.0\" style=\"fill:gray;stroke:black;stroke-width:1.0\"/><circle cx=\"425\" cy=\"364\" r=\"7.0\" style=\"fill:gray;stroke:black;stroke-width:1.0\"/><circle cx=\"421\" cy=\"323\" r=\"7.0\" style=\"fill:gray;stroke:black;stroke-width:1.0\"/><circle cx=\"565\" cy=\"323\" r=\"7.0\" style=\"fill:gray;stroke:black;stroke-width:1.0\"/><circle cx=\"499\" cy=\"256\" r=\"7.0\" style=\"fill:gray;stroke:black;stroke-width:1.0\"/><circle cx=\"310\" cy=\"442\" r=\"7.0\" style=\"fill:gray;stroke:black;stroke-width:1.0\"/><circle cx=\"388\" cy=\"382\" r=\"7.0\" style=\"fill:gray;stroke:black;stroke-width:1.0\"/><circle cx=\"667\" cy=\"256\" r=\"7.0\" style=\"fill:gray;stroke:black;stroke-width:1.0\"/><circle cx=\"548\" cy=\"360\" r=\"7.0\" style=\"fill:gray;stroke:black;stroke-width:1.0\"/><circle cx=\"548\" cy=\"282\" r=\"7.0\" style=\"fill:gray;stroke:black;stroke-width:1.0\"/><circle cx=\"536\" cy=\"259\" r=\"7.0\" style=\"fill:gray;stroke:black;stroke-width:1.0\"/><circle cx=\"548\" cy=\"230\" r=\"7.0\" style=\"fill:gray;stroke:black;stroke-width:1.0\"/><circle cx=\"581\" cy=\"267\" r=\"7.0\" style=\"fill:gray;stroke:black;stroke-width:1.0\"/><circle cx=\"573\" cy=\"244\" r=\"7.0\" style=\"fill:gray;stroke:black;stroke-width:1.0\"/><circle cx=\"446\" cy=\"479\" r=\"7.0\" style=\"fill:gray;stroke:black;stroke-width:1.0\"/><circle cx=\"425\" cy=\"88\" r=\"7.0\" style=\"fill:gray;stroke:black;stroke-width:1.0\"/><circle cx=\"355\" cy=\"304\" r=\"7.0\" style=\"fill:gray;stroke:black;stroke-width:1.0\"/><circle cx=\"392\" cy=\"203\" r=\"7.0\" style=\"fill:gray;stroke:black;stroke-width:1.0\"/><circle cx=\"511\" cy=\"379\" r=\"7.0\" style=\"fill:gray;stroke:black;stroke-width:1.0\"/><circle cx=\"638\" cy=\"326\" r=\"7.0\" style=\"fill:gray;stroke:black;stroke-width:1.0\"/><circle cx=\"716\" cy=\"300\" r=\"7.0\" style=\"fill:gray;stroke:black;stroke-width:1.0\"/><circle cx=\"40\" cy=\"40\" r=\"7.0\" style=\"fill:gray;stroke:black;stroke-width:1.0\"/><circle cx=\"142\" cy=\"181\" r=\"7.0\" style=\"fill:gray;stroke:black;stroke-width:1.0\"/><circle cx=\"277\" cy=\"323\" r=\"7.0\" style=\"fill:gray;stroke:black;stroke-width:1.0\"/><circle cx=\"396\" cy=\"420\" r=\"7.0\" style=\"fill:gray;stroke:black;stroke-width:1.0\"/><circle cx=\"355\" cy=\"494\" r=\"7.0\" style=\"fill:gray;stroke:black;stroke-width:1.0\"/><circle cx=\"409\" cy=\"449\" r=\"7.0\" style=\"fill:gray;stroke:black;stroke-width:1.0\"/><circle cx=\"446\" cy=\"599\" r=\"7.0\" style=\"fill:gray;stroke:black;stroke-width:1.0\"/><circle cx=\"380\" cy=\"640\" r=\"7.0\" style=\"fill:gray;stroke:black;stroke-width:1.0\"/><circle cx=\"405\" cy=\"494\" r=\"7.0\" style=\"fill:gray;stroke:black;stroke-width:1.0\"/><circle cx=\"376\" cy=\"371\" r=\"7.0\" style=\"fill:gray;stroke:black;stroke-width:1.0\"/><circle cx=\"331\" cy=\"535\" r=\"7.0\" style=\"fill:gray;stroke:black;stroke-width:1.0\"/><circle cx=\"232\" cy=\"408\" r=\"7.0\" style=\"fill:gray;stroke:black;stroke-width:1.0\"/><circle cx=\"327\" cy=\"356\" r=\"7.0\" style=\"fill:gray;stroke:black;stroke-width:1.0\"/><circle cx=\"294\" cy=\"379\" r=\"7.0\" style=\"fill:gray;stroke:black;stroke-width:1.0\"/><circle cx=\"253\" cy=\"397\" r=\"7.0\" style=\"fill:gray;stroke:black;stroke-width:1.0\"/><circle cx=\"269\" cy=\"360\" r=\"7.0\" style=\"fill:gray;stroke:black;stroke-width:1.0\"/><circle cx=\"294\" cy=\"360\" r=\"7.0\" style=\"fill:gray;stroke:black;stroke-width:1.0\"/><circle cx=\"257\" cy=\"371\" r=\"7.0\" style=\"fill:gray;stroke:black;stroke-width:1.0\"/><circle cx=\"302\" cy=\"367\" r=\"7.0\" style=\"fill:gray;stroke:black;stroke-width:1.0\"/><circle cx=\"273\" cy=\"386\" r=\"7.0\" style=\"fill:gray;stroke:black;stroke-width:1.0\"/><circle cx=\"232\" cy=\"367\" r=\"7.0\" style=\"fill:gray;stroke:black;stroke-width:1.0\"/><circle cx=\"126\" cy=\"476\" r=\"7.0\" style=\"fill:gray;stroke:black;stroke-width:1.0\"/><circle cx=\"396\" cy=\"256\" r=\"7.0\" style=\"fill:gray;stroke:black;stroke-width:1.0\"/><circle cx=\"388\" cy=\"274\" r=\"7.0\" style=\"fill:gray;stroke:black;stroke-width:1.0\"/><circle cx=\"421\" cy=\"263\" r=\"7.0\" style=\"fill:gray;stroke:black;stroke-width:1.0\"/><circle cx=\"388\" cy=\"237\" r=\"7.0\" style=\"fill:gray;stroke:black;stroke-width:1.0\"/><circle cx=\"487\" cy=\"420\" r=\"7.0\" style=\"fill:gray;stroke:black;stroke-width:1.0\"/><circle cx=\"117\" cy=\"323\" r=\"7.0\" style=\"fill:gray;stroke:black;stroke-width:1.0\"/><circle cx=\"122\" cy=\"293\" r=\"7.0\" style=\"fill:gray;stroke:black;stroke-width:1.0\"/><circle cx=\"355\" cy=\"233\" r=\"7.0\" style=\"fill:gray;stroke:black;stroke-width:1.0\"/><circle cx=\"191\" cy=\"382\" r=\"7.0\" style=\"fill:gray;stroke:black;stroke-width:1.0\"/><text font-size=\"12\" x=\"657\" y=\"438\">Myriel</text><text font-size=\"12\" x=\"841\" y=\"509\">Napoleon</text><text font-size=\"12\" x=\"607\" y=\"404\">Mlle Baptistine</text><text font-size=\"12\" x=\"603\" y=\"419\">Mme Magloire</text><text font-size=\"12\" x=\"850\" y=\"468\">Countess de Lo</text><text font-size=\"12\" x=\"817\" y=\"546\">Geborand</text><text font-size=\"12\" x=\"784\" y=\"576\">Champtercier</text><text font-size=\"12\" x=\"743\" y=\"594\">Cravatte</text><text font-size=\"12\" x=\"759\" y=\"494\">Count</text><text font-size=\"12\" x=\"850\" y=\"423\">Old man</text><text font-size=\"12\" x=\"648\" y=\"207\">Labarre</text><text font-size=\"12\" x=\"476\" y=\"341\">Valjean</text><text font-size=\"12\" x=\"439\" y=\"188\">Marguerite</text><text font-size=\"12\" x=\"558\" y=\"516\">Mme Der</text><text font-size=\"12\" x=\"591\" y=\"162\">Isabeau</text><text font-size=\"12\" x=\"607\" y=\"486\">Gervais</text><text font-size=\"12\" x=\"296\" y=\"251\">Tholomyes</text><text font-size=\"12\" x=\"251\" y=\"214\">Listolier</text><text font-size=\"12\" x=\"267\" y=\"203\">Fameuil</text><text font-size=\"12\" x=\"251\" y=\"233\">Blacheville</text><text font-size=\"12\" x=\"271\" y=\"233\">Favourite</text><text font-size=\"12\" x=\"287\" y=\"218\">Dahlia</text><text font-size=\"12\" x=\"292\" y=\"203\">Zephine</text><text font-size=\"12\" x=\"357\" y=\"278\">Fantine</text><text font-size=\"12\" x=\"415\" y=\"326\">Mme Thenardier</text><text font-size=\"12\" x=\"423\" y=\"300\">Thenardier</text><text font-size=\"12\" x=\"435\" y=\"371\">Cosette</text><text font-size=\"12\" x=\"431\" y=\"330\">Javert</text><text font-size=\"12\" x=\"575\" y=\"330\">Fauchelevent</text><text font-size=\"12\" x=\"509\" y=\"263\">Bamatabois</text><text font-size=\"12\" x=\"320\" y=\"449\">Perpetue</text><text font-size=\"12\" x=\"398\" y=\"389\">Simplice</text><text font-size=\"12\" x=\"677\" y=\"263\">Scaufflaire</text><text font-size=\"12\" x=\"558\" y=\"367\">Woman1</text><text font-size=\"12\" x=\"558\" y=\"289\">Judge</text><text font-size=\"12\" x=\"546\" y=\"266\">Champmathieu</text><text font-size=\"12\" x=\"558\" y=\"237\">Brevet</text><text font-size=\"12\" x=\"591\" y=\"274\">Chenildieu</text><text font-size=\"12\" x=\"583\" y=\"251\">Cochepaille</text><text font-size=\"12\" x=\"456\" y=\"486\">Pontmercy</text><text font-size=\"12\" x=\"435\" y=\"95\">Boulatruelle</text><text font-size=\"12\" x=\"365\" y=\"311\">Eponine</text><text font-size=\"12\" x=\"402\" y=\"210\">Anzelma</text><text font-size=\"12\" x=\"521\" y=\"386\">Woman2</text><text font-size=\"12\" x=\"648\" y=\"333\">Mother Innocent</text><text font-size=\"12\" x=\"726\" y=\"307\">Gribier</text><text font-size=\"12\" x=\"50\" y=\"47\">Jondrette</text><text font-size=\"12\" x=\"152\" y=\"188\">Mme Burgon</text><text font-size=\"12\" x=\"287\" y=\"330\">Gavroche</text><text font-size=\"12\" x=\"406\" y=\"427\">Gillenormand</text><text font-size=\"12\" x=\"365\" y=\"501\">Magnon</text><text font-size=\"12\" x=\"419\" y=\"456\">Mlle Gillenormand</text><text font-size=\"12\" x=\"456\" y=\"606\">Mme Pontmercy</text><text font-size=\"12\" x=\"390\" y=\"647\">Mlle Vaubois</text><text font-size=\"12\" x=\"415\" y=\"501\">Lt Gillenormand</text><text font-size=\"12\" x=\"386\" y=\"378\">Marius</text><text font-size=\"12\" x=\"341\" y=\"542\">Baroness</text><text font-size=\"12\" x=\"242\" y=\"415\">Mabeuf</text><text font-size=\"12\" x=\"337\" y=\"363\">Enjolras</text><text font-size=\"12\" x=\"304\" y=\"386\">Combeferre</text><text font-size=\"12\" x=\"263\" y=\"404\">Prouvaire</text><text font-size=\"12\" x=\"279\" y=\"367\">Feuilly</text><text font-size=\"12\" x=\"304\" y=\"367\">Courfeyrac</text><text font-size=\"12\" x=\"267\" y=\"378\">Bahorel</text><text font-size=\"12\" x=\"312\" y=\"374\">Bossuet</text><text font-size=\"12\" x=\"283\" y=\"393\">Joly</text><text font-size=\"12\" x=\"242\" y=\"374\">Grantaire</text><text font-size=\"12\" x=\"136\" y=\"483\">MotherPlutarch</text><text font-size=\"12\" x=\"406\" y=\"263\">Gueulemer</text><text font-size=\"12\" x=\"398\" y=\"281\">Babet</text><text font-size=\"12\" x=\"431\" y=\"270\">Claquesous</text><text font-size=\"12\" x=\"398\" y=\"244\">Montparnasse</text><text font-size=\"12\" x=\"497\" y=\"427\">Toussaint</text><text font-size=\"12\" x=\"127\" y=\"330\">Child1</text><text font-size=\"12\" x=\"132\" y=\"300\">Child2</text><text font-size=\"12\" x=\"365\" y=\"240\">Brujon</text><text font-size=\"12\" x=\"201\" y=\"389\">Mme Hucheloup</text></svg>"
      ],
      "text/plain": [
       "<IPython.core.display.SVG object>"
      ]
     },
     "execution_count": 17,
     "metadata": {},
     "output_type": "execute_result"
    }
   ],
   "source": [
    "SVG(image)"
   ]
  },
  {
   "cell_type": "markdown",
   "metadata": {},
   "source": [
    "## To do\n",
    "\n",
    "* Display the graph with PageRank scores.\n",
    "* List the 10 best ranked characters.\n",
    "* Compare with the 10 nodes of highest degrees and the 10 nodes of highest weights.\n",
    "* Try different values of $\\alpha$ (e.g., 0.1, 0.9, 0.99) and interpret the results."
   ]
  },
  {
   "cell_type": "code",
   "execution_count": 18,
   "metadata": {},
   "outputs": [],
   "source": [
    "pagerank = PageRank(damping_factor=0.85, solver='lanczos')"
   ]
  },
  {
   "cell_type": "code",
   "execution_count": 19,
   "metadata": {},
   "outputs": [],
   "source": [
    "scores = pagerank.fit_transform(adjacency)"
   ]
  },
  {
   "cell_type": "code",
   "execution_count": 20,
   "metadata": {},
   "outputs": [],
   "source": [
    "# scores in log scale are more visible\n",
    "image = svg_graph(adjacency, position, names, scores=np.log(scores), scale=2)"
   ]
  },
  {
   "cell_type": "code",
   "execution_count": 21,
   "metadata": {
    "scrolled": true
   },
   "outputs": [
    {
     "data": {
      "image/svg+xml": [
       "<svg height=\"680\" width=\"1084.0\" xmlns=\"http://www.w3.org/2000/svg\"><path d=\"M 647 431 831 502\" stroke=\"gray\" stroke-width=\"1.129032258064516\"/><path d=\"M 647 431 597 397\" stroke=\"gray\" stroke-width=\"5.532258064516129\"/><path d=\"M 647 431 593 412\" stroke=\"gray\" stroke-width=\"6.790322580645161\"/><path d=\"M 647 431 840 461\" stroke=\"gray\" stroke-width=\"1.129032258064516\"/><path d=\"M 647 431 807 539\" stroke=\"gray\" stroke-width=\"1.129032258064516\"/><path d=\"M 647 431 774 569\" stroke=\"gray\" stroke-width=\"1.129032258064516\"/><path d=\"M 647 431 733 587\" stroke=\"gray\" stroke-width=\"1.129032258064516\"/><path d=\"M 647 431 749 487\" stroke=\"gray\" stroke-width=\"1.7580645161290323\"/><path d=\"M 647 431 840 416\" stroke=\"gray\" stroke-width=\"1.129032258064516\"/><path d=\"M 647 431 466 334\" stroke=\"gray\" stroke-width=\"3.6451612903225805\"/><path d=\"M 831 502 647 431\" stroke=\"gray\" stroke-width=\"1.129032258064516\"/><path d=\"M 597 397 647 431\" stroke=\"gray\" stroke-width=\"5.532258064516129\"/><path d=\"M 597 397 593 412\" stroke=\"gray\" stroke-width=\"4.274193548387097\"/><path d=\"M 597 397 466 334\" stroke=\"gray\" stroke-width=\"2.3870967741935485\"/><path d=\"M 593 412 647 431\" stroke=\"gray\" stroke-width=\"6.790322580645161\"/><path d=\"M 593 412 597 397\" stroke=\"gray\" stroke-width=\"4.274193548387097\"/><path d=\"M 593 412 466 334\" stroke=\"gray\" stroke-width=\"2.3870967741935485\"/><path d=\"M 840 461 647 431\" stroke=\"gray\" stroke-width=\"1.129032258064516\"/><path d=\"M 807 539 647 431\" stroke=\"gray\" stroke-width=\"1.129032258064516\"/><path d=\"M 774 569 647 431\" stroke=\"gray\" stroke-width=\"1.129032258064516\"/><path d=\"M 733 587 647 431\" stroke=\"gray\" stroke-width=\"1.129032258064516\"/><path d=\"M 749 487 647 431\" stroke=\"gray\" stroke-width=\"1.7580645161290323\"/><path d=\"M 840 416 647 431\" stroke=\"gray\" stroke-width=\"1.129032258064516\"/><path d=\"M 638 200 466 334\" stroke=\"gray\" stroke-width=\"1.129032258064516\"/><path d=\"M 466 334 647 431\" stroke=\"gray\" stroke-width=\"3.6451612903225805\"/><path d=\"M 466 334 597 397\" stroke=\"gray\" stroke-width=\"2.3870967741935485\"/><path d=\"M 466 334 593 412\" stroke=\"gray\" stroke-width=\"2.3870967741935485\"/><path d=\"M 466 334 638 200\" stroke=\"gray\" stroke-width=\"1.129032258064516\"/><path d=\"M 466 334 429 181\" stroke=\"gray\" stroke-width=\"1.129032258064516\"/><path d=\"M 466 334 548 509\" stroke=\"gray\" stroke-width=\"1.129032258064516\"/><path d=\"M 466 334 581 155\" stroke=\"gray\" stroke-width=\"1.129032258064516\"/><path d=\"M 466 334 597 479\" stroke=\"gray\" stroke-width=\"1.129032258064516\"/><path d=\"M 466 334 347 271\" stroke=\"gray\" stroke-width=\"6.161290322580645\"/><path d=\"M 466 334 405 319\" stroke=\"gray\" stroke-width=\"4.903225806451613\"/><path d=\"M 466 334 413 293\" stroke=\"gray\" stroke-width=\"8.048387096774194\"/><path d=\"M 466 334 425 364\" stroke=\"gray\" stroke-width=\"20.0\"/><path d=\"M 466 334 421 323\" stroke=\"gray\" stroke-width=\"11.193548387096774\"/><path d=\"M 466 334 565 323\" stroke=\"gray\" stroke-width=\"5.532258064516129\"/><path d=\"M 466 334 499 256\" stroke=\"gray\" stroke-width=\"1.7580645161290323\"/><path d=\"M 466 334 388 382\" stroke=\"gray\" stroke-width=\"2.3870967741935485\"/><path d=\"M 466 334 667 256\" stroke=\"gray\" stroke-width=\"1.129032258064516\"/><path d=\"M 466 334 548 360\" stroke=\"gray\" stroke-width=\"1.7580645161290323\"/><path d=\"M 466 334 548 282\" stroke=\"gray\" stroke-width=\"2.3870967741935485\"/><path d=\"M 466 334 536 259\" stroke=\"gray\" stroke-width=\"2.3870967741935485\"/><path d=\"M 466 334 548 230\" stroke=\"gray\" stroke-width=\"1.7580645161290323\"/><path d=\"M 466 334 581 267\" stroke=\"gray\" stroke-width=\"1.7580645161290323\"/><path d=\"M 466 334 573 244\" stroke=\"gray\" stroke-width=\"1.7580645161290323\"/><path d=\"M 466 334 511 379\" stroke=\"gray\" stroke-width=\"2.3870967741935485\"/><path d=\"M 466 334 638 326\" stroke=\"gray\" stroke-width=\"1.129032258064516\"/><path d=\"M 466 334 277 323\" stroke=\"gray\" stroke-width=\"1.129032258064516\"/><path d=\"M 466 334 396 420\" stroke=\"gray\" stroke-width=\"1.7580645161290323\"/><path d=\"M 466 334 409 449\" stroke=\"gray\" stroke-width=\"1.7580645161290323\"/><path d=\"M 466 334 376 371\" stroke=\"gray\" stroke-width=\"12.451612903225806\"/><path d=\"M 466 334 327 356\" stroke=\"gray\" stroke-width=\"3.0161290322580645\"/><path d=\"M 466 334 302 367\" stroke=\"gray\" stroke-width=\"1.129032258064516\"/><path d=\"M 466 334 396 256\" stroke=\"gray\" stroke-width=\"1.129032258064516\"/><path d=\"M 466 334 388 274\" stroke=\"gray\" stroke-width=\"1.129032258064516\"/><path d=\"M 466 334 421 263\" stroke=\"gray\" stroke-width=\"1.129032258064516\"/><path d=\"M 466 334 388 237\" stroke=\"gray\" stroke-width=\"1.129032258064516\"/><path d=\"M 466 334 487 420\" stroke=\"gray\" stroke-width=\"1.129032258064516\"/><path d=\"M 429 181 466 334\" stroke=\"gray\" stroke-width=\"1.129032258064516\"/><path d=\"M 429 181 347 271\" stroke=\"gray\" stroke-width=\"1.7580645161290323\"/><path d=\"M 548 509 466 334\" stroke=\"gray\" stroke-width=\"1.129032258064516\"/><path d=\"M 581 155 466 334\" stroke=\"gray\" stroke-width=\"1.129032258064516\"/><path d=\"M 597 479 466 334\" stroke=\"gray\" stroke-width=\"1.129032258064516\"/><path d=\"M 286 244 241 207\" stroke=\"gray\" stroke-width=\"3.0161290322580645\"/><path d=\"M 286 244 257 196\" stroke=\"gray\" stroke-width=\"3.0161290322580645\"/><path d=\"M 286 244 241 226\" stroke=\"gray\" stroke-width=\"3.0161290322580645\"/><path d=\"M 286 244 261 226\" stroke=\"gray\" stroke-width=\"2.3870967741935485\"/><path d=\"M 286 244 277 211\" stroke=\"gray\" stroke-width=\"2.3870967741935485\"/><path d=\"M 286 244 282 196\" stroke=\"gray\" stroke-width=\"2.3870967741935485\"/><path d=\"M 286 244 347 271\" stroke=\"gray\" stroke-width=\"2.3870967741935485\"/><path d=\"M 286 244 425 364\" stroke=\"gray\" stroke-width=\"1.129032258064516\"/><path d=\"M 286 244 376 371\" stroke=\"gray\" stroke-width=\"1.129032258064516\"/><path d=\"M 241 207 286 244\" stroke=\"gray\" stroke-width=\"3.0161290322580645\"/><path d=\"M 241 207 257 196\" stroke=\"gray\" stroke-width=\"3.0161290322580645\"/><path d=\"M 241 207 241 226\" stroke=\"gray\" stroke-width=\"3.0161290322580645\"/><path d=\"M 241 207 261 226\" stroke=\"gray\" stroke-width=\"2.3870967741935485\"/><path d=\"M 241 207 277 211\" stroke=\"gray\" stroke-width=\"2.3870967741935485\"/><path d=\"M 241 207 282 196\" stroke=\"gray\" stroke-width=\"2.3870967741935485\"/><path d=\"M 241 207 347 271\" stroke=\"gray\" stroke-width=\"2.3870967741935485\"/><path d=\"M 257 196 286 244\" stroke=\"gray\" stroke-width=\"3.0161290322580645\"/><path d=\"M 257 196 241 207\" stroke=\"gray\" stroke-width=\"3.0161290322580645\"/><path d=\"M 257 196 241 226\" stroke=\"gray\" stroke-width=\"3.0161290322580645\"/><path d=\"M 257 196 261 226\" stroke=\"gray\" stroke-width=\"2.3870967741935485\"/><path d=\"M 257 196 277 211\" stroke=\"gray\" stroke-width=\"2.3870967741935485\"/><path d=\"M 257 196 282 196\" stroke=\"gray\" stroke-width=\"2.3870967741935485\"/><path d=\"M 257 196 347 271\" stroke=\"gray\" stroke-width=\"2.3870967741935485\"/><path d=\"M 241 226 286 244\" stroke=\"gray\" stroke-width=\"3.0161290322580645\"/><path d=\"M 241 226 241 207\" stroke=\"gray\" stroke-width=\"3.0161290322580645\"/><path d=\"M 241 226 257 196\" stroke=\"gray\" stroke-width=\"3.0161290322580645\"/><path d=\"M 241 226 261 226\" stroke=\"gray\" stroke-width=\"3.0161290322580645\"/><path d=\"M 241 226 277 211\" stroke=\"gray\" stroke-width=\"2.3870967741935485\"/><path d=\"M 241 226 282 196\" stroke=\"gray\" stroke-width=\"2.3870967741935485\"/><path d=\"M 241 226 347 271\" stroke=\"gray\" stroke-width=\"2.3870967741935485\"/><path d=\"M 261 226 286 244\" stroke=\"gray\" stroke-width=\"2.3870967741935485\"/><path d=\"M 261 226 241 207\" stroke=\"gray\" stroke-width=\"2.3870967741935485\"/><path d=\"M 261 226 257 196\" stroke=\"gray\" stroke-width=\"2.3870967741935485\"/><path d=\"M 261 226 241 226\" stroke=\"gray\" stroke-width=\"3.0161290322580645\"/><path d=\"M 261 226 277 211\" stroke=\"gray\" stroke-width=\"3.6451612903225805\"/><path d=\"M 261 226 282 196\" stroke=\"gray\" stroke-width=\"3.0161290322580645\"/><path d=\"M 261 226 347 271\" stroke=\"gray\" stroke-width=\"3.0161290322580645\"/><path d=\"M 277 211 286 244\" stroke=\"gray\" stroke-width=\"2.3870967741935485\"/><path d=\"M 277 211 241 207\" stroke=\"gray\" stroke-width=\"2.3870967741935485\"/><path d=\"M 277 211 257 196\" stroke=\"gray\" stroke-width=\"2.3870967741935485\"/><path d=\"M 277 211 241 226\" stroke=\"gray\" stroke-width=\"2.3870967741935485\"/><path d=\"M 277 211 261 226\" stroke=\"gray\" stroke-width=\"3.6451612903225805\"/><path d=\"M 277 211 282 196\" stroke=\"gray\" stroke-width=\"3.0161290322580645\"/><path d=\"M 277 211 347 271\" stroke=\"gray\" stroke-width=\"3.0161290322580645\"/><path d=\"M 282 196 286 244\" stroke=\"gray\" stroke-width=\"2.3870967741935485\"/><path d=\"M 282 196 241 207\" stroke=\"gray\" stroke-width=\"2.3870967741935485\"/><path d=\"M 282 196 257 196\" stroke=\"gray\" stroke-width=\"2.3870967741935485\"/><path d=\"M 282 196 241 226\" stroke=\"gray\" stroke-width=\"2.3870967741935485\"/><path d=\"M 282 196 261 226\" stroke=\"gray\" stroke-width=\"3.0161290322580645\"/><path d=\"M 282 196 277 211\" stroke=\"gray\" stroke-width=\"3.0161290322580645\"/><path d=\"M 282 196 347 271\" stroke=\"gray\" stroke-width=\"3.0161290322580645\"/><path d=\"M 347 271 466 334\" stroke=\"gray\" stroke-width=\"6.161290322580645\"/><path d=\"M 347 271 429 181\" stroke=\"gray\" stroke-width=\"1.7580645161290323\"/><path d=\"M 347 271 286 244\" stroke=\"gray\" stroke-width=\"2.3870967741935485\"/><path d=\"M 347 271 241 207\" stroke=\"gray\" stroke-width=\"2.3870967741935485\"/><path d=\"M 347 271 257 196\" stroke=\"gray\" stroke-width=\"2.3870967741935485\"/><path d=\"M 347 271 241 226\" stroke=\"gray\" stroke-width=\"2.3870967741935485\"/><path d=\"M 347 271 261 226\" stroke=\"gray\" stroke-width=\"3.0161290322580645\"/><path d=\"M 347 271 277 211\" stroke=\"gray\" stroke-width=\"3.0161290322580645\"/><path d=\"M 347 271 282 196\" stroke=\"gray\" stroke-width=\"3.0161290322580645\"/><path d=\"M 347 271 405 319\" stroke=\"gray\" stroke-width=\"1.7580645161290323\"/><path d=\"M 347 271 413 293\" stroke=\"gray\" stroke-width=\"1.129032258064516\"/><path d=\"M 347 271 421 323\" stroke=\"gray\" stroke-width=\"3.6451612903225805\"/><path d=\"M 347 271 499 256\" stroke=\"gray\" stroke-width=\"1.129032258064516\"/><path d=\"M 347 271 310 442\" stroke=\"gray\" stroke-width=\"1.129032258064516\"/><path d=\"M 347 271 388 382\" stroke=\"gray\" stroke-width=\"1.7580645161290323\"/><path d=\"M 405 319 466 334\" stroke=\"gray\" stroke-width=\"4.903225806451613\"/><path d=\"M 405 319 347 271\" stroke=\"gray\" stroke-width=\"1.7580645161290323\"/><path d=\"M 405 319 413 293\" stroke=\"gray\" stroke-width=\"8.67741935483871\"/><path d=\"M 405 319 425 364\" stroke=\"gray\" stroke-width=\"3.0161290322580645\"/><path d=\"M 405 319 421 323\" stroke=\"gray\" stroke-width=\"1.129032258064516\"/><path d=\"M 405 319 355 304\" stroke=\"gray\" stroke-width=\"1.7580645161290323\"/><path d=\"M 405 319 392 203\" stroke=\"gray\" stroke-width=\"1.129032258064516\"/><path d=\"M 405 319 355 494\" stroke=\"gray\" stroke-width=\"1.129032258064516\"/><path d=\"M 405 319 396 256\" stroke=\"gray\" stroke-width=\"1.129032258064516\"/><path d=\"M 405 319 388 274\" stroke=\"gray\" stroke-width=\"1.129032258064516\"/><path d=\"M 405 319 421 263\" stroke=\"gray\" stroke-width=\"1.129032258064516\"/><path d=\"M 413 293 466 334\" stroke=\"gray\" stroke-width=\"8.048387096774194\"/><path d=\"M 413 293 347 271\" stroke=\"gray\" stroke-width=\"1.129032258064516\"/><path d=\"M 413 293 405 319\" stroke=\"gray\" stroke-width=\"8.67741935483871\"/><path d=\"M 413 293 425 364\" stroke=\"gray\" stroke-width=\"1.129032258064516\"/><path d=\"M 413 293 421 323\" stroke=\"gray\" stroke-width=\"3.6451612903225805\"/><path d=\"M 413 293 446 479\" stroke=\"gray\" stroke-width=\"1.129032258064516\"/><path d=\"M 413 293 425 88\" stroke=\"gray\" stroke-width=\"1.129032258064516\"/><path d=\"M 413 293 355 304\" stroke=\"gray\" stroke-width=\"2.3870967741935485\"/><path d=\"M 413 293 392 203\" stroke=\"gray\" stroke-width=\"1.7580645161290323\"/><path d=\"M 413 293 277 323\" stroke=\"gray\" stroke-width=\"1.129032258064516\"/><path d=\"M 413 293 376 371\" stroke=\"gray\" stroke-width=\"1.7580645161290323\"/><path d=\"M 413 293 396 256\" stroke=\"gray\" stroke-width=\"3.6451612903225805\"/><path d=\"M 413 293 388 274\" stroke=\"gray\" stroke-width=\"4.274193548387097\"/><path d=\"M 413 293 421 263\" stroke=\"gray\" stroke-width=\"3.0161290322580645\"/><path d=\"M 413 293 388 237\" stroke=\"gray\" stroke-width=\"1.129032258064516\"/><path d=\"M 413 293 355 233\" stroke=\"gray\" stroke-width=\"2.3870967741935485\"/><path d=\"M 425 364 466 334\" stroke=\"gray\" stroke-width=\"20.0\"/><path d=\"M 425 364 286 244\" stroke=\"gray\" stroke-width=\"1.129032258064516\"/><path d=\"M 425 364 405 319\" stroke=\"gray\" stroke-width=\"3.0161290322580645\"/><path d=\"M 425 364 413 293\" stroke=\"gray\" stroke-width=\"1.129032258064516\"/><path d=\"M 425 364 421 323\" stroke=\"gray\" stroke-width=\"1.129032258064516\"/><path d=\"M 425 364 511 379\" stroke=\"gray\" stroke-width=\"1.129032258064516\"/><path d=\"M 425 364 396 420\" stroke=\"gray\" stroke-width=\"2.3870967741935485\"/><path d=\"M 425 364 409 449\" stroke=\"gray\" stroke-width=\"1.7580645161290323\"/><path d=\"M 425 364 405 494\" stroke=\"gray\" stroke-width=\"1.129032258064516\"/><path d=\"M 425 364 376 371\" stroke=\"gray\" stroke-width=\"13.709677419354838\"/><path d=\"M 425 364 487 420\" stroke=\"gray\" stroke-width=\"1.7580645161290323\"/><path d=\"M 421 323 466 334\" stroke=\"gray\" stroke-width=\"11.193548387096774\"/><path d=\"M 421 323 347 271\" stroke=\"gray\" stroke-width=\"3.6451612903225805\"/><path d=\"M 421 323 405 319\" stroke=\"gray\" stroke-width=\"1.129032258064516\"/><path d=\"M 421 323 413 293\" stroke=\"gray\" stroke-width=\"3.6451612903225805\"/><path d=\"M 421 323 425 364\" stroke=\"gray\" stroke-width=\"1.129032258064516\"/><path d=\"M 421 323 565 323\" stroke=\"gray\" stroke-width=\"1.129032258064516\"/><path d=\"M 421 323 499 256\" stroke=\"gray\" stroke-width=\"1.129032258064516\"/><path d=\"M 421 323 388 382\" stroke=\"gray\" stroke-width=\"1.129032258064516\"/><path d=\"M 421 323 548 360\" stroke=\"gray\" stroke-width=\"1.129032258064516\"/><path d=\"M 421 323 511 379\" stroke=\"gray\" stroke-width=\"1.129032258064516\"/><path d=\"M 421 323 277 323\" stroke=\"gray\" stroke-width=\"1.129032258064516\"/><path d=\"M 421 323 327 356\" stroke=\"gray\" stroke-width=\"4.274193548387097\"/><path d=\"M 421 323 396 256\" stroke=\"gray\" stroke-width=\"1.129032258064516\"/><path d=\"M 421 323 388 274\" stroke=\"gray\" stroke-width=\"1.7580645161290323\"/><path d=\"M 421 323 421 263\" stroke=\"gray\" stroke-width=\"1.129032258064516\"/><path d=\"M 421 323 388 237\" stroke=\"gray\" stroke-width=\"1.129032258064516\"/><path d=\"M 421 323 487 420\" stroke=\"gray\" stroke-width=\"1.129032258064516\"/><path d=\"M 565 323 466 334\" stroke=\"gray\" stroke-width=\"5.532258064516129\"/><path d=\"M 565 323 421 323\" stroke=\"gray\" stroke-width=\"1.129032258064516\"/><path d=\"M 565 323 638 326\" stroke=\"gray\" stroke-width=\"2.3870967741935485\"/><path d=\"M 565 323 716 300\" stroke=\"gray\" stroke-width=\"1.7580645161290323\"/><path d=\"M 499 256 466 334\" stroke=\"gray\" stroke-width=\"1.7580645161290323\"/><path d=\"M 499 256 347 271\" stroke=\"gray\" stroke-width=\"1.129032258064516\"/><path d=\"M 499 256 421 323\" stroke=\"gray\" stroke-width=\"1.129032258064516\"/><path d=\"M 499 256 548 282\" stroke=\"gray\" stroke-width=\"1.7580645161290323\"/><path d=\"M 499 256 536 259\" stroke=\"gray\" stroke-width=\"1.7580645161290323\"/><path d=\"M 499 256 548 230\" stroke=\"gray\" stroke-width=\"1.129032258064516\"/><path d=\"M 499 256 581 267\" stroke=\"gray\" stroke-width=\"1.129032258064516\"/><path d=\"M 499 256 573 244\" stroke=\"gray\" stroke-width=\"1.129032258064516\"/><path d=\"M 310 442 347 271\" stroke=\"gray\" stroke-width=\"1.129032258064516\"/><path d=\"M 310 442 388 382\" stroke=\"gray\" stroke-width=\"1.7580645161290323\"/><path d=\"M 388 382 466 334\" stroke=\"gray\" stroke-width=\"2.3870967741935485\"/><path d=\"M 388 382 347 271\" stroke=\"gray\" stroke-width=\"1.7580645161290323\"/><path d=\"M 388 382 421 323\" stroke=\"gray\" stroke-width=\"1.129032258064516\"/><path d=\"M 388 382 310 442\" stroke=\"gray\" stroke-width=\"1.7580645161290323\"/><path d=\"M 667 256 466 334\" stroke=\"gray\" stroke-width=\"1.129032258064516\"/><path d=\"M 548 360 466 334\" stroke=\"gray\" stroke-width=\"1.7580645161290323\"/><path d=\"M 548 360 421 323\" stroke=\"gray\" stroke-width=\"1.129032258064516\"/><path d=\"M 548 282 466 334\" stroke=\"gray\" stroke-width=\"2.3870967741935485\"/><path d=\"M 548 282 499 256\" stroke=\"gray\" stroke-width=\"1.7580645161290323\"/><path d=\"M 548 282 536 259\" stroke=\"gray\" stroke-width=\"2.3870967741935485\"/><path d=\"M 548 282 548 230\" stroke=\"gray\" stroke-width=\"1.7580645161290323\"/><path d=\"M 548 282 581 267\" stroke=\"gray\" stroke-width=\"1.7580645161290323\"/><path d=\"M 548 282 573 244\" stroke=\"gray\" stroke-width=\"1.7580645161290323\"/><path d=\"M 536 259 466 334\" stroke=\"gray\" stroke-width=\"2.3870967741935485\"/><path d=\"M 536 259 499 256\" stroke=\"gray\" stroke-width=\"1.7580645161290323\"/><path d=\"M 536 259 548 282\" stroke=\"gray\" stroke-width=\"2.3870967741935485\"/><path d=\"M 536 259 548 230\" stroke=\"gray\" stroke-width=\"1.7580645161290323\"/><path d=\"M 536 259 581 267\" stroke=\"gray\" stroke-width=\"1.7580645161290323\"/><path d=\"M 536 259 573 244\" stroke=\"gray\" stroke-width=\"1.7580645161290323\"/><path d=\"M 548 230 466 334\" stroke=\"gray\" stroke-width=\"1.7580645161290323\"/><path d=\"M 548 230 499 256\" stroke=\"gray\" stroke-width=\"1.129032258064516\"/><path d=\"M 548 230 548 282\" stroke=\"gray\" stroke-width=\"1.7580645161290323\"/><path d=\"M 548 230 536 259\" stroke=\"gray\" stroke-width=\"1.7580645161290323\"/><path d=\"M 548 230 581 267\" stroke=\"gray\" stroke-width=\"1.7580645161290323\"/><path d=\"M 548 230 573 244\" stroke=\"gray\" stroke-width=\"1.7580645161290323\"/><path d=\"M 581 267 466 334\" stroke=\"gray\" stroke-width=\"1.7580645161290323\"/><path d=\"M 581 267 499 256\" stroke=\"gray\" stroke-width=\"1.129032258064516\"/><path d=\"M 581 267 548 282\" stroke=\"gray\" stroke-width=\"1.7580645161290323\"/><path d=\"M 581 267 536 259\" stroke=\"gray\" stroke-width=\"1.7580645161290323\"/><path d=\"M 581 267 548 230\" stroke=\"gray\" stroke-width=\"1.7580645161290323\"/><path d=\"M 581 267 573 244\" stroke=\"gray\" stroke-width=\"1.7580645161290323\"/><path d=\"M 573 244 466 334\" stroke=\"gray\" stroke-width=\"1.7580645161290323\"/><path d=\"M 573 244 499 256\" stroke=\"gray\" stroke-width=\"1.129032258064516\"/><path d=\"M 573 244 548 282\" stroke=\"gray\" stroke-width=\"1.7580645161290323\"/><path d=\"M 573 244 536 259\" stroke=\"gray\" stroke-width=\"1.7580645161290323\"/><path d=\"M 573 244 548 230\" stroke=\"gray\" stroke-width=\"1.7580645161290323\"/><path d=\"M 573 244 581 267\" stroke=\"gray\" stroke-width=\"1.7580645161290323\"/><path d=\"M 446 479 413 293\" stroke=\"gray\" stroke-width=\"1.129032258064516\"/><path d=\"M 446 479 446 599\" stroke=\"gray\" stroke-width=\"1.129032258064516\"/><path d=\"M 446 479 376 371\" stroke=\"gray\" stroke-width=\"1.129032258064516\"/><path d=\"M 425 88 413 293\" stroke=\"gray\" stroke-width=\"1.129032258064516\"/><path d=\"M 355 304 405 319\" stroke=\"gray\" stroke-width=\"1.7580645161290323\"/><path d=\"M 355 304 413 293\" stroke=\"gray\" stroke-width=\"2.3870967741935485\"/><path d=\"M 355 304 392 203\" stroke=\"gray\" stroke-width=\"1.7580645161290323\"/><path d=\"M 355 304 376 371\" stroke=\"gray\" stroke-width=\"3.6451612903225805\"/><path d=\"M 355 304 232 408\" stroke=\"gray\" stroke-width=\"1.129032258064516\"/><path d=\"M 355 304 294 360\" stroke=\"gray\" stroke-width=\"1.129032258064516\"/><path d=\"M 355 304 396 256\" stroke=\"gray\" stroke-width=\"1.129032258064516\"/><path d=\"M 355 304 388 274\" stroke=\"gray\" stroke-width=\"1.129032258064516\"/><path d=\"M 355 304 421 263\" stroke=\"gray\" stroke-width=\"1.129032258064516\"/><path d=\"M 355 304 388 237\" stroke=\"gray\" stroke-width=\"1.129032258064516\"/><path d=\"M 355 304 355 233\" stroke=\"gray\" stroke-width=\"1.129032258064516\"/><path d=\"M 392 203 405 319\" stroke=\"gray\" stroke-width=\"1.129032258064516\"/><path d=\"M 392 203 413 293\" stroke=\"gray\" stroke-width=\"1.7580645161290323\"/><path d=\"M 392 203 355 304\" stroke=\"gray\" stroke-width=\"1.7580645161290323\"/><path d=\"M 511 379 466 334\" stroke=\"gray\" stroke-width=\"2.3870967741935485\"/><path d=\"M 511 379 425 364\" stroke=\"gray\" stroke-width=\"1.129032258064516\"/><path d=\"M 511 379 421 323\" stroke=\"gray\" stroke-width=\"1.129032258064516\"/><path d=\"M 638 326 466 334\" stroke=\"gray\" stroke-width=\"1.129032258064516\"/><path d=\"M 638 326 565 323\" stroke=\"gray\" stroke-width=\"2.3870967741935485\"/><path d=\"M 716 300 565 323\" stroke=\"gray\" stroke-width=\"1.7580645161290323\"/><path d=\"M 40 40 142 181\" stroke=\"gray\" stroke-width=\"1.129032258064516\"/><path d=\"M 142 181 40 40\" stroke=\"gray\" stroke-width=\"1.129032258064516\"/><path d=\"M 142 181 277 323\" stroke=\"gray\" stroke-width=\"1.7580645161290323\"/><path d=\"M 277 323 466 334\" stroke=\"gray\" stroke-width=\"1.129032258064516\"/><path d=\"M 277 323 413 293\" stroke=\"gray\" stroke-width=\"1.129032258064516\"/><path d=\"M 277 323 421 323\" stroke=\"gray\" stroke-width=\"1.129032258064516\"/><path d=\"M 277 323 142 181\" stroke=\"gray\" stroke-width=\"1.7580645161290323\"/><path d=\"M 277 323 376 371\" stroke=\"gray\" stroke-width=\"3.0161290322580645\"/><path d=\"M 277 323 232 408\" stroke=\"gray\" stroke-width=\"1.129032258064516\"/><path d=\"M 277 323 327 356\" stroke=\"gray\" stroke-width=\"4.903225806451613\"/><path d=\"M 277 323 294 379\" stroke=\"gray\" stroke-width=\"4.274193548387097\"/><path d=\"M 277 323 253 397\" stroke=\"gray\" stroke-width=\"1.129032258064516\"/><path d=\"M 277 323 269 360\" stroke=\"gray\" stroke-width=\"1.7580645161290323\"/><path d=\"M 277 323 294 360\" stroke=\"gray\" stroke-width=\"4.903225806451613\"/><path d=\"M 277 323 257 371\" stroke=\"gray\" stroke-width=\"3.6451612903225805\"/><path d=\"M 277 323 302 367\" stroke=\"gray\" stroke-width=\"3.6451612903225805\"/><path d=\"M 277 323 273 386\" stroke=\"gray\" stroke-width=\"2.3870967741935485\"/><path d=\"M 277 323 232 367\" stroke=\"gray\" stroke-width=\"1.129032258064516\"/><path d=\"M 277 323 396 256\" stroke=\"gray\" stroke-width=\"1.129032258064516\"/><path d=\"M 277 323 388 274\" stroke=\"gray\" stroke-width=\"1.129032258064516\"/><path d=\"M 277 323 388 237\" stroke=\"gray\" stroke-width=\"1.129032258064516\"/><path d=\"M 277 323 117 323\" stroke=\"gray\" stroke-width=\"1.7580645161290323\"/><path d=\"M 277 323 122 293\" stroke=\"gray\" stroke-width=\"1.7580645161290323\"/><path d=\"M 277 323 355 233\" stroke=\"gray\" stroke-width=\"1.129032258064516\"/><path d=\"M 277 323 191 382\" stroke=\"gray\" stroke-width=\"1.129032258064516\"/><path d=\"M 396 420 466 334\" stroke=\"gray\" stroke-width=\"1.7580645161290323\"/><path d=\"M 396 420 425 364\" stroke=\"gray\" stroke-width=\"2.3870967741935485\"/><path d=\"M 396 420 355 494\" stroke=\"gray\" stroke-width=\"1.129032258064516\"/><path d=\"M 396 420 409 449\" stroke=\"gray\" stroke-width=\"6.161290322580645\"/><path d=\"M 396 420 405 494\" stroke=\"gray\" stroke-width=\"1.129032258064516\"/><path d=\"M 396 420 376 371\" stroke=\"gray\" stroke-width=\"8.048387096774194\"/><path d=\"M 396 420 331 535\" stroke=\"gray\" stroke-width=\"1.129032258064516\"/><path d=\"M 355 494 405 319\" stroke=\"gray\" stroke-width=\"1.129032258064516\"/><path d=\"M 355 494 396 420\" stroke=\"gray\" stroke-width=\"1.129032258064516\"/><path d=\"M 409 449 466 334\" stroke=\"gray\" stroke-width=\"1.7580645161290323\"/><path d=\"M 409 449 425 364\" stroke=\"gray\" stroke-width=\"1.7580645161290323\"/><path d=\"M 409 449 396 420\" stroke=\"gray\" stroke-width=\"6.161290322580645\"/><path d=\"M 409 449 446 599\" stroke=\"gray\" stroke-width=\"1.129032258064516\"/><path d=\"M 409 449 380 640\" stroke=\"gray\" stroke-width=\"1.129032258064516\"/><path d=\"M 409 449 405 494\" stroke=\"gray\" stroke-width=\"1.7580645161290323\"/><path d=\"M 409 449 376 371\" stroke=\"gray\" stroke-width=\"4.274193548387097\"/><path d=\"M 446 599 446 479\" stroke=\"gray\" stroke-width=\"1.129032258064516\"/><path d=\"M 446 599 409 449\" stroke=\"gray\" stroke-width=\"1.129032258064516\"/><path d=\"M 380 640 409 449\" stroke=\"gray\" stroke-width=\"1.129032258064516\"/><path d=\"M 405 494 425 364\" stroke=\"gray\" stroke-width=\"1.129032258064516\"/><path d=\"M 405 494 396 420\" stroke=\"gray\" stroke-width=\"1.129032258064516\"/><path d=\"M 405 494 409 449\" stroke=\"gray\" stroke-width=\"1.7580645161290323\"/><path d=\"M 405 494 376 371\" stroke=\"gray\" stroke-width=\"1.129032258064516\"/><path d=\"M 376 371 466 334\" stroke=\"gray\" stroke-width=\"12.451612903225806\"/><path d=\"M 376 371 286 244\" stroke=\"gray\" stroke-width=\"1.129032258064516\"/><path d=\"M 376 371 413 293\" stroke=\"gray\" stroke-width=\"1.7580645161290323\"/><path d=\"M 376 371 425 364\" stroke=\"gray\" stroke-width=\"13.709677419354838\"/><path d=\"M 376 371 446 479\" stroke=\"gray\" stroke-width=\"1.129032258064516\"/><path d=\"M 376 371 355 304\" stroke=\"gray\" stroke-width=\"3.6451612903225805\"/><path d=\"M 376 371 277 323\" stroke=\"gray\" stroke-width=\"3.0161290322580645\"/><path d=\"M 376 371 396 420\" stroke=\"gray\" stroke-width=\"8.048387096774194\"/><path d=\"M 376 371 409 449\" stroke=\"gray\" stroke-width=\"4.274193548387097\"/><path d=\"M 376 371 405 494\" stroke=\"gray\" stroke-width=\"1.129032258064516\"/><path d=\"M 376 371 331 535\" stroke=\"gray\" stroke-width=\"1.129032258064516\"/><path d=\"M 376 371 232 408\" stroke=\"gray\" stroke-width=\"1.129032258064516\"/><path d=\"M 376 371 327 356\" stroke=\"gray\" stroke-width=\"4.903225806451613\"/><path d=\"M 376 371 294 379\" stroke=\"gray\" stroke-width=\"3.6451612903225805\"/><path d=\"M 376 371 269 360\" stroke=\"gray\" stroke-width=\"1.129032258064516\"/><path d=\"M 376 371 294 360\" stroke=\"gray\" stroke-width=\"6.161290322580645\"/><path d=\"M 376 371 257 371\" stroke=\"gray\" stroke-width=\"1.129032258064516\"/><path d=\"M 376 371 302 367\" stroke=\"gray\" stroke-width=\"3.6451612903225805\"/><path d=\"M 376 371 273 386\" stroke=\"gray\" stroke-width=\"1.7580645161290323\"/><path d=\"M 331 535 396 420\" stroke=\"gray\" stroke-width=\"1.129032258064516\"/><path d=\"M 331 535 376 371\" stroke=\"gray\" stroke-width=\"1.129032258064516\"/><path d=\"M 232 408 355 304\" stroke=\"gray\" stroke-width=\"1.129032258064516\"/><path d=\"M 232 408 277 323\" stroke=\"gray\" stroke-width=\"1.129032258064516\"/><path d=\"M 232 408 376 371\" stroke=\"gray\" stroke-width=\"1.129032258064516\"/><path d=\"M 232 408 327 356\" stroke=\"gray\" stroke-width=\"1.129032258064516\"/><path d=\"M 232 408 294 379\" stroke=\"gray\" stroke-width=\"1.7580645161290323\"/><path d=\"M 232 408 269 360\" stroke=\"gray\" stroke-width=\"1.129032258064516\"/><path d=\"M 232 408 294 360\" stroke=\"gray\" stroke-width=\"1.7580645161290323\"/><path d=\"M 232 408 257 371\" stroke=\"gray\" stroke-width=\"1.7580645161290323\"/><path d=\"M 232 408 302 367\" stroke=\"gray\" stroke-width=\"1.129032258064516\"/><path d=\"M 232 408 273 386\" stroke=\"gray\" stroke-width=\"1.129032258064516\"/><path d=\"M 232 408 126 476\" stroke=\"gray\" stroke-width=\"2.3870967741935485\"/><path d=\"M 327 356 466 334\" stroke=\"gray\" stroke-width=\"3.0161290322580645\"/><path d=\"M 327 356 421 323\" stroke=\"gray\" stroke-width=\"4.274193548387097\"/><path d=\"M 327 356 277 323\" stroke=\"gray\" stroke-width=\"4.903225806451613\"/><path d=\"M 327 356 376 371\" stroke=\"gray\" stroke-width=\"4.903225806451613\"/><path d=\"M 327 356 232 408\" stroke=\"gray\" stroke-width=\"1.129032258064516\"/><path d=\"M 327 356 294 379\" stroke=\"gray\" stroke-width=\"9.935483870967742\"/><path d=\"M 327 356 253 397\" stroke=\"gray\" stroke-width=\"3.0161290322580645\"/><path d=\"M 327 356 269 360\" stroke=\"gray\" stroke-width=\"4.274193548387097\"/><path d=\"M 327 356 294 360\" stroke=\"gray\" stroke-width=\"11.193548387096774\"/><path d=\"M 327 356 257 371\" stroke=\"gray\" stroke-width=\"3.0161290322580645\"/><path d=\"M 327 356 302 367\" stroke=\"gray\" stroke-width=\"6.790322580645161\"/><path d=\"M 327 356 273 386\" stroke=\"gray\" stroke-width=\"3.6451612903225805\"/><path d=\"M 327 356 232 367\" stroke=\"gray\" stroke-width=\"2.3870967741935485\"/><path d=\"M 327 356 421 263\" stroke=\"gray\" stroke-width=\"1.129032258064516\"/><path d=\"M 327 356 191 382\" stroke=\"gray\" stroke-width=\"1.129032258064516\"/><path d=\"M 294 379 277 323\" stroke=\"gray\" stroke-width=\"4.274193548387097\"/><path d=\"M 294 379 376 371\" stroke=\"gray\" stroke-width=\"3.6451612903225805\"/><path d=\"M 294 379 232 408\" stroke=\"gray\" stroke-width=\"1.7580645161290323\"/><path d=\"M 294 379 327 356\" stroke=\"gray\" stroke-width=\"9.935483870967742\"/><path d=\"M 294 379 253 397\" stroke=\"gray\" stroke-width=\"1.7580645161290323\"/><path d=\"M 294 379 269 360\" stroke=\"gray\" stroke-width=\"3.6451612903225805\"/><path d=\"M 294 379 294 360\" stroke=\"gray\" stroke-width=\"8.67741935483871\"/><path d=\"M 294 379 257 371\" stroke=\"gray\" stroke-width=\"3.6451612903225805\"/><path d=\"M 294 379 302 367\" stroke=\"gray\" stroke-width=\"6.161290322580645\"/><path d=\"M 294 379 273 386\" stroke=\"gray\" stroke-width=\"3.6451612903225805\"/><path d=\"M 294 379 232 367\" stroke=\"gray\" stroke-width=\"1.129032258064516\"/><path d=\"M 253 397 277 323\" stroke=\"gray\" stroke-width=\"1.129032258064516\"/><path d=\"M 253 397 327 356\" stroke=\"gray\" stroke-width=\"3.0161290322580645\"/><path d=\"M 253 397 294 379\" stroke=\"gray\" stroke-width=\"1.7580645161290323\"/><path d=\"M 253 397 269 360\" stroke=\"gray\" stroke-width=\"1.7580645161290323\"/><path d=\"M 253 397 294 360\" stroke=\"gray\" stroke-width=\"2.3870967741935485\"/><path d=\"M 253 397 257 371\" stroke=\"gray\" stroke-width=\"1.7580645161290323\"/><path d=\"M 253 397 302 367\" stroke=\"gray\" stroke-width=\"1.7580645161290323\"/><path d=\"M 253 397 273 386\" stroke=\"gray\" stroke-width=\"1.7580645161290323\"/><path d=\"M 253 397 232 367\" stroke=\"gray\" stroke-width=\"1.129032258064516\"/><path d=\"M 269 360 277 323\" stroke=\"gray\" stroke-width=\"1.7580645161290323\"/><path d=\"M 269 360 376 371\" stroke=\"gray\" stroke-width=\"1.129032258064516\"/><path d=\"M 269 360 232 408\" stroke=\"gray\" stroke-width=\"1.129032258064516\"/><path d=\"M 269 360 327 356\" stroke=\"gray\" stroke-width=\"4.274193548387097\"/><path d=\"M 269 360 294 379\" stroke=\"gray\" stroke-width=\"3.6451612903225805\"/><path d=\"M 269 360 253 397\" stroke=\"gray\" stroke-width=\"1.7580645161290323\"/><path d=\"M 269 360 294 360\" stroke=\"gray\" stroke-width=\"4.274193548387097\"/><path d=\"M 269 360 257 371\" stroke=\"gray\" stroke-width=\"2.3870967741935485\"/><path d=\"M 269 360 302 367\" stroke=\"gray\" stroke-width=\"4.274193548387097\"/><path d=\"M 269 360 273 386\" stroke=\"gray\" stroke-width=\"3.6451612903225805\"/><path d=\"M 269 360 232 367\" stroke=\"gray\" stroke-width=\"1.129032258064516\"/><path d=\"M 294 360 355 304\" stroke=\"gray\" stroke-width=\"1.129032258064516\"/><path d=\"M 294 360 277 323\" stroke=\"gray\" stroke-width=\"4.903225806451613\"/><path d=\"M 294 360 376 371\" stroke=\"gray\" stroke-width=\"6.161290322580645\"/><path d=\"M 294 360 232 408\" stroke=\"gray\" stroke-width=\"1.7580645161290323\"/><path d=\"M 294 360 327 356\" stroke=\"gray\" stroke-width=\"11.193548387096774\"/><path d=\"M 294 360 294 379\" stroke=\"gray\" stroke-width=\"8.67741935483871\"/><path d=\"M 294 360 253 397\" stroke=\"gray\" stroke-width=\"2.3870967741935485\"/><path d=\"M 294 360 269 360\" stroke=\"gray\" stroke-width=\"4.274193548387097\"/><path d=\"M 294 360 257 371\" stroke=\"gray\" stroke-width=\"4.274193548387097\"/><path d=\"M 294 360 302 367\" stroke=\"gray\" stroke-width=\"8.048387096774194\"/><path d=\"M 294 360 273 386\" stroke=\"gray\" stroke-width=\"3.6451612903225805\"/><path d=\"M 294 360 232 367\" stroke=\"gray\" stroke-width=\"1.7580645161290323\"/><path d=\"M 294 360 191 382\" stroke=\"gray\" stroke-width=\"1.129032258064516\"/><path d=\"M 257 371 277 323\" stroke=\"gray\" stroke-width=\"3.6451612903225805\"/><path d=\"M 257 371 376 371\" stroke=\"gray\" stroke-width=\"1.129032258064516\"/><path d=\"M 257 371 232 408\" stroke=\"gray\" stroke-width=\"1.7580645161290323\"/><path d=\"M 257 371 327 356\" stroke=\"gray\" stroke-width=\"3.0161290322580645\"/><path d=\"M 257 371 294 379\" stroke=\"gray\" stroke-width=\"3.6451612903225805\"/><path d=\"M 257 371 253 397\" stroke=\"gray\" stroke-width=\"1.7580645161290323\"/><path d=\"M 257 371 269 360\" stroke=\"gray\" stroke-width=\"2.3870967741935485\"/><path d=\"M 257 371 294 360\" stroke=\"gray\" stroke-width=\"4.274193548387097\"/><path d=\"M 257 371 302 367\" stroke=\"gray\" stroke-width=\"3.0161290322580645\"/><path d=\"M 257 371 273 386\" stroke=\"gray\" stroke-width=\"3.6451612903225805\"/><path d=\"M 257 371 232 367\" stroke=\"gray\" stroke-width=\"1.129032258064516\"/><path d=\"M 257 371 191 382\" stroke=\"gray\" stroke-width=\"1.129032258064516\"/><path d=\"M 302 367 466 334\" stroke=\"gray\" stroke-width=\"1.129032258064516\"/><path d=\"M 302 367 277 323\" stroke=\"gray\" stroke-width=\"3.6451612903225805\"/><path d=\"M 302 367 376 371\" stroke=\"gray\" stroke-width=\"3.6451612903225805\"/><path d=\"M 302 367 232 408\" stroke=\"gray\" stroke-width=\"1.129032258064516\"/><path d=\"M 302 367 327 356\" stroke=\"gray\" stroke-width=\"6.790322580645161\"/><path d=\"M 302 367 294 379\" stroke=\"gray\" stroke-width=\"6.161290322580645\"/><path d=\"M 302 367 253 397\" stroke=\"gray\" stroke-width=\"1.7580645161290323\"/><path d=\"M 302 367 269 360\" stroke=\"gray\" stroke-width=\"4.274193548387097\"/><path d=\"M 302 367 294 360\" stroke=\"gray\" stroke-width=\"8.048387096774194\"/><path d=\"M 302 367 257 371\" stroke=\"gray\" stroke-width=\"3.0161290322580645\"/><path d=\"M 302 367 273 386\" stroke=\"gray\" stroke-width=\"4.903225806451613\"/><path d=\"M 302 367 232 367\" stroke=\"gray\" stroke-width=\"2.3870967741935485\"/><path d=\"M 302 367 191 382\" stroke=\"gray\" stroke-width=\"1.129032258064516\"/><path d=\"M 273 386 277 323\" stroke=\"gray\" stroke-width=\"2.3870967741935485\"/><path d=\"M 273 386 376 371\" stroke=\"gray\" stroke-width=\"1.7580645161290323\"/><path d=\"M 273 386 232 408\" stroke=\"gray\" stroke-width=\"1.129032258064516\"/><path d=\"M 273 386 327 356\" stroke=\"gray\" stroke-width=\"3.6451612903225805\"/><path d=\"M 273 386 294 379\" stroke=\"gray\" stroke-width=\"3.6451612903225805\"/><path d=\"M 273 386 253 397\" stroke=\"gray\" stroke-width=\"1.7580645161290323\"/><path d=\"M 273 386 269 360\" stroke=\"gray\" stroke-width=\"3.6451612903225805\"/><path d=\"M 273 386 294 360\" stroke=\"gray\" stroke-width=\"3.6451612903225805\"/><path d=\"M 273 386 257 371\" stroke=\"gray\" stroke-width=\"3.6451612903225805\"/><path d=\"M 273 386 302 367\" stroke=\"gray\" stroke-width=\"4.903225806451613\"/><path d=\"M 273 386 232 367\" stroke=\"gray\" stroke-width=\"1.7580645161290323\"/><path d=\"M 273 386 191 382\" stroke=\"gray\" stroke-width=\"1.129032258064516\"/><path d=\"M 232 367 277 323\" stroke=\"gray\" stroke-width=\"1.129032258064516\"/><path d=\"M 232 367 327 356\" stroke=\"gray\" stroke-width=\"2.3870967741935485\"/><path d=\"M 232 367 294 379\" stroke=\"gray\" stroke-width=\"1.129032258064516\"/><path d=\"M 232 367 253 397\" stroke=\"gray\" stroke-width=\"1.129032258064516\"/><path d=\"M 232 367 269 360\" stroke=\"gray\" stroke-width=\"1.129032258064516\"/><path d=\"M 232 367 294 360\" stroke=\"gray\" stroke-width=\"1.7580645161290323\"/><path d=\"M 232 367 257 371\" stroke=\"gray\" stroke-width=\"1.129032258064516\"/><path d=\"M 232 367 302 367\" stroke=\"gray\" stroke-width=\"2.3870967741935485\"/><path d=\"M 232 367 273 386\" stroke=\"gray\" stroke-width=\"1.7580645161290323\"/><path d=\"M 232 367 191 382\" stroke=\"gray\" stroke-width=\"1.129032258064516\"/><path d=\"M 126 476 232 408\" stroke=\"gray\" stroke-width=\"2.3870967741935485\"/><path d=\"M 396 256 466 334\" stroke=\"gray\" stroke-width=\"1.129032258064516\"/><path d=\"M 396 256 405 319\" stroke=\"gray\" stroke-width=\"1.129032258064516\"/><path d=\"M 396 256 413 293\" stroke=\"gray\" stroke-width=\"3.6451612903225805\"/><path d=\"M 396 256 421 323\" stroke=\"gray\" stroke-width=\"1.129032258064516\"/><path d=\"M 396 256 355 304\" stroke=\"gray\" stroke-width=\"1.129032258064516\"/><path d=\"M 396 256 277 323\" stroke=\"gray\" stroke-width=\"1.129032258064516\"/><path d=\"M 396 256 388 274\" stroke=\"gray\" stroke-width=\"4.274193548387097\"/><path d=\"M 396 256 421 263\" stroke=\"gray\" stroke-width=\"3.0161290322580645\"/><path d=\"M 396 256 388 237\" stroke=\"gray\" stroke-width=\"1.7580645161290323\"/><path d=\"M 396 256 355 233\" stroke=\"gray\" stroke-width=\"2.3870967741935485\"/><path d=\"M 388 274 466 334\" stroke=\"gray\" stroke-width=\"1.129032258064516\"/><path d=\"M 388 274 405 319\" stroke=\"gray\" stroke-width=\"1.129032258064516\"/><path d=\"M 388 274 413 293\" stroke=\"gray\" stroke-width=\"4.274193548387097\"/><path d=\"M 388 274 421 323\" stroke=\"gray\" stroke-width=\"1.7580645161290323\"/><path d=\"M 388 274 355 304\" stroke=\"gray\" stroke-width=\"1.129032258064516\"/><path d=\"M 388 274 277 323\" stroke=\"gray\" stroke-width=\"1.129032258064516\"/><path d=\"M 388 274 396 256\" stroke=\"gray\" stroke-width=\"4.274193548387097\"/><path d=\"M 388 274 421 263\" stroke=\"gray\" stroke-width=\"3.0161290322580645\"/><path d=\"M 388 274 388 237\" stroke=\"gray\" stroke-width=\"1.7580645161290323\"/><path d=\"M 388 274 355 233\" stroke=\"gray\" stroke-width=\"2.3870967741935485\"/><path d=\"M 421 263 466 334\" stroke=\"gray\" stroke-width=\"1.129032258064516\"/><path d=\"M 421 263 405 319\" stroke=\"gray\" stroke-width=\"1.129032258064516\"/><path d=\"M 421 263 413 293\" stroke=\"gray\" stroke-width=\"3.0161290322580645\"/><path d=\"M 421 263 421 323\" stroke=\"gray\" stroke-width=\"1.129032258064516\"/><path d=\"M 421 263 355 304\" stroke=\"gray\" stroke-width=\"1.129032258064516\"/><path d=\"M 421 263 327 356\" stroke=\"gray\" stroke-width=\"1.129032258064516\"/><path d=\"M 421 263 396 256\" stroke=\"gray\" stroke-width=\"3.0161290322580645\"/><path d=\"M 421 263 388 274\" stroke=\"gray\" stroke-width=\"3.0161290322580645\"/><path d=\"M 421 263 388 237\" stroke=\"gray\" stroke-width=\"1.7580645161290323\"/><path d=\"M 421 263 355 233\" stroke=\"gray\" stroke-width=\"1.129032258064516\"/><path d=\"M 388 237 466 334\" stroke=\"gray\" stroke-width=\"1.129032258064516\"/><path d=\"M 388 237 413 293\" stroke=\"gray\" stroke-width=\"1.129032258064516\"/><path d=\"M 388 237 421 323\" stroke=\"gray\" stroke-width=\"1.129032258064516\"/><path d=\"M 388 237 355 304\" stroke=\"gray\" stroke-width=\"1.129032258064516\"/><path d=\"M 388 237 277 323\" stroke=\"gray\" stroke-width=\"1.129032258064516\"/><path d=\"M 388 237 396 256\" stroke=\"gray\" stroke-width=\"1.7580645161290323\"/><path d=\"M 388 237 388 274\" stroke=\"gray\" stroke-width=\"1.7580645161290323\"/><path d=\"M 388 237 421 263\" stroke=\"gray\" stroke-width=\"1.7580645161290323\"/><path d=\"M 388 237 355 233\" stroke=\"gray\" stroke-width=\"1.129032258064516\"/><path d=\"M 487 420 466 334\" stroke=\"gray\" stroke-width=\"1.129032258064516\"/><path d=\"M 487 420 425 364\" stroke=\"gray\" stroke-width=\"1.7580645161290323\"/><path d=\"M 487 420 421 323\" stroke=\"gray\" stroke-width=\"1.129032258064516\"/><path d=\"M 117 323 277 323\" stroke=\"gray\" stroke-width=\"1.7580645161290323\"/><path d=\"M 117 323 122 293\" stroke=\"gray\" stroke-width=\"2.3870967741935485\"/><path d=\"M 122 293 277 323\" stroke=\"gray\" stroke-width=\"1.7580645161290323\"/><path d=\"M 122 293 117 323\" stroke=\"gray\" stroke-width=\"2.3870967741935485\"/><path d=\"M 355 233 413 293\" stroke=\"gray\" stroke-width=\"2.3870967741935485\"/><path d=\"M 355 233 355 304\" stroke=\"gray\" stroke-width=\"1.129032258064516\"/><path d=\"M 355 233 277 323\" stroke=\"gray\" stroke-width=\"1.129032258064516\"/><path d=\"M 355 233 396 256\" stroke=\"gray\" stroke-width=\"2.3870967741935485\"/><path d=\"M 355 233 388 274\" stroke=\"gray\" stroke-width=\"2.3870967741935485\"/><path d=\"M 355 233 421 263\" stroke=\"gray\" stroke-width=\"1.129032258064516\"/><path d=\"M 355 233 388 237\" stroke=\"gray\" stroke-width=\"1.129032258064516\"/><path d=\"M 191 382 277 323\" stroke=\"gray\" stroke-width=\"1.129032258064516\"/><path d=\"M 191 382 327 356\" stroke=\"gray\" stroke-width=\"1.129032258064516\"/><path d=\"M 191 382 294 360\" stroke=\"gray\" stroke-width=\"1.129032258064516\"/><path d=\"M 191 382 257 371\" stroke=\"gray\" stroke-width=\"1.129032258064516\"/><path d=\"M 191 382 302 367\" stroke=\"gray\" stroke-width=\"1.129032258064516\"/><path d=\"M 191 382 273 386\" stroke=\"gray\" stroke-width=\"1.129032258064516\"/><path d=\"M 191 382 232 367\" stroke=\"gray\" stroke-width=\"1.129032258064516\"/><circle cx=\"647\" cy=\"431\" r=\"7.0\" style=\"fill:rgb(244, 154, 123);stroke:black;stroke-width:1.0\"/><circle cx=\"831\" cy=\"502\" r=\"7.0\" style=\"fill:rgb(72, 96, 209);stroke:black;stroke-width:1.0\"/><circle cx=\"597\" cy=\"397\" r=\"7.0\" style=\"fill:rgb(227, 217, 211);stroke:black;stroke-width:1.0\"/><circle cx=\"593\" cy=\"412\" r=\"7.0\" style=\"fill:rgb(234, 211, 199);stroke:black;stroke-width:1.0\"/><circle cx=\"840\" cy=\"461\" r=\"7.0\" style=\"fill:rgb(72, 96, 209);stroke:black;stroke-width:1.0\"/><circle cx=\"807\" cy=\"539\" r=\"7.0\" style=\"fill:rgb(72, 96, 209);stroke:black;stroke-width:1.0\"/><circle cx=\"774\" cy=\"569\" r=\"7.0\" style=\"fill:rgb(72, 96, 209);stroke:black;stroke-width:1.0\"/><circle cx=\"733\" cy=\"587\" r=\"7.0\" style=\"fill:rgb(72, 96, 209);stroke:black;stroke-width:1.0\"/><circle cx=\"749\" cy=\"487\" r=\"7.0\" style=\"fill:rgb(99, 131, 234);stroke:black;stroke-width:1.0\"/><circle cx=\"840\" cy=\"416\" r=\"7.0\" style=\"fill:rgb(72, 96, 209);stroke:black;stroke-width:1.0\"/><circle cx=\"638\" cy=\"200\" r=\"7.0\" style=\"fill:rgb(58, 76, 192);stroke:black;stroke-width:1.0\"/><circle cx=\"466\" cy=\"334\" r=\"7.0\" style=\"fill:rgb(179, 3, 38);stroke:black;stroke-width:1.0\"/><circle cx=\"429\" cy=\"181\" r=\"7.0\" style=\"fill:rgb(86, 115, 224);stroke:black;stroke-width:1.0\"/><circle cx=\"548\" cy=\"509\" r=\"7.0\" style=\"fill:rgb(58, 76, 192);stroke:black;stroke-width:1.0\"/><circle cx=\"581\" cy=\"155\" r=\"7.0\" style=\"fill:rgb(58, 76, 192);stroke:black;stroke-width:1.0\"/><circle cx=\"597\" cy=\"479\" r=\"7.0\" style=\"fill:rgb(58, 76, 192);stroke:black;stroke-width:1.0\"/><circle cx=\"286\" cy=\"244\" r=\"7.0\" style=\"fill:rgb(210, 218, 231);stroke:black;stroke-width:1.0\"/><circle cx=\"241\" cy=\"207\" r=\"7.0\" style=\"fill:rgb(205, 217, 236);stroke:black;stroke-width:1.0\"/><circle cx=\"257\" cy=\"196\" r=\"7.0\" style=\"fill:rgb(205, 217, 236);stroke:black;stroke-width:1.0\"/><circle cx=\"241\" cy=\"226\" r=\"7.0\" style=\"fill:rgb(208, 218, 233);stroke:black;stroke-width:1.0\"/><circle cx=\"261\" cy=\"226\" r=\"7.0\" style=\"fill:rgb(210, 218, 231);stroke:black;stroke-width:1.0\"/><circle cx=\"277\" cy=\"211\" r=\"7.0\" style=\"fill:rgb(208, 218, 233);stroke:black;stroke-width:1.0\"/><circle cx=\"282\" cy=\"196\" r=\"7.0\" style=\"fill:rgb(208, 218, 233);stroke:black;stroke-width:1.0\"/><circle cx=\"347\" cy=\"271\" r=\"7.0\" style=\"fill:rgb(246, 189, 164);stroke:black;stroke-width:1.0\"/><circle cx=\"405\" cy=\"319\" r=\"7.0\" style=\"fill:rgb(236, 210, 196);stroke:black;stroke-width:1.0\"/><circle cx=\"413\" cy=\"293\" r=\"7.0\" style=\"fill:rgb(246, 166, 135);stroke:black;stroke-width:1.0\"/><circle cx=\"425\" cy=\"364\" r=\"7.0\" style=\"fill:rgb(245, 161, 130);stroke:black;stroke-width:1.0\"/><circle cx=\"421\" cy=\"323\" r=\"7.0\" style=\"fill:rgb(245, 193, 168);stroke:black;stroke-width:1.0\"/><circle cx=\"565\" cy=\"323\" r=\"7.0\" style=\"fill:rgb(205, 217, 236);stroke:black;stroke-width:1.0\"/><circle cx=\"499\" cy=\"256\" r=\"7.0\" style=\"fill:rgb(172, 200, 252);stroke:black;stroke-width:1.0\"/><circle cx=\"310\" cy=\"442\" r=\"7.0\" style=\"fill:rgb(99, 131, 234);stroke:black;stroke-width:1.0\"/><circle cx=\"388\" cy=\"382\" r=\"7.0\" style=\"fill:rgb(155, 187, 254);stroke:black;stroke-width:1.0\"/><circle cx=\"667\" cy=\"256\" r=\"7.0\" style=\"fill:rgb(58, 76, 192);stroke:black;stroke-width:1.0\"/><circle cx=\"548\" cy=\"360\" r=\"7.0\" style=\"fill:rgb(86, 115, 224);stroke:black;stroke-width:1.0\"/><circle cx=\"548\" cy=\"282\" r=\"7.0\" style=\"fill:rgb(193, 212, 244);stroke:black;stroke-width:1.0\"/><circle cx=\"536\" cy=\"259\" r=\"7.0\" style=\"fill:rgb(193, 212, 244);stroke:black;stroke-width:1.0\"/><circle cx=\"548\" cy=\"230\" r=\"7.0\" style=\"fill:rgb(176, 203, 251);stroke:black;stroke-width:1.0\"/><circle cx=\"581\" cy=\"267\" r=\"7.0\" style=\"fill:rgb(176, 203, 251);stroke:black;stroke-width:1.0\"/><circle cx=\"573\" cy=\"244\" r=\"7.0\" style=\"fill:rgb(176, 203, 251);stroke:black;stroke-width:1.0\"/><circle cx=\"446\" cy=\"479\" r=\"7.0\" style=\"fill:rgb(109, 144, 241);stroke:black;stroke-width:1.0\"/><circle cx=\"425\" cy=\"88\" r=\"7.0\" style=\"fill:rgb(58, 76, 192);stroke:black;stroke-width:1.0\"/><circle cx=\"355\" cy=\"304\" r=\"7.0\" style=\"fill:rgb(197, 213, 242);stroke:black;stroke-width:1.0\"/><circle cx=\"392\" cy=\"203\" r=\"7.0\" style=\"fill:rgb(109, 144, 241);stroke:black;stroke-width:1.0\"/><circle cx=\"511\" cy=\"379\" r=\"7.0\" style=\"fill:rgb(109, 144, 241);stroke:black;stroke-width:1.0\"/><circle cx=\"638\" cy=\"326\" r=\"7.0\" style=\"fill:rgb(116, 151, 245);stroke:black;stroke-width:1.0\"/><circle cx=\"716\" cy=\"300\" r=\"7.0\" style=\"fill:rgb(86, 115, 224);stroke:black;stroke-width:1.0\"/><circle cx=\"40\" cy=\"40\" r=\"7.0\" style=\"fill:rgb(88, 118, 226);stroke:black;stroke-width:1.0\"/><circle cx=\"142\" cy=\"181\" r=\"7.0\" style=\"fill:rgb(134, 169, 252);stroke:black;stroke-width:1.0\"/><circle cx=\"277\" cy=\"323\" r=\"7.0\" style=\"fill:rgb(246, 186, 159);stroke:black;stroke-width:1.0\"/><circle cx=\"396\" cy=\"420\" r=\"7.0\" style=\"fill:rgb(230, 215, 207);stroke:black;stroke-width:1.0\"/><circle cx=\"355\" cy=\"494\" r=\"7.0\" style=\"fill:rgb(72, 96, 209);stroke:black;stroke-width:1.0\"/><circle cx=\"409\" cy=\"449\" r=\"7.0\" style=\"fill:rgb(224, 218, 215);stroke:black;stroke-width:1.0\"/><circle cx=\"446\" cy=\"599\" r=\"7.0\" style=\"fill:rgb(96, 128, 232);stroke:black;stroke-width:1.0\"/><circle cx=\"380\" cy=\"640\" r=\"7.0\" style=\"fill:rgb(60, 79, 195);stroke:black;stroke-width:1.0\"/><circle cx=\"405\" cy=\"494\" r=\"7.0\" style=\"fill:rgb(109, 144, 241);stroke:black;stroke-width:1.0\"/><circle cx=\"376\" cy=\"371\" r=\"7.0\" style=\"fill:rgb(234, 123, 96);stroke:black;stroke-width:1.0\"/><circle cx=\"331\" cy=\"535\" r=\"7.0\" style=\"fill:rgb(70, 93, 207);stroke:black;stroke-width:1.0\"/><circle cx=\"232\" cy=\"408\" r=\"7.0\" style=\"fill:rgb(180, 205, 250);stroke:black;stroke-width:1.0\"/><circle cx=\"327\" cy=\"356\" r=\"7.0\" style=\"fill:rgb(245, 161, 130);stroke:black;stroke-width:1.0\"/><circle cx=\"294\" cy=\"379\" r=\"7.0\" style=\"fill:rgb(245, 193, 168);stroke:black;stroke-width:1.0\"/><circle cx=\"253\" cy=\"397\" r=\"7.0\" style=\"fill:rgb(170, 198, 253);stroke:black;stroke-width:1.0\"/><circle cx=\"269\" cy=\"360\" r=\"7.0\" style=\"fill:rgb(219, 220, 222);stroke:black;stroke-width:1.0\"/><circle cx=\"294\" cy=\"360\" r=\"7.0\" style=\"fill:rgb(247, 173, 143);stroke:black;stroke-width:1.0\"/><circle cx=\"257\" cy=\"371\" r=\"7.0\" style=\"fill:rgb(222, 219, 218);stroke:black;stroke-width:1.0\"/><circle cx=\"302\" cy=\"367\" r=\"7.0\" style=\"fill:rgb(245, 193, 168);stroke:black;stroke-width:1.0\"/><circle cx=\"273\" cy=\"386\" r=\"7.0\" style=\"fill:rgb(227, 217, 211);stroke:black;stroke-width:1.0\"/><circle cx=\"232\" cy=\"367\" r=\"7.0\" style=\"fill:rgb(159, 190, 254);stroke:black;stroke-width:1.0\"/><circle cx=\"126\" cy=\"476\" r=\"7.0\" style=\"fill:rgb(86, 115, 224);stroke:black;stroke-width:1.0\"/><circle cx=\"396\" cy=\"256\" r=\"7.0\" style=\"fill:rgb(214, 219, 228);stroke:black;stroke-width:1.0\"/><circle cx=\"388\" cy=\"274\" r=\"7.0\" style=\"fill:rgb(219, 220, 222);stroke:black;stroke-width:1.0\"/><circle cx=\"421\" cy=\"263\" r=\"7.0\" style=\"fill:rgb(199, 214, 240);stroke:black;stroke-width:1.0\"/><circle cx=\"388\" cy=\"237\" r=\"7.0\" style=\"fill:rgb(163, 193, 254);stroke:black;stroke-width:1.0\"/><circle cx=\"487\" cy=\"420\" r=\"7.0\" style=\"fill:rgb(96, 128, 232);stroke:black;stroke-width:1.0\"/><circle cx=\"117\" cy=\"323\" r=\"7.0\" style=\"fill:rgb(130, 165, 251);stroke:black;stroke-width:1.0\"/><circle cx=\"122\" cy=\"293\" r=\"7.0\" style=\"fill:rgb(130, 165, 251);stroke:black;stroke-width:1.0\"/><circle cx=\"355\" cy=\"233\" r=\"7.0\" style=\"fill:rgb(170, 198, 253);stroke:black;stroke-width:1.0\"/><circle cx=\"191\" cy=\"382\" r=\"7.0\" style=\"fill:rgb(109, 144, 241);stroke:black;stroke-width:1.0\"/><text font-size=\"12\" x=\"657\" y=\"438\">Myriel</text><text font-size=\"12\" x=\"841\" y=\"509\">Napoleon</text><text font-size=\"12\" x=\"607\" y=\"404\">Mlle Baptistine</text><text font-size=\"12\" x=\"603\" y=\"419\">Mme Magloire</text><text font-size=\"12\" x=\"850\" y=\"468\">Countess de Lo</text><text font-size=\"12\" x=\"817\" y=\"546\">Geborand</text><text font-size=\"12\" x=\"784\" y=\"576\">Champtercier</text><text font-size=\"12\" x=\"743\" y=\"594\">Cravatte</text><text font-size=\"12\" x=\"759\" y=\"494\">Count</text><text font-size=\"12\" x=\"850\" y=\"423\">Old man</text><text font-size=\"12\" x=\"648\" y=\"207\">Labarre</text><text font-size=\"12\" x=\"476\" y=\"341\">Valjean</text><text font-size=\"12\" x=\"439\" y=\"188\">Marguerite</text><text font-size=\"12\" x=\"558\" y=\"516\">Mme Der</text><text font-size=\"12\" x=\"591\" y=\"162\">Isabeau</text><text font-size=\"12\" x=\"607\" y=\"486\">Gervais</text><text font-size=\"12\" x=\"296\" y=\"251\">Tholomyes</text><text font-size=\"12\" x=\"251\" y=\"214\">Listolier</text><text font-size=\"12\" x=\"267\" y=\"203\">Fameuil</text><text font-size=\"12\" x=\"251\" y=\"233\">Blacheville</text><text font-size=\"12\" x=\"271\" y=\"233\">Favourite</text><text font-size=\"12\" x=\"287\" y=\"218\">Dahlia</text><text font-size=\"12\" x=\"292\" y=\"203\">Zephine</text><text font-size=\"12\" x=\"357\" y=\"278\">Fantine</text><text font-size=\"12\" x=\"415\" y=\"326\">Mme Thenardier</text><text font-size=\"12\" x=\"423\" y=\"300\">Thenardier</text><text font-size=\"12\" x=\"435\" y=\"371\">Cosette</text><text font-size=\"12\" x=\"431\" y=\"330\">Javert</text><text font-size=\"12\" x=\"575\" y=\"330\">Fauchelevent</text><text font-size=\"12\" x=\"509\" y=\"263\">Bamatabois</text><text font-size=\"12\" x=\"320\" y=\"449\">Perpetue</text><text font-size=\"12\" x=\"398\" y=\"389\">Simplice</text><text font-size=\"12\" x=\"677\" y=\"263\">Scaufflaire</text><text font-size=\"12\" x=\"558\" y=\"367\">Woman1</text><text font-size=\"12\" x=\"558\" y=\"289\">Judge</text><text font-size=\"12\" x=\"546\" y=\"266\">Champmathieu</text><text font-size=\"12\" x=\"558\" y=\"237\">Brevet</text><text font-size=\"12\" x=\"591\" y=\"274\">Chenildieu</text><text font-size=\"12\" x=\"583\" y=\"251\">Cochepaille</text><text font-size=\"12\" x=\"456\" y=\"486\">Pontmercy</text><text font-size=\"12\" x=\"435\" y=\"95\">Boulatruelle</text><text font-size=\"12\" x=\"365\" y=\"311\">Eponine</text><text font-size=\"12\" x=\"402\" y=\"210\">Anzelma</text><text font-size=\"12\" x=\"521\" y=\"386\">Woman2</text><text font-size=\"12\" x=\"648\" y=\"333\">Mother Innocent</text><text font-size=\"12\" x=\"726\" y=\"307\">Gribier</text><text font-size=\"12\" x=\"50\" y=\"47\">Jondrette</text><text font-size=\"12\" x=\"152\" y=\"188\">Mme Burgon</text><text font-size=\"12\" x=\"287\" y=\"330\">Gavroche</text><text font-size=\"12\" x=\"406\" y=\"427\">Gillenormand</text><text font-size=\"12\" x=\"365\" y=\"501\">Magnon</text><text font-size=\"12\" x=\"419\" y=\"456\">Mlle Gillenormand</text><text font-size=\"12\" x=\"456\" y=\"606\">Mme Pontmercy</text><text font-size=\"12\" x=\"390\" y=\"647\">Mlle Vaubois</text><text font-size=\"12\" x=\"415\" y=\"501\">Lt Gillenormand</text><text font-size=\"12\" x=\"386\" y=\"378\">Marius</text><text font-size=\"12\" x=\"341\" y=\"542\">Baroness</text><text font-size=\"12\" x=\"242\" y=\"415\">Mabeuf</text><text font-size=\"12\" x=\"337\" y=\"363\">Enjolras</text><text font-size=\"12\" x=\"304\" y=\"386\">Combeferre</text><text font-size=\"12\" x=\"263\" y=\"404\">Prouvaire</text><text font-size=\"12\" x=\"279\" y=\"367\">Feuilly</text><text font-size=\"12\" x=\"304\" y=\"367\">Courfeyrac</text><text font-size=\"12\" x=\"267\" y=\"378\">Bahorel</text><text font-size=\"12\" x=\"312\" y=\"374\">Bossuet</text><text font-size=\"12\" x=\"283\" y=\"393\">Joly</text><text font-size=\"12\" x=\"242\" y=\"374\">Grantaire</text><text font-size=\"12\" x=\"136\" y=\"483\">MotherPlutarch</text><text font-size=\"12\" x=\"406\" y=\"263\">Gueulemer</text><text font-size=\"12\" x=\"398\" y=\"281\">Babet</text><text font-size=\"12\" x=\"431\" y=\"270\">Claquesous</text><text font-size=\"12\" x=\"398\" y=\"244\">Montparnasse</text><text font-size=\"12\" x=\"497\" y=\"427\">Toussaint</text><text font-size=\"12\" x=\"127\" y=\"330\">Child1</text><text font-size=\"12\" x=\"132\" y=\"300\">Child2</text><text font-size=\"12\" x=\"365\" y=\"240\">Brujon</text><text font-size=\"12\" x=\"201\" y=\"389\">Mme Hucheloup</text></svg>"
      ],
      "text/plain": [
       "<IPython.core.display.SVG object>"
      ]
     },
     "execution_count": 21,
     "metadata": {},
     "output_type": "execute_result"
    }
   ],
   "source": [
    "SVG(image)"
   ]
  },
  {
   "cell_type": "code",
   "execution_count": 22,
   "metadata": {},
   "outputs": [],
   "source": [
    "top_nodes = top_k(scores, 10)"
   ]
  },
  {
   "cell_type": "code",
   "execution_count": 23,
   "metadata": {},
   "outputs": [
    {
     "name": "stdout",
     "output_type": "stream",
     "text": [
      "1 Valjean\n",
      "2 Marius\n",
      "3 Myriel\n",
      "4 Cosette\n",
      "5 Enjolras\n",
      "6 Thenardier\n",
      "7 Courfeyrac\n",
      "8 Gavroche\n",
      "9 Fantine\n",
      "10 Javert\n"
     ]
    }
   ],
   "source": [
    "for i, node in enumerate(top_nodes):\n",
    "    print(i + 1, names[node])"
   ]
  },
  {
   "cell_type": "markdown",
   "metadata": {},
   "source": [
    "## Openflights\n"
   ]
  },
  {
   "cell_type": "code",
   "execution_count": null,
   "metadata": {},
   "outputs": [],
   "source": [
    "graph = openflights"
   ]
  },
  {
   "cell_type": "code",
   "execution_count": null,
   "metadata": {},
   "outputs": [],
   "source": [
    "adjacency = graph.adjacency\n",
    "position = graph.position\n",
    "names = graph.names"
   ]
  },
  {
   "cell_type": "code",
   "execution_count": null,
   "metadata": {},
   "outputs": [],
   "source": [
    "image = svg_graph(adjacency, position, width=800, height=400, display_node_weight=True, display_edges=False)"
   ]
  },
  {
   "cell_type": "code",
   "execution_count": null,
   "metadata": {},
   "outputs": [],
   "source": [
    "SVG(image)"
   ]
  },
  {
   "cell_type": "markdown",
   "metadata": {},
   "source": [
    "## To do\n",
    "\n",
    "* Display the same world map with PageRank scores.\n",
    "* List the 10 best ranked airports, and compare with the 10 airports of highest traffic.\n",
    "* Display the world map with Personalized PageRank scores, starting from Tokyo international airport.\n",
    "* List the corresponding 10 best ranked airports."
   ]
  },
  {
   "cell_type": "code",
   "execution_count": null,
   "metadata": {},
   "outputs": [],
   "source": [
    "pagerank = PageRank()"
   ]
  },
  {
   "cell_type": "code",
   "execution_count": null,
   "metadata": {},
   "outputs": [],
   "source": [
    "scores = pagerank.fit_transform(adjacency)"
   ]
  },
  {
   "cell_type": "code",
   "execution_count": null,
   "metadata": {},
   "outputs": [],
   "source": [
    "image = svg_graph(adjacency, position, scores=np.log(scores), node_order=np.argsort(scores), width=800, height=400, display_node_weight=True, display_edges=False)"
   ]
  },
  {
   "cell_type": "code",
   "execution_count": null,
   "metadata": {},
   "outputs": [],
   "source": [
    "SVG(image)"
   ]
  },
  {
   "cell_type": "code",
   "execution_count": null,
   "metadata": {},
   "outputs": [],
   "source": [
    "top_nodes = top_k(scores, 10)"
   ]
  },
  {
   "cell_type": "code",
   "execution_count": null,
   "metadata": {},
   "outputs": [],
   "source": [
    "for i, node in enumerate(top_nodes):\n",
    "    print(i + 1, names[node])"
   ]
  },
  {
   "cell_type": "code",
   "execution_count": null,
   "metadata": {},
   "outputs": [],
   "source": [
    "tokyo = 1084"
   ]
  },
  {
   "cell_type": "code",
   "execution_count": null,
   "metadata": {},
   "outputs": [],
   "source": [
    "pagerank = PageRank()"
   ]
  },
  {
   "cell_type": "code",
   "execution_count": null,
   "metadata": {},
   "outputs": [],
   "source": [
    "scores = pagerank.fit_transform(adjacency, seeds = {tokyo: 1})"
   ]
  },
  {
   "cell_type": "code",
   "execution_count": null,
   "metadata": {},
   "outputs": [],
   "source": [
    "image = svg_graph(adjacency, position, scores=np.log(scores), node_order=np.argsort(scores), width=800, height=400, display_node_weight=True, display_edges=False) "
   ]
  },
  {
   "cell_type": "code",
   "execution_count": null,
   "metadata": {},
   "outputs": [],
   "source": [
    "SVG(image)"
   ]
  },
  {
   "cell_type": "markdown",
   "metadata": {},
   "source": [
    "## 2. Directed graphs"
   ]
  },
  {
   "cell_type": "markdown",
   "metadata": {},
   "source": [
    "## Wikipedia Vitals"
   ]
  },
  {
   "cell_type": "code",
   "execution_count": null,
   "metadata": {},
   "outputs": [],
   "source": [
    "graph = wikivitals"
   ]
  },
  {
   "cell_type": "code",
   "execution_count": null,
   "metadata": {},
   "outputs": [],
   "source": [
    "adjacency = graph.adjacency\n",
    "names = graph.names"
   ]
  },
  {
   "cell_type": "markdown",
   "metadata": {},
   "source": [
    "## To do\n",
    "\n",
    "* List the 10 best ranked pages of Wikipedia Vitals.\n",
    "* Compare with the 10 nodes of highest out-degrees and the 10 nodes of highest in-degrees. Interpret the results.\n",
    "* Which article of Wikipedia Vitals is in the top-20 of PageRank but not in the top-20 of in-degrees?"
   ]
  },
  {
   "cell_type": "code",
   "execution_count": null,
   "metadata": {},
   "outputs": [],
   "source": [
    "pagerank = PageRank(solver='lanczos')"
   ]
  },
  {
   "cell_type": "code",
   "execution_count": null,
   "metadata": {},
   "outputs": [],
   "source": [
    "scores = pagerank.fit_transform(adjacency)"
   ]
  },
  {
   "cell_type": "markdown",
   "metadata": {},
   "source": [
    "## To do\n",
    "\n",
    "* List the 20 closest pages to **Picasso** in Wikipedia Vitals. What is the best ranked painter other than Picasso?\n",
    "* List the 20 closest pages to both **Cat** and **Dog** in Wikipedia Vitals.\n",
    "* In both cases, propose a method to get the 20 closest pages **specifically** related to the target(s). <br>\n",
    "**Hint:** Consider the difference between two PageRank scores."
   ]
  },
  {
   "cell_type": "code",
   "execution_count": null,
   "metadata": {},
   "outputs": [],
   "source": [
    "picasso = 4936"
   ]
  },
  {
   "cell_type": "code",
   "execution_count": null,
   "metadata": {},
   "outputs": [],
   "source": [
    "cat = 1401"
   ]
  },
  {
   "cell_type": "code",
   "execution_count": null,
   "metadata": {},
   "outputs": [],
   "source": [
    "dog = 1395"
   ]
  },
  {
   "cell_type": "markdown",
   "metadata": {},
   "source": [
    "## 3. Bipartite graphs"
   ]
  },
  {
   "cell_type": "markdown",
   "metadata": {},
   "source": [
    "## Cinema"
   ]
  },
  {
   "cell_type": "code",
   "execution_count": null,
   "metadata": {},
   "outputs": [],
   "source": [
    "graph = cinema"
   ]
  },
  {
   "cell_type": "code",
   "execution_count": null,
   "metadata": {},
   "outputs": [],
   "source": [
    "biadjacency = graph.biadjacency\n",
    "movies = graph.names_row\n",
    "actors = graph.names_col"
   ]
  },
  {
   "cell_type": "markdown",
   "metadata": {},
   "source": [
    "## To do"
   ]
  },
  {
   "cell_type": "markdown",
   "metadata": {},
   "source": [
    "* List the top-10 movies in terms of PageRank.\n",
    "* List the 5 closest movies to **Mon Oncle**. \n",
    "* List the 5 closest actors to **Catherine Deneuve**."
   ]
  },
  {
   "cell_type": "code",
   "execution_count": null,
   "metadata": {},
   "outputs": [],
   "source": [
    "pagerank = BiPageRank()"
   ]
  },
  {
   "cell_type": "code",
   "execution_count": null,
   "metadata": {},
   "outputs": [],
   "source": [
    "pagerank.fit(biadjacency)"
   ]
  },
  {
   "cell_type": "markdown",
   "metadata": {},
   "source": [
    "## 4. Directed graphs as bipartite graphs"
   ]
  },
  {
   "cell_type": "markdown",
   "metadata": {},
   "source": [
    "Directed graphs can be represented as bipartite graphs by duplicating each node, one as source of edges and the other as destination of edges. The biadjacency matrix of the bipartite graph is simply the adjacency matrix of the directed graph. \n",
    "\n",
    "The PageRank scores obtained with the bipartite graph differ from those obtained with the directed graph: they correspond to the **forward-backward** random walk in the directed graph, edges being alternately followed in forward and backward directions."
   ]
  },
  {
   "cell_type": "markdown",
   "metadata": {},
   "source": [
    "## Wikipedia Vitals"
   ]
  },
  {
   "cell_type": "code",
   "execution_count": null,
   "metadata": {},
   "outputs": [],
   "source": [
    "graph = wikivitals"
   ]
  },
  {
   "cell_type": "code",
   "execution_count": null,
   "metadata": {},
   "outputs": [],
   "source": [
    "adjacency = graph.adjacency\n",
    "names = graph.names"
   ]
  },
  {
   "cell_type": "markdown",
   "metadata": {},
   "source": [
    "## To do\n",
    "\n",
    "Do the same experiments as above using BiPageRank:\n",
    "* List the 10 best ranked pages of Wikipedia Vitals. Give 2 rankings: one for rows, the other for columns.\n",
    "* Compare with the 10 nodes of highest out-degrees and the 10 nodes of highest in-degrees, respectively.<br> Interpret the results."
   ]
  },
  {
   "cell_type": "markdown",
   "metadata": {},
   "source": [
    "## To do\n",
    "\n",
    "Using BiPageRank:\n",
    "* List the 20 closest pages to **Picasso** in Wikipedia Vitals. \n",
    "* List the 20 closest pages to both **Cat** and **Dog** in Wikipedia Vitals.\n",
    "\n",
    "In your opinion, what is the best algorithm for finding related pages in Wikipedia, PageRank or BiPageRank?<br>\n",
    "Justify your answer."
   ]
  }
 ],
 "metadata": {
  "anaconda-cloud": {},
  "hide_input": false,
  "kernelspec": {
   "display_name": "Python 3",
   "language": "python",
   "name": "python3"
  },
  "language_info": {
   "codemirror_mode": {
    "name": "ipython",
    "version": 3
   },
   "file_extension": ".py",
   "mimetype": "text/x-python",
   "name": "python",
   "nbconvert_exporter": "python",
   "pygments_lexer": "ipython3",
   "version": "3.7.3"
  }
 },
 "nbformat": 4,
 "nbformat_minor": 1
}
