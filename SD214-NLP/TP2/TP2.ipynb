{
 "cells": [
  {
   "cell_type": "markdown",
   "id": "emerging-missile",
   "metadata": {},
   "source": [
    "# Text segmentation using Hidden Markov Model\n",
    "\n",
    "## Rémi JAYLET & Hugues RENE-BAZIN"
   ]
  },
  {
   "cell_type": "markdown",
   "id": "editorial-tension",
   "metadata": {},
   "source": [
    "### Imports"
   ]
  },
  {
   "cell_type": "code",
   "execution_count": 27,
   "id": "continent-syntax",
   "metadata": {},
   "outputs": [],
   "source": [
    "from matplotlib import pyplot as plt\n",
    "import numpy as np\n",
    "import os"
   ]
  },
  {
   "cell_type": "markdown",
   "id": "interior-majority",
   "metadata": {},
   "source": [
    "### Question 1"
   ]
  },
  {
   "cell_type": "markdown",
   "id": "composed-windsor",
   "metadata": {},
   "source": [
    "The initial vector is $\\pi = \\begin{pmatrix}1,0\\end{pmatrix}$ as the mails begins in the state 1 (hypothesis). "
   ]
  },
  {
   "cell_type": "markdown",
   "id": "drawn-aurora",
   "metadata": {},
   "source": [
    "### Question 2"
   ]
  },
  {
   "cell_type": "markdown",
   "id": "streaming-black",
   "metadata": {},
   "source": [
    "The probability to move from state 1 to state 2 :\n",
    "$A[1,2] = 0.000781921964187974$. \n",
    "\n",
    "\n",
    "The probability to remain in state 2 :\n",
    "$A[2,2] = 1$\n",
    "\n",
    "The lower probability : the transition from 2 to 1 as it will always be 0.\n",
    "\n",
    "The higher probability : the transition from 2 to 2 as it will always be 1.\n",
    "\n",
    "\n",
    "\n"
   ]
  },
  {
   "cell_type": "markdown",
   "id": "civil-occurrence",
   "metadata": {},
   "source": [
    "### Question 3"
   ]
  },
  {
   "cell_type": "code",
   "execution_count": 6,
   "id": "lasting-finish",
   "metadata": {},
   "outputs": [],
   "source": [
    "P = np.loadtxt('PerlScriptAndModel/PerlScriptAndModel/P.dat')"
   ]
  },
  {
   "cell_type": "code",
   "execution_count": 7,
   "id": "blind-electron",
   "metadata": {},
   "outputs": [
    {
     "name": "stdout",
     "output_type": "stream",
     "text": [
      "The size of B is (256, 2) (number of caracters, number of states)\n"
     ]
    }
   ],
   "source": [
    "print(f'The size of B is {P.shape} (number of caracters, number of states)')"
   ]
  },
  {
   "cell_type": "markdown",
   "id": "pretty-solution",
   "metadata": {},
   "source": [
    "### Question 4"
   ]
  },
  {
   "cell_type": "markdown",
   "id": "turned-model",
   "metadata": {},
   "source": [
    "#### Initialization"
   ]
  },
  {
   "cell_type": "code",
   "execution_count": 10,
   "id": "union-dollar",
   "metadata": {},
   "outputs": [],
   "source": [
    "Pi0 = np.array([1,0])  # initial state\n",
    "A = np.array([[0.999218078035812, 0.000781921964187974], [0, 1]])  # transition matrix\n",
    "P = np.loadtxt('PerlScriptAndModel/PerlScriptAndModel/P.dat')  #distribution\n",
    "B = np.loadtxt(\"PerlScriptAndModel/PerlScriptAndModel/P.text\")"
   ]
  },
  {
   "cell_type": "markdown",
   "id": "pretty-solution",
   "metadata": {},
   "source": [
    "#### Implementation of Viterbi function"
   ]
  },
  {
   "cell_type": "code",
   "execution_count": 15,
   "id": "reverse-procurement",
   "metadata": {},
   "outputs": [],
   "source": [
    "def viterbi(X,Pi0,A,P):\n",
    "    \"\"\"\n",
    "        Viterbi Algorithm Implementation\n",
    "\n",
    "        Keyword arguments:\n",
    "            - obs: sequence of observation\n",
    "            - states:list of states\n",
    "            - start_prob:vector of the initial probabilities\n",
    "            - trans: transition matrix\n",
    "            - emission_prob: emission probability matrix\n",
    "        Returns:\n",
    "            - seq: sequence of state\n",
    "    \"\"\"\n",
    "\n",
    "    #pour eviter d avoir des valeurs nulles dans le log\n",
    "    realmin = np.finfo(np.double).tiny\n",
    "    A = np.log(A + realmin)\n",
    "    Pi0 = np.log(Pi0 + realmin)\n",
    "    P = np.log(P + realmin)\n",
    "    \n",
    "    taille = np.shape(X) #X.shape[0]\n",
    "    T = taille[0] #nombre d observations\n",
    "    N = Pi0.shape[0]#nombre des etats du modele\n",
    "    \n",
    "    #Initialisation\n",
    "    logl = np.zeros((T,N))\n",
    "    bcktr = np.zeros((T-1,N))\n",
    "    \n",
    "    logl[0,:]=Pi0 + P[X[0],:]\n",
    "    for t in range(1,(T-1)):\n",
    "        temp = A + logl[t,:].reshape((N,1))\n",
    "        bcktr[t,:] = np.argmax(temp, axis = 0)\n",
    "        logl[t+1,:] = P[X[t+1],:] + np.amax(temp, axis = 0)\n",
    "    \n",
    "    path = np.zeros(T, dtype = int)\n",
    "    path[T-1] = np.argmax(logl[T-1,:])\n",
    "    \n",
    "    for t in range(T-2,-1,-1):\n",
    "        path[t] = bcktr[t,path[t+1]]\n",
    "        \n",
    "    return logl, path"
   ]
  },
  {
   "cell_type": "markdown",
   "id": "pretty-solution",
   "metadata": {},
   "source": [
    "#### Results"
   ]
  },
  {
   "cell_type": "code",
   "execution_count": 16,
   "id": "charitable-tourism",
   "metadata": {},
   "outputs": [],
   "source": [
    "mails = []\n",
    "paths = []\n",
    "for i in range(11,31):\n",
    "    mails.append(np.loadtxt(\"dat/dat/mail\" + str(i) + \".dat\", dtype = int))\n",
    "    paths.append(viterbi(mails[i-11], Pi0, A, B)[1])"
   ]
  },
  {
   "cell_type": "markdown",
   "id": "pretty-solution",
   "metadata": {},
   "source": [
    "#### Visualizing segmentation"
   ]
  },
  {
   "cell_type": "code",
   "execution_count": 29,
   "id": "characteristic-integrity",
   "metadata": {},
   "outputs": [
    {
     "name": "stdout",
     "output_type": "stream",
     "text": [
      "id : 15\n",
      "Body starts at : 2183\n"
     ]
    }
   ],
   "source": [
    "print(\"id :\", 15) # choose a mail id\n",
    "path = paths[15-11]\n",
    "path_file = \"path.txt\"\n",
    "\n",
    "with open(path_file, \"w\") as file:\n",
    "    for value in path:\n",
    "        file.write(str(value+1))\n",
    "        \n",
    "for i in range(1, len(path)):\n",
    "    if path[i] != path[i-1]:\n",
    "        print(\"Body starts at :\", i)"
   ]
  },
  {
   "cell_type": "code",
   "execution_count": 30,
   "id": "moral-surname",
   "metadata": {},
   "outputs": [
    {
     "name": "stdout",
     "output_type": "stream",
     "text": [
      "\n"
     ]
    }
   ],
   "source": [
    "os.system(\"perl PerlScriptAndModel/PerlScriptAndModel/segment.pl dat/dat/mail\"+str(15)+\".txt \" + path_file + \"> mail.txt\")\n",
    "with open(\"mail.txt\", \"r\") as file:\n",
    "    print(file.read())"
   ]
  }
 ],
 "metadata": {
  "kernelspec": {
   "display_name": "Python 3",
   "language": "python",
   "name": "python3"
  },
  "language_info": {
   "codemirror_mode": {
    "name": "ipython",
    "version": 3
   },
   "file_extension": ".py",
   "mimetype": "text/x-python",
   "name": "python",
   "nbconvert_exporter": "python",
   "pygments_lexer": "ipython3",
   "version": "3.7.3"
  }
 },
 "nbformat": 4,
 "nbformat_minor": 5
}
