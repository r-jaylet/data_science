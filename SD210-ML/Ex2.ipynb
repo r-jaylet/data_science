{
 "cells": [
  {
   "cell_type": "markdown",
   "metadata": {
    "colab_type": "text",
    "id": "iafPdtuncbq7"
   },
   "source": [
    "<h1><center>MNIST classification using Keras<center></h1>"
   ]
  },
  {
   "cell_type": "markdown",
   "metadata": {
    "colab_type": "text",
    "id": "I4VrCB5La5rD"
   },
   "source": [
    "# Importing Keras"
   ]
  },
  {
   "cell_type": "code",
   "execution_count": 1,
   "metadata": {
    "colab": {},
    "colab_type": "code",
    "id": "OlKZ3Hnas7B4"
   },
   "outputs": [
    {
     "name": "stderr",
     "output_type": "stream",
     "text": [
      "C:\\Users\\remij\\Miniconda3\\lib\\site-packages\\numpy\\_distributor_init.py:32: UserWarning: loaded more than 1 DLL from .libs:\n",
      "C:\\Users\\remij\\Miniconda3\\lib\\site-packages\\numpy\\.libs\\libopenblas.PYQHXLVVQ7VESDPUVUADXEVJOBGHJPAY.gfortran-win_amd64.dll\n",
      "C:\\Users\\remij\\Miniconda3\\lib\\site-packages\\numpy\\.libs\\libopenblas.WCDJNK7YVMPZQ2ME2ZZHJJRJ3JIKNDB7.gfortran-win_amd64.dll\n",
      "  stacklevel=1)\n"
     ]
    },
    {
     "name": "stdout",
     "output_type": "stream",
     "text": [
      "Using tensorflow version 2.4.1\n",
      "Using keras version 2.4.3\n"
     ]
    }
   ],
   "source": [
    "# Importing the Keras main module forcing tensorflow 1.x backend\n",
    "import tensorflow as tf\n",
    "import keras\n",
    "print(\"Using tensorflow version \" + str(tf.__version__))\n",
    "print(\"Using keras version \" + str(keras.__version__))"
   ]
  },
  {
   "cell_type": "markdown",
   "metadata": {
    "colab_type": "text",
    "id": "s_QLz9_jbRZq"
   },
   "source": [
    "## Loading and preparing the MNIST dataset\n",
    "\n",
    "Again, load the dataset via ```keras.datasets```, turn train and test labels into one-hot encoding, and reshape and normalize data as in the first exercise. "
   ]
  },
  {
   "cell_type": "code",
   "execution_count": 2,
   "metadata": {
    "cellView": "both",
    "colab": {},
    "colab_type": "code",
    "id": "gG83hGyVmijn"
   },
   "outputs": [],
   "source": [
    "from keras.datasets import mnist\n",
    "(x_train, y_train), (x_test, y_test) = mnist.load_data()"
   ]
  },
  {
   "cell_type": "code",
   "execution_count": 3,
   "metadata": {
    "colab": {},
    "colab_type": "code",
    "id": "lQbkllF8mnaf"
   },
   "outputs": [
    {
     "data": {
      "text/plain": [
       "(60000, 10)"
      ]
     },
     "execution_count": 3,
     "metadata": {},
     "output_type": "execute_result"
    }
   ],
   "source": [
    "from keras.utils.np_utils import to_categorical\n",
    "\n",
    "train_labels=to_categorical(y_train)\n",
    "test_labels=to_categorical(y_test)\n",
    "\n",
    "train_labels.shape"
   ]
  },
  {
   "cell_type": "code",
   "execution_count": 5,
   "metadata": {
    "colab": {},
    "colab_type": "code",
    "id": "ptTRSDo5nJyZ"
   },
   "outputs": [],
   "source": [
    "# Reshape to proper images with 1 color channel according to backend scheme\n",
    "img_rows, img_cols = x_train.shape[1], x_train.shape[2]\n",
    "\n",
    "train_images = x_train.reshape((x_train.shape[0],img_rows*img_cols))\n",
    "test_images = x_test.reshape((x_test.shape[0],img_rows*img_cols))\n",
    "\n",
    "# Cast pixels from uint8 to float32\n",
    "train_images = train_images.astype('float32')\n",
    "test_images = test_images.astype('float32')\n",
    "\n",
    "\n",
    "# Now let us normalize the images so that they have zero mean and standard deviation\n",
    "# Hint: are real testing data statistics known at training time ?\n",
    "\n",
    "from sklearn.preprocessing import StandardScaler\n",
    "\n",
    "scaler = StandardScaler()\n",
    "scaler.fit(train_images)\n",
    "train_images=scaler.transform(train_images)\n",
    "\n",
    "scaler.fit(test_images)\n",
    "test_images=scaler.transform(test_images)"
   ]
  },
  {
   "cell_type": "markdown",
   "metadata": {
    "colab_type": "text",
    "id": "lnKYaP-KVoOs"
   },
   "source": [
    "## Defining the neural network architecture (i.e., the network model)\n",
    "\n",
    "You can take a look at this [cheatsheet](https://s3.amazonaws.com/assets.datacamp.com/blog_assets/Keras_Cheat_Sheet_Python.pdf) for some basic commands to use keras.\n",
    "\n",
    "First, try to replicate the classifier of the first exercise. Secondly, create a fully connected network.\n",
    "For the fully connected layer, you can for example use this architecture: \n",
    "$$ (784) \\rightarrow (300) \\rightarrow (10) $$\n",
    "For this first implementation of the network, use only sigmoid activations in the hidden layer. Remember to use the right output activation function ! "
   ]
  },
  {
   "cell_type": "code",
   "execution_count": 6,
   "metadata": {
    "colab": {},
    "colab_type": "code",
    "id": "Pnd3q1V3nk8v"
   },
   "outputs": [],
   "source": [
    "# The Sequential module is a container for more complex NN elements and\n",
    "# defines a loop-less NN architecture\n",
    "from keras.models import Sequential\n",
    "from keras.layers import Dense, Activation, Flatten\n",
    "\n",
    "input_shape = 784\n",
    "output_shape = 10\n",
    "\n",
    "model = Sequential()\n",
    "model.add(Dense(300, input_dim=input_shape, activation='sigmoid'))\n",
    "model.add(Dense(output_shape, activation='sigmoid'))"
   ]
  },
  {
   "cell_type": "markdown",
   "metadata": {
    "colab_type": "text",
    "id": "7g2PNEiwWBLw"
   },
   "source": [
    "Instantiate a SGD optimizer with a tentative learning rate of $\\\\eta = 10^{-2}$ and, using the appropriate loss function (which is called, in keras, ```'categorical_crossentropy'```) and compile the model."
   ]
  },
  {
   "cell_type": "code",
   "execution_count": 7,
   "metadata": {
    "colab": {
     "base_uri": "https://localhost:8080/",
     "height": 34
    },
    "colab_type": "code",
    "id": "SijGZGKjV9J2",
    "outputId": "ae6c8734-e7ec-46e7-f019-6711f5980c67"
   },
   "outputs": [
    {
     "name": "stdout",
     "output_type": "stream",
     "text": [
      "Model: \"sequential\"\n",
      "_________________________________________________________________\n",
      "Layer (type)                 Output Shape              Param #   \n",
      "=================================================================\n",
      "dense (Dense)                (None, 300)               235500    \n",
      "_________________________________________________________________\n",
      "dense_1 (Dense)              (None, 10)                3010      \n",
      "=================================================================\n",
      "Total params: 238,510\n",
      "Trainable params: 238,510\n",
      "Non-trainable params: 0\n",
      "_________________________________________________________________\n"
     ]
    }
   ],
   "source": [
    "# The optimizers module provides a number of optimization algorithms for updating\n",
    "# a netwok parameters accoridng to the computed error gradints\n",
    "from keras import optimizers\n",
    "\n",
    "eta = 0.01\n",
    "sgd = optimizers.SGD(lr = eta)\n",
    "model.compile(loss='categorical_crossentropy',optimizer='sgd',metrics=['accuracy'])\n",
    "\n",
    "# We can now have a look at the defined model topology\n",
    "model.summary()"
   ]
  },
  {
   "cell_type": "markdown",
   "metadata": {
    "colab_type": "text",
    "id": "u-WqMtSAWTRp"
   },
   "source": [
    "## Training the network\n",
    "\n",
    "Train the model for 10 epochs using the ```.fit()``` method, validating the model at each epoch and keeping track of the training history for later plotting. Make sure you enable ```.fit()``` verbose mode in order to visualize the training.\n",
    "\n",
    "In order to accelerate training, use the ```batch_size``` option of ```.fit()```, which will process a batch of examples at the same time, and make one update for all of them, averaged over the gradients for each training example of the batch. You can begin with a small size, and experiment with a larger size later."
   ]
  },
  {
   "cell_type": "code",
   "execution_count": 8,
   "metadata": {
    "colab": {},
    "colab_type": "code",
    "id": "gTHrbb7uFYWz"
   },
   "outputs": [
    {
     "name": "stdout",
     "output_type": "stream",
     "text": [
      "Epoch 1/10\n",
      "6000/6000 - 8s - loss: 0.4778 - accuracy: 0.8737 - val_loss: 0.3058 - val_accuracy: 0.9118\n",
      "Epoch 2/10\n",
      "6000/6000 - 9s - loss: 0.2845 - accuracy: 0.9177 - val_loss: 0.2698 - val_accuracy: 0.9219\n",
      "Epoch 3/10\n",
      "6000/6000 - 9s - loss: 0.2524 - accuracy: 0.9269 - val_loss: 0.2503 - val_accuracy: 0.9277\n",
      "Epoch 4/10\n",
      "6000/6000 - 9s - loss: 0.2312 - accuracy: 0.9336 - val_loss: 0.2346 - val_accuracy: 0.9322\n",
      "Epoch 5/10\n",
      "6000/6000 - 9s - loss: 0.2148 - accuracy: 0.9389 - val_loss: 0.2237 - val_accuracy: 0.9350\n",
      "Epoch 6/10\n",
      "6000/6000 - 9s - loss: 0.2002 - accuracy: 0.9434 - val_loss: 0.2134 - val_accuracy: 0.9398\n",
      "Epoch 7/10\n",
      "6000/6000 - 9s - loss: 0.1869 - accuracy: 0.9475 - val_loss: 0.2055 - val_accuracy: 0.9423\n",
      "Epoch 8/10\n",
      "6000/6000 - 10s - loss: 0.1753 - accuracy: 0.9502 - val_loss: 0.1950 - val_accuracy: 0.9446\n",
      "Epoch 9/10\n",
      "6000/6000 - 9s - loss: 0.1645 - accuracy: 0.9541 - val_loss: 0.1876 - val_accuracy: 0.9463\n",
      "Epoch 10/10\n",
      "6000/6000 - 9s - loss: 0.1543 - accuracy: 0.9569 - val_loss: 0.1851 - val_accuracy: 0.9475\n"
     ]
    }
   ],
   "source": [
    "# This is where the actual training-testing happens\n",
    "# Number of epochs we want to train\n",
    "epochs = 10\n",
    "\n",
    "history=model.fit(train_images, train_labels, epochs=epochs, batch_size=10,verbose=2,validation_data=(test_images,test_labels))"
   ]
  },
  {
   "cell_type": "markdown",
   "metadata": {
    "colab_type": "text",
    "id": "ODUc5Bq_dMEq"
   },
   "source": [
    "## Visualizing the network performance\n",
    "\n",
    "Visualize the training history using the ```pyplot``` package:\n",
    "- In one graph, plot the train and vaidation loss functions,\n",
    "- In another graph, the train and validation accuracy.\n",
    "By comparing the training the testing curves, what can we conclude about the quality of the training ?"
   ]
  },
  {
   "cell_type": "code",
   "execution_count": 14,
   "metadata": {
    "colab": {},
    "colab_type": "code",
    "id": "QdJrRbyariEw"
   },
   "outputs": [
    {
     "name": "stdout",
     "output_type": "stream",
     "text": [
      "dict_keys(['loss', 'accuracy', 'val_loss', 'val_accuracy'])\n"
     ]
    },
    {
     "data": {
      "image/png": "[encoded data removed]",
      "text/plain": [
       "<Figure size 1080x720 with 1 Axes>"
      ]
     },
     "metadata": {
      "needs_background": "light"
     },
     "output_type": "display_data"
    }
   ],
   "source": [
    "# We now want to plot the train and validation loss functions and accuracy curves\n",
    "print(history.history.keys())\n",
    "import numpy as np\n",
    "import matplotlib.pyplot as plt\n",
    "\n",
    "plt.figure(figsize=(15,10))\n",
    "epochs=np.arange(1,11)\n",
    "loss=history.history['loss']\n",
    "val_loss=history.history['val_loss']\n",
    "plt.plot(epochs,loss,color='r',label='training')\n",
    "plt.plot(epochs,val_loss,color='b',label='test')\n",
    "plt.xlabel('Epoch')\n",
    "plt.ylabel('Loss')\n",
    "plt.title('Losses per epoch')\n",
    "plt.legend()\n",
    "plt.show()"
   ]
  },
  {
   "cell_type": "code",
   "execution_count": 15,
   "metadata": {},
   "outputs": [
    {
     "data": {
      "image/png": "[encoded data removed]",
      "text/plain": [
       "<Figure size 1080x720 with 1 Axes>"
      ]
     },
     "metadata": {
      "needs_background": "light"
     },
     "output_type": "display_data"
    }
   ],
   "source": [
    "#Accuracies\n",
    "plt.figure(figsize=(15,10))\n",
    "epochs=np.arange(1,11)\n",
    "acc=history.history['accuracy']\n",
    "val_acc=history.history['val_accuracy']\n",
    "plt.plot(epochs,acc,color='r',label='traint')\n",
    "plt.plot(epochs,val_acc,color='b',label='test')\n",
    "plt.xlabel('Epoch')\n",
    "plt.ylabel('Acc')\n",
    "plt.title('Acc per epoch')\n",
    "plt.legend()\n",
    "plt.show()"
   ]
  },
  {
   "cell_type": "markdown",
   "metadata": {
    "colab_type": "text",
    "id": "Nr4TdWoEoDzi"
   },
   "source": [
    "## Experiments\n",
    "\n",
    "Note down the performance of the larger network in terms of training and validation accuracy as a reference (save the loss/accuracy graphs of the network).\n",
    "\n",
    "Then, experiment as follow and compare performance with the reference scenario:\n",
    "\n",
    "*  Experiment increasing the size of the batch and compare the performance with reference.\n",
    "*  Experiment replacing the sigmoid activations with Relus and note what happens.\n",
    "*  Experiment with a larger architecture, for example: \n",
    "$$ (784) \\rightarrow (300) \\rightarrow (128) \\rightarrow (84) \\rightarrow (10) $$"
   ]
  },
  {
   "cell_type": "markdown",
   "metadata": {},
   "source": [
    "### 1 - Size of the batch increase"
   ]
  },
  {
   "cell_type": "code",
   "execution_count": 16,
   "metadata": {},
   "outputs": [
    {
     "name": "stdout",
     "output_type": "stream",
     "text": [
      "Epoch 1/10\n",
      "1200/1200 - 2s - loss: 0.8935 - accuracy: 0.7954 - val_loss: 0.5016 - val_accuracy: 0.8783\n",
      "Epoch 2/10\n",
      "1200/1200 - 2s - loss: 0.4435 - accuracy: 0.8846 - val_loss: 0.3837 - val_accuracy: 0.8972\n",
      "Epoch 3/10\n",
      "1200/1200 - 2s - loss: 0.3680 - accuracy: 0.8986 - val_loss: 0.3388 - val_accuracy: 0.9042\n",
      "Epoch 4/10\n",
      "1200/1200 - 2s - loss: 0.3327 - accuracy: 0.9057 - val_loss: 0.3144 - val_accuracy: 0.9089\n",
      "Epoch 5/10\n",
      "1200/1200 - 3s - loss: 0.3109 - accuracy: 0.9107 - val_loss: 0.2983 - val_accuracy: 0.9123\n",
      "Epoch 6/10\n",
      "1200/1200 - 3s - loss: 0.2957 - accuracy: 0.9151 - val_loss: 0.2874 - val_accuracy: 0.9159\n",
      "Epoch 7/10\n",
      "1200/1200 - 3s - loss: 0.2841 - accuracy: 0.9182 - val_loss: 0.2800 - val_accuracy: 0.9172\n",
      "Epoch 8/10\n",
      "1200/1200 - 3s - loss: 0.2746 - accuracy: 0.9209 - val_loss: 0.2728 - val_accuracy: 0.9180\n",
      "Epoch 9/10\n",
      "1200/1200 - 3s - loss: 0.2668 - accuracy: 0.9229 - val_loss: 0.2669 - val_accuracy: 0.9198\n",
      "Epoch 10/10\n",
      "1200/1200 - 3s - loss: 0.2599 - accuracy: 0.9249 - val_loss: 0.2618 - val_accuracy: 0.9234\n"
     ]
    }
   ],
   "source": [
    "model = Sequential()\n",
    "model.add(Dense(300, input_dim = input_shape, activation='sigmoid'))\n",
    "model.add(Dense(output_shape, activation = 'sigmoid'))\n",
    "\n",
    "eta = 0.01\n",
    "sgd = optimizers.SGD(lr = eta)\n",
    "model.compile(loss ='categorical_crossentropy',optimizer='sgd',metrics=['accuracy'])\n",
    "\n",
    "history_size = model.fit(train_images, train_labels, epochs=10, batch_size=50,verbose=2,validation_data=(test_images,test_labels))"
   ]
  },
  {
   "cell_type": "markdown",
   "metadata": {},
   "source": [
    "### 2 - Relus modification"
   ]
  },
  {
   "cell_type": "code",
   "execution_count": 17,
   "metadata": {},
   "outputs": [
    {
     "name": "stdout",
     "output_type": "stream",
     "text": [
      "Epoch 1/10\n",
      "1200/1200 - 2s - loss: nan - accuracy: 0.1931 - val_loss: nan - val_accuracy: 0.0980\n",
      "Epoch 2/10\n",
      "1200/1200 - 2s - loss: nan - accuracy: 0.0987 - val_loss: nan - val_accuracy: 0.0980\n",
      "Epoch 3/10\n",
      "1200/1200 - 2s - loss: nan - accuracy: 0.0987 - val_loss: nan - val_accuracy: 0.0980\n",
      "Epoch 4/10\n",
      "1200/1200 - 3s - loss: nan - accuracy: 0.0987 - val_loss: nan - val_accuracy: 0.0980\n",
      "Epoch 5/10\n",
      "1200/1200 - 3s - loss: nan - accuracy: 0.0987 - val_loss: nan - val_accuracy: 0.0980\n",
      "Epoch 6/10\n",
      "1200/1200 - 3s - loss: nan - accuracy: 0.0987 - val_loss: nan - val_accuracy: 0.0980\n",
      "Epoch 7/10\n",
      "1200/1200 - 3s - loss: nan - accuracy: 0.0987 - val_loss: nan - val_accuracy: 0.0980\n",
      "Epoch 8/10\n",
      "1200/1200 - 3s - loss: nan - accuracy: 0.0987 - val_loss: nan - val_accuracy: 0.0980\n",
      "Epoch 9/10\n",
      "1200/1200 - 3s - loss: nan - accuracy: 0.0987 - val_loss: nan - val_accuracy: 0.0980\n",
      "Epoch 10/10\n",
      "1200/1200 - 3s - loss: nan - accuracy: 0.0987 - val_loss: nan - val_accuracy: 0.0980\n"
     ]
    }
   ],
   "source": [
    "model = Sequential()\n",
    "model.add(Dense(300, input_dim = input_shape, activation='relu'))\n",
    "model.add(Dense(output_shape, activation = 'relu'))\n",
    "\n",
    "eta = 0.01\n",
    "sgd = optimizers.SGD(lr = eta)\n",
    "model.compile(loss ='categorical_crossentropy',optimizer='sgd',metrics=['accuracy'])\n",
    "\n",
    "history_size = model.fit(train_images, train_labels, epochs=10, batch_size=50,verbose=2,validation_data=(test_images,test_labels))"
   ]
  },
  {
   "cell_type": "markdown",
   "metadata": {},
   "source": [
    "### 3 - Larger architecture"
   ]
  },
  {
   "cell_type": "code",
   "execution_count": null,
   "metadata": {},
   "outputs": [
    {
     "name": "stdout",
     "output_type": "stream",
     "text": [
      "Epoch 1/10\n",
      "1200/1200 - 3s - loss: 2.2737 - accuracy: 0.2104 - val_loss: 2.2261 - val_accuracy: 0.2700\n",
      "Epoch 2/10\n",
      "1200/1200 - 3s - loss: 2.1465 - accuracy: 0.4106 - val_loss: 2.0196 - val_accuracy: 0.5495\n",
      "Epoch 3/10\n",
      "1200/1200 - 3s - loss: 1.8067 - accuracy: 0.5430 - val_loss: 1.5534 - val_accuracy: 0.6320\n",
      "Epoch 4/10\n",
      "1200/1200 - 4s - loss: 1.3253 - accuracy: 0.6685 - val_loss: 1.1065 - val_accuracy: 0.7302\n",
      "Epoch 5/10\n"
     ]
    }
   ],
   "source": [
    "model = Sequential()\n",
    "model.add(Dense(300, input_dim = input_shape, activation='sigmoid'))\n",
    "model.add(Dense(128, activation='sigmoid'))\n",
    "model.add(Dense(84, activation='sigmoid'))\n",
    "model.add(Dense(output_shape, activation = 'sigmoid'))\n",
    "\n",
    "eta = 0.01\n",
    "sgd = optimizers.SGD(lr = eta)\n",
    "model.compile(loss ='categorical_crossentropy',optimizer='sgd',metrics=['accuracy'])\n",
    "\n",
    "history_size = model.fit(train_images, train_labels, epochs=10, batch_size=50,verbose=2,validation_data=(test_images,test_labels))"
   ]
  }
 ],
 "metadata": {
  "accelerator": "GPU",
  "colab": {
   "collapsed_sections": [],
   "name": "TP4_1_empty.ipynb",
   "provenance": []
  },
  "kernelspec": {
   "display_name": "Python 3",
   "language": "python",
   "name": "python3"
  },
  "language_info": {
   "codemirror_mode": {
    "name": "ipython",
    "version": 3
   },
   "file_extension": ".py",
   "mimetype": "text/x-python",
   "name": "python",
   "nbconvert_exporter": "python",
   "pygments_lexer": "ipython3",
   "version": "3.7.3"
  }
 },
 "nbformat": 4,
 "nbformat_minor": 1
}
