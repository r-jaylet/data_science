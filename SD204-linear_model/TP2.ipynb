{
 "cells": [
  {
   "cell_type": "markdown",
   "source": [
    "# SD204 - TP2 : Linear regression"
   ],
   "metadata": {
    "collapsed": false
   }
  },
  {
   "cell_type": "markdown",
   "source": [
    "### imports"
   ],
   "metadata": {
    "collapsed": false
   }
  },
  {
   "cell_type": "code",
   "execution_count": null,
   "outputs": [],
   "source": [
    "from scipy.stats import *\n",
    "import numpy as np\n",
    "import pandas as pd\n",
    "import matplotlib.pyplot as plt\n",
    "from sklearn.model_selection import train_test_split\n",
    "from sklearn.linear_model import LinearRegression\n",
    "from sklearn import preprocessing\n",
    "from sklearn.preprocessing import StandardScaler\n",
    "import seaborn as sns"
   ],
   "metadata": {
    "collapsed": false,
    "pycharm": {
     "name": "#%%\n"
    }
   }
  },
  {
   "cell_type": "markdown",
   "source": [
    "### Exercice 1"
   ],
   "metadata": {
    "collapsed": false
   }
  },
  {
   "cell_type": "code",
   "execution_count": null,
   "outputs": [],
   "source": [
    "df = pd.read_csv(\"data_tp_2.csv\", sep = \",\")\n",
    "df"
   ],
   "metadata": {
    "collapsed": false,
    "pycharm": {
     "name": "#%%\n"
    }
   }
  },
  {
   "cell_type": "code",
   "execution_count": null,
   "outputs": [],
   "source": [
    "covariates = df[df.columns[0:df.shape[1]-1]]\n",
    "scores = df[df.columns[-1]]\n",
    "median = covariates.median()\n",
    "std = covariates.std()\n",
    "\n",
    "figure = plt.figure(figsize=(15,4))\n",
    "axes = figure.add_subplot(111)\n",
    "axes.set_xlabel('covariates')\n",
    "axes.xaxis.set_ticks(range(len(covariates.columns)))\n",
    "axes.xaxis.set_ticklabels(list(covariates.columns))\n",
    "axes.scatter(covariates.columns, median, s=10, c='b', marker=\"s\", label='median')\n",
    "axes.scatter(covariates.columns, std, s=10, c='r', marker=\"o\", label='std')\n",
    "plt.legend(loc='upper left')\n",
    "plt.title(\"Median and Std of data\")\n",
    "plt.show()"
   ],
   "metadata": {
    "collapsed": false,
    "pycharm": {
     "name": "#%%\n"
    }
   }
  },
  {
   "cell_type": "code",
   "execution_count": null,
   "outputs": [],
   "source": [
    "median = covariates.median()\n",
    "\n",
    "print(median)"
   ],
   "metadata": {
    "collapsed": false,
    "pycharm": {
     "name": "#%%\n"
    }
   }
  },
  {
   "cell_type": "markdown",
   "source": [
    "The dataframe is "
   ],
   "metadata": {
    "collapsed": false
   }
  },
  {
   "cell_type": "code",
   "execution_count": null,
   "outputs": [],
   "source": [
    "X_train, X_test, Y_train, Y_test = train_test_split(covariates, scores, test_size = 0.25)\n",
    "\n",
    "print(\"Train sample :\", X_train.shape)\n",
    "print(\"Test sample :\", X_test.shape)"
   ],
   "metadata": {
    "collapsed": false,
    "pycharm": {
     "name": "#%%\n"
    }
   }
  },
  {
   "cell_type": "code",
   "execution_count": null,
   "outputs": [],
   "source": [
    "#data = pd.concat([X_train,X_test],ignore_index=True)\n",
    "\n",
    "scaled_features_train = StandardScaler().fit_transform(X_train.values)\n",
    "X_train_s = pd.DataFrame(scaled_features_train, index=X_train.index, columns=X_train.columns)\n",
    "\n",
    "scaled_features_test = StandardScaler().fit_transform(X_test.values)\n",
    "X_test_s = pd.DataFrame(scaled_features_test, index=X_test.index, columns=X_test.columns)\n",
    "\n",
    "scaled_covariates = pd.concat([X_train_s,X_test_s],ignore_index=True)"
   ],
   "metadata": {
    "collapsed": false,
    "pycharm": {
     "name": "#%%\n"
    }
   }
  },
  {
   "cell_type": "code",
   "execution_count": null,
   "outputs": [],
   "source": [
    "median = scaled_covariates.median()\n",
    "std = scaled_covariates.std()\n",
    "\n",
    "figure = plt.figure(figsize=(15,4))\n",
    "axes = figure.add_subplot(111)\n",
    "axes.set_xlabel('covariates')\n",
    "axes.xaxis.set_ticks(range(len(scaled_covariates.columns)))\n",
    "axes.xaxis.set_ticklabels(list(scaled_covariates.columns))\n",
    "axes.scatter(scaled_covariates.columns, median, s=10, c='b', marker=\"s\", label='median')\n",
    "axes.scatter(scaled_covariates.columns, std, s=10, c='r', marker=\"o\", label='std')\n",
    "plt.legend(loc='upper left')\n",
    "plt.title(\"Median and Std of data\")\n",
    "plt.show()"
   ],
   "metadata": {
    "collapsed": false,
    "pycharm": {
     "name": "#%%\n"
    }
   }
  },
  {
   "cell_type": "code",
   "execution_count": null,
   "outputs": [],
   "source": [
    "scaled_df = pd.concat([scaled_covariates, scores], axis=1)\n",
    "scaled_df"
   ],
   "metadata": {
    "collapsed": false,
    "pycharm": {
     "name": "#%%\n"
    }
   }
  },
  {
   "cell_type": "markdown",
   "source": [
    "Lassoooo"
   ],
   "metadata": {
    "collapsed": false
   }
  },
  {
   "cell_type": "code",
   "execution_count": null,
   "outputs": [],
   "source": [
    "df_test = pd.DataFrame()\n",
    "df_coef = pd.DataFrame()"
   ],
   "metadata": {
    "collapsed": false,
    "pycharm": {
     "name": "#%%\n"
    }
   }
  },
  {
   "cell_type": "code",
   "execution_count": null,
   "outputs": [],
   "source": [
    "def mse(y, y_pred):\n",
    "    error = y - y_pred \n",
    "    se = np.sum(error**2) \n",
    "    mse = se/len(y)  \n",
    "    return round(mse,3)\n",
    "\n",
    "def R2(y, y_pred):\n",
    "    error = y - y_pred \n",
    "    se = np.sum(error**2) \n",
    "    SSt = np.sum((y - np.mean(y))**2) \n",
    "    R2 = 1- (se/SSt) \n",
    "    return round(R2,3)"
   ],
   "metadata": {
    "collapsed": false,
    "pycharm": {
     "name": "#%%\n"
    }
   }
  },
  {
   "cell_type": "code",
   "execution_count": null,
   "outputs": [],
   "source": [
    "ols = LinearRegression().fit(X_train_s, Y_train)\n",
    "Y_pred = ols.predict(X_test_s)\n",
    "coef = ols.coef_\n",
    "plt.show()\n",
    "\n",
    "print(\"mse =\", mse(Y_test, Y_pred))\n",
    "print(\"R2 =\", R2(Y_test, Y_pred))\n",
    "\n",
    "df_test[\"OLS\"] = Y_pred\n",
    "df_coef[\"OLS\"] = coef"
   ],
   "metadata": {
    "collapsed": false,
    "pycharm": {
     "name": "#%%\n"
    }
   }
  },
  {
   "cell_type": "code",
   "execution_count": null,
   "outputs": [],
   "source": [
    "df_coef"
   ],
   "metadata": {
    "collapsed": false,
    "pycharm": {
     "name": "#%%\n"
    }
   }
  },
  {
   "cell_type": "code",
   "execution_count": null,
   "outputs": [],
   "source": [
    "sns.heatmap(scaled_covariates.cov())"
   ],
   "metadata": {
    "collapsed": false,
    "pycharm": {
     "name": "#%%\n"
    }
   }
  },
  {
   "cell_type": "code",
   "execution_count": null,
   "outputs": [],
   "source": [
    "U,s,V  = np.linalg.svd(scaled_covariates, full_matrices=True)\n",
    "U.shape, s.shape, V.shape"
   ],
   "metadata": {
    "collapsed": false,
    "pycharm": {
     "name": "#%%\n"
    }
   }
  },
  {
   "cell_type": "code",
   "execution_count": null,
   "outputs": [],
   "source": [
    "\"\"\"print(U[:, :1].shape)\n",
    "PC1 = (U[:, :1]*s)[0]\n",
    "PC2 = (U[:, :1]*s)[1]\n",
    "print(PC1.shape, PC2.shape)\n",
    "\n",
    "plt.figure(figsize=(10,10))\n",
    "plt.scatter(PC1,PC2)\n",
    "plt.title(\"PCA\")\n",
    "plt.xlabel('PC1')\n",
    "plt.ylabel('PC2')\"\"\"\n",
    "\n",
    "U,s,V  = np.linalg.svd(scaled_covariates.cov(), full_matrices=True)\n",
    "PCs = U@np.diag(s)\n",
    "PC1=PCs[:,0]\n",
    "PC2=PCs[:,1]\n",
    "plt.scatter(PC1,PC2)\n"
   ],
   "metadata": {
    "collapsed": false,
    "pycharm": {
     "name": "#%%\n"
    }
   }
  },
  {
   "cell_type": "code",
   "execution_count": null,
   "outputs": [],
   "source": [
    "X_train_pca = X_train_s * U[:,2]\n",
    "ols = LinearRegression().fit(X_train_pca, Y_train)\n",
    "\n",
    "X_test_pca = X_test_s * U[:,2]\n",
    "Y_pred_pca = ols.predict(X_test_pca)\n",
    "\n",
    "print(X_test_s.shape)\n",
    "print(X_train_s.shape)\n",
    "print(Y_train.shape)\n",
    "print(Y_test.shape)\n",
    "\n",
    "print(X_test_pca.shape)\n",
    "print(X_train_pca.shape)\n",
    "\n",
    "\n",
    "coef_pca = ols.coef_\n",
    "plt.show()\n",
    "\n",
    "print(\"mse =\", mse(Y_train, Y_pred_pca))\n",
    "print(\"R2 =\", R2(Y_train, Y_pred_pca))\n",
    "\n",
    "df_test[\"pca_OLS\"] = Y_pred_pca\n",
    "df_coef[\"pca_OLS\"] = coef_pca"
   ],
   "metadata": {
    "collapsed": false,
    "pycharm": {
     "name": "#%%\n"
    }
   }
  },
  {
   "cell_type": "code",
   "execution_count": null,
   "outputs": [],
   "source": [
    "a = np.random.randn(5, 4)\n",
    "u, s, vh = np.linalg.svd(a, full_matrices=True)\n",
    "print(a, \"\\n\")\n",
    "print(u.shape, s.shape, vh.shape)\n",
    "print(u, s, vh)\n",
    "\n",
    "print(np.allclose(a, np.dot(u[:, :6] * s, vh)))"
   ],
   "metadata": {
    "collapsed": false,
    "pycharm": {
     "name": "#%%\n"
    }
   }
  }
 ],
 "metadata": {
  "kernelspec": {
   "display_name": "Python 3",
   "language": "python",
   "name": "python3"
  },
  "language_info": {
   "codemirror_mode": {
    "name": "ipython",
    "version": 3
   },
   "file_extension": ".py",
   "mimetype": "text/x-python",
   "name": "python",
   "nbconvert_exporter": "python",
   "pygments_lexer": "ipython3",
   "version": "3.7.3"
  }
 },
 "nbformat": 4,
 "nbformat_minor": 1
}