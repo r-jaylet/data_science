{
 "cells": [
  {
   "cell_type": "markdown",
   "metadata": {},
   "source": [
    "# SD204 - TP1"
   ]
  },
  {
   "cell_type": "code",
   "execution_count": 1,
   "metadata": {},
   "outputs": [],
   "source": [
    "from scipy.stats import t\n",
    "import numpy as np\n",
    "import pandas as pd\n",
    "import matplotlib.pyplot as plt"
   ]
  },
  {
   "cell_type": "code",
   "execution_count": 2,
   "metadata": {},
   "outputs": [
    {
     "data": {
      "text/html": [
       "<div>\n",
       "<style scoped>\n",
       "    .dataframe tbody tr th:only-of-type {\n",
       "        vertical-align: middle;\n",
       "    }\n",
       "\n",
       "    .dataframe tbody tr th {\n",
       "        vertical-align: top;\n",
       "    }\n",
       "\n",
       "    .dataframe thead th {\n",
       "        text-align: right;\n",
       "    }\n",
       "</style>\n",
       "<table border=\"1\" class=\"dataframe\">\n",
       "  <thead>\n",
       "    <tr style=\"text-align: right;\">\n",
       "      <th></th>\n",
       "      <th>year</th>\n",
       "      <th>gnp</th>\n",
       "      <th>invest</th>\n",
       "      <th>cpi</th>\n",
       "      <th>interest</th>\n",
       "    </tr>\n",
       "  </thead>\n",
       "  <tbody>\n",
       "    <tr>\n",
       "      <th>0</th>\n",
       "      <td>1968</td>\n",
       "      <td>873.4</td>\n",
       "      <td>133.3</td>\n",
       "      <td>82.54</td>\n",
       "      <td>5.16</td>\n",
       "    </tr>\n",
       "    <tr>\n",
       "      <th>1</th>\n",
       "      <td>1969</td>\n",
       "      <td>944.0</td>\n",
       "      <td>149.3</td>\n",
       "      <td>86.79</td>\n",
       "      <td>5.87</td>\n",
       "    </tr>\n",
       "    <tr>\n",
       "      <th>2</th>\n",
       "      <td>1970</td>\n",
       "      <td>992.7</td>\n",
       "      <td>144.2</td>\n",
       "      <td>91.45</td>\n",
       "      <td>5.95</td>\n",
       "    </tr>\n",
       "    <tr>\n",
       "      <th>3</th>\n",
       "      <td>1971</td>\n",
       "      <td>1077.6</td>\n",
       "      <td>166.4</td>\n",
       "      <td>96.01</td>\n",
       "      <td>4.88</td>\n",
       "    </tr>\n",
       "    <tr>\n",
       "      <th>4</th>\n",
       "      <td>1972</td>\n",
       "      <td>1185.9</td>\n",
       "      <td>195.0</td>\n",
       "      <td>100.00</td>\n",
       "      <td>4.50</td>\n",
       "    </tr>\n",
       "  </tbody>\n",
       "</table>\n",
       "</div>"
      ],
      "text/plain": [
       "   year     gnp  invest     cpi  interest\n",
       "0  1968   873.4   133.3   82.54      5.16\n",
       "1  1969   944.0   149.3   86.79      5.87\n",
       "2  1970   992.7   144.2   91.45      5.95\n",
       "3  1971  1077.6   166.4   96.01      4.88\n",
       "4  1972  1185.9   195.0  100.00      4.50"
      ]
     },
     "execution_count": 2,
     "metadata": {},
     "output_type": "execute_result"
    }
   ],
   "source": [
    "data = pd.read_csv(\"./invest.txt\", sep = \" \")\n",
    "data.head()"
   ]
  },
  {
   "cell_type": "code",
   "execution_count": 29,
   "metadata": {},
   "outputs": [
    {
     "data": {
      "image/png": "[encoded data removed]",
      "text/plain": [
       "<Figure size 432x288 with 1 Axes>"
      ]
     },
     "metadata": {
      "needs_background": "light"
     },
     "output_type": "display_data"
    }
   ],
   "source": [
    "plt.plot(data[\"gnp\"], data[\"invest\"], 'o')\n",
    "plt.xlabel(\"GNP\")\n",
    "plt.ylabel(\"invest\")\n",
    "plt.show()"
   ]
  },
  {
   "cell_type": "code",
   "execution_count": 33,
   "metadata": {},
   "outputs": [
    {
     "data": {
      "image/png": "[encoded data removed]",
      "text/plain": [
       "<Figure size 432x288 with 1 Axes>"
      ]
     },
     "metadata": {
      "needs_background": "light"
     },
     "output_type": "display_data"
    }
   ],
   "source": [
    "GNP = np.log(data[\"gnp\"])\n",
    "invest = np.log(data[\"invest\"])\n",
    "plt.plot(GNP, invest, 'o')\n",
    "plt.xlabel(\"GNP\")\n",
    "plt.ylabel(\"invest\")\n",
    "plt.show()"
   ]
  },
  {
   "cell_type": "code",
   "execution_count": 36,
   "metadata": {},
   "outputs": [
    {
     "name": "stdout",
     "output_type": "stream",
     "text": [
      "Intercept :  -1.9635913352301815\n",
      "Slope :  1.015281401598871 \n",
      "\n",
      "15\n",
      "Standart variation of intercept :  0.1677289677260404\n",
      "Standart variation of slope :  0.003067283374269269 \n",
      "\n",
      "Determination coef :  0.9627572956057854\n"
     ]
    }
   ],
   "source": [
    "slope = np.sum((GNP - GNP.mean())*(invest - invest.mean()))/np.sum((GNP - GNP.mean())**2)\n",
    "intercept = invest.mean() - slope * GNP.mean()\n",
    "beta = [intercept, slope]\n",
    "\n",
    "print(\"Intercept : \", beta[0])\n",
    "print(\"Slope : \", beta[1], '\\n')\n",
    "\n",
    "sigma_2 = np.sum((invest - (intercept + slope * GNP))**2)/(len(data)-2)\n",
    "\n",
    "var_intercept = sigma_2 * (1/15 + (GNP.mean()**2)/np.sum((GNP-GNP.mean())**2))\n",
    "var_slope = sigma_2/np.sum((GNP-GNP.mean())**2)\n",
    "var_beta = [var_intercept, var_slope]\n",
    "\n",
    "R2 = np.sum((intercept + slope * GNP - invest.mean())**2)/np.sum((invest - invest.mean())**2)\n",
    "\n",
    "print(\"Standart variation of intercept : \", var_beta[0])\n",
    "print(\"Standart variation of slope : \", var_beta[1], '\\n')\n",
    "print(\"Determination coef : \", R2)"
   ]
  },
  {
   "cell_type": "code",
   "execution_count": 38,
   "metadata": {},
   "outputs": [
    {
     "name": "stdout",
     "output_type": "stream",
     "text": [
      "Statistic test :  18.331984456866678 \n",
      "p-value :  1.1363709973011282e-10\n"
     ]
    }
   ],
   "source": [
    "value = beta[1]/np.sqrt(var_beta[1])\n",
    "p_value = 2 * (1 - t.cdf(value, len(data)-2))\n",
    "\n",
    "print(\"Statistic test : \", value, \"\\np-value : \", p_value)"
   ]
  },
  {
   "cell_type": "code",
   "execution_count": 45,
   "metadata": {},
   "outputs": [
    {
     "name": "stdout",
     "output_type": "stream",
     "text": [
      "Necessary investment estimation :  155.97942793105494\n"
     ]
    }
   ],
   "source": [
    "x = 1000\n",
    "y = beta[0] + beta[1]*np.log(x)\n",
    "print(\"Necessary investment estimation : \", np.exp(y))"
   ]
  },
  {
   "cell_type": "code",
   "execution_count": 50,
   "metadata": {},
   "outputs": [
    {
     "name": "stdout",
     "output_type": "stream",
     "text": [
      "CI =  [146.76664717378003, 165.77050989583185]\n",
      "PI =  [132.22505536429136, 184.0012989268114]\n"
     ]
    }
   ],
   "source": [
    "quantile = t.ppf(0.95, len(data-2))\n",
    "sigma = np.sqrt(sigma_2)\n",
    "coef = 1/len(data) + ((np.log(1000) - GNP.mean())**2)/np.sum((GNP - GNP.mean())**2)\n",
    "c = np.sqrt(coef)\n",
    "p = np.sqrt(1+coef)\n",
    "\n",
    "CI = [0,0]\n",
    "PI = [0,0]\n",
    "\n",
    "for i in range(2):\n",
    "    CI[i] = np.exp(y + 2*(i-0.5)*quantile*sigma*c)\n",
    "    PI[i] = np.exp(y + 2*(i-0.5)*quantile*sigma*p)\n",
    "\n",
    "print(\"CI = \", CI)\n",
    "print(\"PI = \", PI)"
   ]
  },
  {
   "cell_type": "code",
   "execution_count": 54,
   "metadata": {},
   "outputs": [
    {
     "data": {
      "image/png": "[encoded data removed]",
      "text/plain": [
       "<Figure size 432x288 with 1 Axes>"
      ]
     },
     "metadata": {
      "needs_background": "light"
     },
     "output_type": "display_data"
    }
   ],
   "source": [
    "Ci = [[],[]]\n",
    "Pi = [[],[]]\n",
    "\n",
    "gnp = [GNP.min() + k/100 * (GNP.max()-GNP.min()) for k in range(101)]\n",
    "\n",
    "for i in range(101):\n",
    "    coef = 1/len(data) + ((gnp[i] - GNP.mean())**2)/np.sum((GNP - GNP.mean())**2)\n",
    "    c = np.sqrt(coef)\n",
    "    p = np.sqrt(1+coef)\n",
    "    prediction = intercept + slope * gnp[i]\n",
    "    for j in range(2):\n",
    "        Ci[j].append(prediction + 2*(j-0.5)*quantile*sigma*c)\n",
    "        Pi[j].append(prediction + 2*(j-0.5)*quantile*sigma*p)\n",
    "\n",
    "Y = intercept + slope * GNP\n",
    "plt.plot(GNP, invest, 'o', label = \"Data\")\n",
    "\n",
    "plt.plot(GNP, Y, label = \"Predictions\")\n",
    "plt.plot(gnp, Ci[0], color = \"red\")\n",
    "plt.plot(gnp, Ci[1], color = \"red\")\n",
    "plt.plot(gnp, Pi[0], color = \"green\")\n",
    "plt.plot(gnp, Pi[1], color = \"green\")\n",
    "\n",
    "plt.xlabel(\"GNP\")\n",
    "plt.ylabel(\"invest\")\n",
    "plt.legend()\n",
    "plt.show()"
   ]
  },
  {
   "cell_type": "code",
   "execution_count": null,
   "metadata": {},
   "outputs": [],
   "source": []
  }
 ],
 "metadata": {
  "kernelspec": {
   "display_name": "Python 3",
   "language": "python",
   "name": "python3"
  },
  "language_info": {
   "codemirror_mode": {
    "name": "ipython",
    "version": 3
   },
   "file_extension": ".py",
   "mimetype": "text/x-python",
   "name": "python",
   "nbconvert_exporter": "python",
   "pygments_lexer": "ipython3",
   "version": "3.7.3"
  }
 },
 "nbformat": 4,
 "nbformat_minor": 1
}
